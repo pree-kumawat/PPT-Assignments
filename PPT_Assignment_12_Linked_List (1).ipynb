{
  "nbformat": 4,
  "nbformat_minor": 0,
  "metadata": {
    "colab": {
      "provenance": []
    },
    "kernelspec": {
      "name": "python3",
      "display_name": "Python 3"
    },
    "language_info": {
      "name": "python"
    }
  },
  "cells": [
    {
      "cell_type": "markdown",
      "source": [
        "\n",
        "💡 **Question 1**\n",
        "\n",
        "Given a singly linked list, delete **middle** of the linked list. For example, if given linked list is 1->2->**3**->4->5 then linked list should be modified to 1->2->4->5.If there are **even** nodes, then there would be **two middle** nodes, we need to delete the second middle element. For example, if given linked list is 1->2->3->4->5->6 then it should be modified to 1->2->3->5->6.If the input linked list is NULL or has 1 node, then it should return NULL\n",
        "\n",
        "**Example 1:**\n",
        "\n",
        "```\n",
        "Input:\n",
        "LinkedList: 1->2->3->4->5\n",
        "Output:1 2 4 5\n",
        "\n",
        "```\n",
        "\n",
        "**Example 2:**\n",
        "\n",
        "```\n",
        "Input:\n",
        "LinkedList: 2->4->6->7->5->1\n",
        "Output:2 4 6 5 1\n",
        "\n",
        "```"
      ],
      "metadata": {
        "id": "xau4ufgC--BT"
      }
    },
    {
      "cell_type": "code",
      "source": [
        "class ListNode:\n",
        "    def __init__(self, data):\n",
        "        self.data = data\n",
        "        self.next = None\n",
        "\n",
        "\n",
        "def delete_middle_node(head):\n",
        "    if head is None or head.next is None:\n",
        "        return None\n",
        "\n",
        "    slow = head\n",
        "    fast = head\n",
        "    prev = None\n",
        "\n",
        "    while fast is not None and fast.next is not None:\n",
        "        fast = fast.next.next\n",
        "        prev = slow\n",
        "        slow = slow.next\n",
        "\n",
        "    prev.next = slow.next\n",
        "\n",
        "    return head"
      ],
      "metadata": {
        "id": "F2FcDbCij3_m"
      },
      "execution_count": null,
      "outputs": []
    },
    {
      "cell_type": "code",
      "source": [
        "head = ListNode(1)\n",
        "head.next = ListNode(2)\n",
        "head.next.next = ListNode(3)\n",
        "head.next.next.next = ListNode(4)\n",
        "head.next.next.next.next = ListNode(5)\n",
        "\n",
        "head = delete_middle_node(head)\n",
        "while head:\n",
        "    print(head.data, end=\"->\")\n",
        "    head = head.next"
      ],
      "metadata": {
        "colab": {
          "base_uri": "https://localhost:8080/"
        },
        "id": "3jIoQRH8C6fd",
        "outputId": "f8d0b9e1-25b4-4273-86fc-b62e7907f2d1"
      },
      "execution_count": null,
      "outputs": [
        {
          "output_type": "stream",
          "name": "stdout",
          "text": [
            "1->2->4->5->"
          ]
        }
      ]
    },
    {
      "cell_type": "code",
      "source": [
        "# Create the linked list: 2->4->6->7->5->1\n",
        "head = ListNode(2)\n",
        "head.next = ListNode(4)\n",
        "head.next.next = ListNode(6)\n",
        "head.next.next.next = ListNode(7)\n",
        "head.next.next.next.next = ListNode(5)\n",
        "head.next.next.next.next.next = ListNode(1)\n",
        "\n",
        "\n",
        "# Delete the middle node(s)\n",
        "head = delete_middle_node(head)\n",
        "while head:\n",
        "    print(head.data, end=\"->\")\n",
        "    head = head.next"
      ],
      "metadata": {
        "colab": {
          "base_uri": "https://localhost:8080/"
        },
        "id": "ikP9H-vh_074",
        "outputId": "b1222582-7ff7-49c8-ce2c-57d8e4e968cb"
      },
      "execution_count": null,
      "outputs": [
        {
          "output_type": "stream",
          "name": "stdout",
          "text": [
            "2->4->6->5->1->"
          ]
        }
      ]
    },
    {
      "cell_type": "markdown",
      "source": [
        "\n",
        "💡 **Question 2**\n",
        "\n",
        "Given a linked list of **N** nodes. The task is to check if the linked list has a loop. Linked list can contain self loop.\n",
        "\n",
        "**Example 1:**\n",
        "\n",
        "```\n",
        "Input:\n",
        "N = 3\n",
        "value[] = {1,3,4}\n",
        "x(position at which tail is connected) = 2\n",
        "Output:True\n",
        "Explanation:In above test case N = 3.\n",
        "The linked list with nodes N = 3 is\n",
        "given. Then value of x=2 is given which\n",
        "means last node is connected with xth\n",
        "node of linked list. Therefore, there\n",
        "exists a loop.\n",
        "```\n",
        "\n",
        "**Example 2:**\n",
        "\n",
        "```\n",
        "Input:\n",
        "N = 4\n",
        "value[] = {1,8,3,4}\n",
        "x = 0\n",
        "Output:False\n",
        "Explanation:For N = 4 ,x = 0 means\n",
        "then lastNode->next = NULL, then\n",
        "the Linked list does not contains\n",
        "any loop.\n",
        "\n",
        "```"
      ],
      "metadata": {
        "id": "ab1qdAOEAVpi"
      }
    },
    {
      "cell_type": "code",
      "source": [
        "class ListNode:\n",
        "    def __init__(self, val=0, next=None):\n",
        "        self.val = val\n",
        "        self.next = next\n",
        "\n",
        "\n",
        "def has_loop(head):\n",
        "    if head is None or head.next is None:\n",
        "        return False\n",
        "\n",
        "    slow = head\n",
        "    fast = head\n",
        "\n",
        "    while fast is not None and fast.next is not None:\n",
        "        slow = slow.next\n",
        "        fast = fast.next.next\n",
        "\n",
        "        if slow == fast:\n",
        "            return True\n",
        "\n",
        "    return False\n",
        "\n",
        "\n",
        "def create_linked_list(values, x):\n",
        "    if not values:\n",
        "        return None\n",
        "\n",
        "    head = ListNode(values[0])\n",
        "    current = head\n",
        "    tail = None\n",
        "\n",
        "    for i in range(1, len(values)):\n",
        "        node = ListNode(values[i])\n",
        "        current.next = node\n",
        "        current = current.next\n",
        "\n",
        "        if i == x:\n",
        "            tail = node\n",
        "\n",
        "    if tail is not None:\n",
        "        current.next = tail\n",
        "\n",
        "    return head"
      ],
      "metadata": {
        "id": "3GGmj6Q3_77d"
      },
      "execution_count": null,
      "outputs": []
    },
    {
      "cell_type": "code",
      "source": [
        "# Example\n",
        "values = [1, 3, 4]\n",
        "x = 2\n",
        "\n",
        "head = create_linked_list(values, x)\n",
        "print(has_loop(head))"
      ],
      "metadata": {
        "colab": {
          "base_uri": "https://localhost:8080/"
        },
        "id": "Ppc-pzXqGo3D",
        "outputId": "f3e2acd0-a780-4224-9cb0-f5cfc0d47fca"
      },
      "execution_count": null,
      "outputs": [
        {
          "output_type": "stream",
          "name": "stdout",
          "text": [
            "True\n"
          ]
        }
      ]
    },
    {
      "cell_type": "code",
      "source": [
        "values = [1,8,3,4]\n",
        "x = 0\n",
        "\n",
        "head = create_linked_list(values, x)\n",
        "print(has_loop(head))"
      ],
      "metadata": {
        "colab": {
          "base_uri": "https://localhost:8080/"
        },
        "id": "lVBMAf5PFk6g",
        "outputId": "6b369ba7-4db7-4683-e6f6-a26db24dabff"
      },
      "execution_count": null,
      "outputs": [
        {
          "output_type": "stream",
          "name": "stdout",
          "text": [
            "False\n"
          ]
        }
      ]
    },
    {
      "cell_type": "markdown",
      "source": [
        "\n",
        "💡 **Question 3**\n",
        "\n",
        "Given a linked list consisting of **L** nodes and given a number **N**. The task is to find the **N**th node from the end of the linked list.\n",
        "\n",
        "**Example 1:**\n",
        "\n",
        "```\n",
        "Input:\n",
        "N = 2\n",
        "LinkedList: 1->2->3->4->5->6->7->8->9\n",
        "Output:8\n",
        "Explanation:In the first example, there\n",
        "are 9 nodes in linked list and we need\n",
        "to find 2nd node from end. 2nd node\n",
        "from end is 8.\n",
        "\n",
        "```\n",
        "\n",
        "**Example 2:**\n",
        "\n",
        "```\n",
        "Input:\n",
        "N = 5\n",
        "LinkedList: 10->5->100->5\n",
        "Output:-1\n",
        "Explanation:In the second example, there\n",
        "are 4 nodes in the linked list and we\n",
        "need to find 5th from the end. Since 'n'\n",
        "is more than the number of nodes in the\n",
        "linked list, the output is -1.\n",
        "\n",
        "```"
      ],
      "metadata": {
        "id": "VASkyzJ_HPUe"
      }
    },
    {
      "cell_type": "code",
      "source": [
        "class ListNode:\n",
        "    def __init__(self, val=0, next=None):\n",
        "        self.val = val\n",
        "        self.next = next\n",
        "\n",
        "\n",
        "def get_nth_from_end(head, n):\n",
        "    if head is None or n <= 0:\n",
        "        return None\n",
        "\n",
        "    slow = head\n",
        "    fast = head\n",
        "\n",
        "    # Move the fast pointer n nodes ahead\n",
        "    for _ in range(n):\n",
        "        if fast is None:\n",
        "            return None\n",
        "        fast = fast.next\n",
        "\n",
        "    # Move both pointers together until fast reaches the end\n",
        "    while fast is not None:\n",
        "        slow = slow.next\n",
        "        fast = fast.next\n",
        "\n",
        "    if slow is not None:\n",
        "        return slow.val\n",
        "    else:\n",
        "        return None\n"
      ],
      "metadata": {
        "id": "bxj-HqXOGymp"
      },
      "execution_count": null,
      "outputs": []
    },
    {
      "cell_type": "code",
      "source": [
        "# Example\n",
        "head = ListNode(1)\n",
        "head.next = ListNode(2)\n",
        "head.next.next = ListNode(3)\n",
        "head.next.next.next = ListNode(4)\n",
        "head.next.next.next.next = ListNode(5)\n",
        "head.next.next.next.next.next = ListNode(6)\n",
        "head.next.next.next.next.next.next = ListNode(7)\n",
        "head.next.next.next.next.next.next.next = ListNode(8)\n",
        "head.next.next.next.next.next.next.next.next = ListNode(9)\n",
        "\n",
        "n = 2\n",
        "result = get_nth_from_end(head, n)\n",
        "print(result)"
      ],
      "metadata": {
        "colab": {
          "base_uri": "https://localhost:8080/"
        },
        "id": "1HuISkqqHsiQ",
        "outputId": "9e16adbb-c0bb-497a-eee3-9f96d8193b41"
      },
      "execution_count": null,
      "outputs": [
        {
          "output_type": "stream",
          "name": "stdout",
          "text": [
            "8\n"
          ]
        }
      ]
    },
    {
      "cell_type": "code",
      "source": [
        "head = ListNode(10)\n",
        "head.next = ListNode(5)\n",
        "head.next.next = ListNode(100)\n",
        "head.next.next.next = ListNode(5)\n",
        "\n",
        "n = 5\n",
        "result = get_nth_from_end(head, n)\n",
        "print(result)"
      ],
      "metadata": {
        "colab": {
          "base_uri": "https://localhost:8080/"
        },
        "id": "6tMCJFpKHywt",
        "outputId": "ef8352b9-a6f3-41ac-dbea-b7f9d3483b43"
      },
      "execution_count": null,
      "outputs": [
        {
          "output_type": "stream",
          "name": "stdout",
          "text": [
            "None\n"
          ]
        }
      ]
    },
    {
      "cell_type": "markdown",
      "source": [
        "\n",
        "💡 **Question 4**\n",
        "\n",
        "Given a singly linked list of characters, write a function that returns true if the given list is a palindrome, else false.\n",
        "\n",
        "Examples:\n",
        "> Input: R->A->D->A->R->NULL\n",
        ">\n",
        ">\n",
        "> **Output:** Yes\n",
        ">\n",
        "> **Input:** C->O->D->E->NULL\n",
        ">\n",
        "> **Output:** No\n",
        ">"
      ],
      "metadata": {
        "id": "Us4h87Z3IYDW"
      }
    },
    {
      "cell_type": "code",
      "source": [
        "class ListNode:\n",
        "    def __init__(self, val=0, next=None):\n",
        "        self.val = val\n",
        "        self.next = next\n",
        "\n",
        "\n",
        "def is_palindrome(head):\n",
        "    if head is None or head.next is None:\n",
        "        return True\n",
        "\n",
        "    stack = []\n",
        "    current = head\n",
        "\n",
        "    # Traverse the linked list and store characters in a stack\n",
        "    while current is not None:\n",
        "        stack.append(current.val)\n",
        "        current = current.next\n",
        "\n",
        "    # Traverse the linked list again and compare characters with stack top\n",
        "    current = head\n",
        "    while current is not None:\n",
        "        if current.val != stack.pop():\n",
        "            return False\n",
        "        current = current.next\n",
        "\n",
        "    return True\n"
      ],
      "metadata": {
        "id": "QO7Cc6RhJl0G"
      },
      "execution_count": null,
      "outputs": []
    },
    {
      "cell_type": "code",
      "source": [
        "# Example\n",
        "# Input: R -> A -> D -> A -> R -> None\n",
        "head1 = ListNode('R')\n",
        "head1.next = ListNode('A')\n",
        "head1.next.next = ListNode('D')\n",
        "head1.next.next.next = ListNode('A')\n",
        "head1.next.next.next.next = ListNode('R')\n",
        "print(is_palindrome(head1))\n",
        "# Output: True\n",
        "\n",
        "# Input: C -> O -> D -> E -> None\n",
        "head2 = ListNode('C')\n",
        "head2.next = ListNode('O')\n",
        "head2.next.next = ListNode('D')\n",
        "head2.next.next.next = ListNode('E')\n",
        "print(is_palindrome(head2))\n",
        "# Output: False\n",
        "\n"
      ],
      "metadata": {
        "colab": {
          "base_uri": "https://localhost:8080/"
        },
        "id": "kTXeyFh7IySi",
        "outputId": "3168b8f2-bd97-4c30-9c3c-4a124752cc75"
      },
      "execution_count": null,
      "outputs": [
        {
          "output_type": "stream",
          "name": "stdout",
          "text": [
            "True\n",
            "False\n"
          ]
        }
      ]
    },
    {
      "cell_type": "markdown",
      "source": [
        "\n",
        "💡 **Question 5**\n",
        "\n",
        "Given a linked list of **N** nodes such that it may contain a loop.\n",
        "\n",
        "A loop here means that the last node of the link list is connected to the node at position X(1-based index). If the link list does not have any loop, X=0.\n",
        "\n",
        "Remove the loop from the linked list, if it is present, i.e. unlink the last node which is forming the loop.\n",
        "\n",
        "**Example 1:**\n",
        "\n",
        "```\n",
        "Input:\n",
        "N = 3\n",
        "value[] = {1,3,4}\n",
        "X = 2\n",
        "Output:1\n",
        "Explanation:The link list looks like\n",
        "1 -> 3 -> 4\n",
        "     ^    |\n",
        "     |____|\n",
        "A loop is present. If you remove it\n",
        "successfully, the answer will be 1.\n",
        "\n",
        "```\n",
        "\n",
        "**Example 2:**\n",
        "\n",
        "```\n",
        "Input:\n",
        "N = 4\n",
        "value[] = {1,8,3,4}\n",
        "X = 0\n",
        "Output:1\n",
        "Explanation:The Linked list does not\n",
        "contains any loop.\n",
        "```\n",
        "\n",
        "**Example 3:**\n",
        "\n",
        "```\n",
        "Input:\n",
        "N = 4\n",
        "value[] = {1,2,3,4}\n",
        "X = 1\n",
        "Output:1\n",
        "Explanation:The link list looks like\n",
        "1 -> 2 -> 3 -> 4\n",
        "^              |\n",
        "|______________|\n",
        "A loop is present.\n",
        "If you remove it successfully,\n",
        "the answer will be 1.\n",
        "\n",
        "```"
      ],
      "metadata": {
        "id": "Gmrsa0nfJ91x"
      }
    },
    {
      "cell_type": "code",
      "source": [
        "class ListNode:\n",
        "\n",
        "      def remove_loop(head):\n",
        "          slow = fast = head\n",
        "          while fast and fast.next:\n",
        "             slow = slow.next\n",
        "             fast = fast.next.next\n",
        "             if slow == fast:\n",
        "                 break\n",
        "\n",
        "          if not fast:\n",
        "             return head\n",
        "\n",
        "        # Find the start of the loop\n",
        "          slow = head\n",
        "          while slow != fast.next:\n",
        "              slow = slow.next\n",
        "              fast = fast.next\n",
        "\n",
        "        # Break the loop by making the next pointer of the start of the loop point to None\n",
        "          fast.next = None\n",
        "\n",
        "          return head\n"
      ],
      "metadata": {
        "id": "-IQUmatBOk8s"
      },
      "execution_count": null,
      "outputs": []
    },
    {
      "cell_type": "markdown",
      "source": [
        "\n",
        "💡 **Question 6**\n",
        "\n",
        "Given a linked list and two integers M and N. Traverse the linked list such that you retain M nodes then delete next N nodes, continue the same till end of the linked list.\n",
        "\n",
        "Difficulty Level: Rookie\n",
        "\n",
        "**Examples**:\n",
        "\n",
        "```\n",
        "Input:\n",
        "M = 2, N = 2\n",
        "Linked List: 1->2->3->4->5->6->7->8\n",
        "Output:\n",
        "Linked List: 1->2->5->6\n",
        "\n",
        "Input:\n",
        "M = 3, N = 2\n",
        "Linked List: 1->2->3->4->5->6->7->8->9->10\n",
        "Output:\n",
        "Linked List: 1->2->3->6->7->8\n",
        "\n",
        "Input:\n",
        "M = 1, N = 1\n",
        "Linked List: 1->2->3->4->5->6->7->8->9->10\n",
        "Output:\n",
        "Linked List: 1->3->5->7->9\n",
        "\n",
        "```"
      ],
      "metadata": {
        "id": "LWtjUnE7LK1l"
      }
    },
    {
      "cell_type": "code",
      "source": [
        "class ListNode:\n",
        "    def __init__(self, val=0, next=None):\n",
        "        self.val = val\n",
        "        self.next = next\n",
        "\n",
        "\n",
        "def retain_delete(head, M, N):\n",
        "    if M == 0 or N == 0:\n",
        "        return head\n",
        "\n",
        "    current = head\n",
        "    previous = None\n",
        "\n",
        "    while current:\n",
        "        # Retain M nodes\n",
        "        for _ in range(M):\n",
        "            if not current:\n",
        "                return head\n",
        "            previous = current\n",
        "            current = current.next\n",
        "\n",
        "        # Delete N nodes\n",
        "        for _ in range(N):\n",
        "            if not current:\n",
        "                break\n",
        "            current = current.next\n",
        "\n",
        "        # Update the next pointer of the previous node\n",
        "        previous.next = current\n",
        "\n",
        "    return head\n"
      ],
      "metadata": {
        "id": "i3r1Sbl8ik9u"
      },
      "execution_count": null,
      "outputs": []
    },
    {
      "cell_type": "code",
      "source": [
        "# Example 1\n",
        "# M = 2, N = 2\n",
        "# Linked List: 1 -> 2 -> 3 -> 4 -> 5 -> 6 -> 7 -> 8\n",
        "head1 = ListNode(1)\n",
        "head1.next = ListNode(2)\n",
        "head1.next.next = ListNode(3)\n",
        "head1.next.next.next = ListNode(4)\n",
        "head1.next.next.next.next = ListNode(5)\n",
        "head1.next.next.next.next.next = ListNode(6)\n",
        "head1.next.next.next.next.next.next = ListNode(7)\n",
        "head1.next.next.next.next.next.next.next = ListNode(8)\n",
        "\n",
        "retain_delete(head1, 2, 2)\n",
        "\n",
        "# Output: Linked List: 1 -> 2 -> 5 -> 6\n",
        "current1 = head1\n",
        "while current1:\n",
        "    print(current1.val, end=\" -> \")\n",
        "    current1 = current1.next\n",
        "\n",
        "print(\"None\")\n",
        "\n",
        "\n",
        "# Example 2\n",
        "# M = 3, N = 2\n",
        "# Linked List: 1 -> 2 -> 3 -> 4 -> 5 -> 6 -> 7 -> 8 -> 9 -> 10\n",
        "head2 = ListNode(1)\n",
        "head2.next = ListNode(2)\n",
        "head2.next.next = ListNode(3)\n",
        "head2.next.next.next = ListNode(4)\n",
        "head2.next.next.next.next = ListNode(5)\n",
        "head2.next.next.next.next.next = ListNode(6)\n",
        "head2.next.next.next.next.next.next = ListNode(7)\n",
        "head2.next.next.next.next.next.next.next = ListNode(8)\n",
        "head2.next.next.next.next.next.next.next.next = ListNode(9)\n",
        "head2.next.next.next.next.next.next.next.next.next = ListNode(10)\n",
        "\n",
        "retain_delete(head2, 3, 2)\n",
        "\n",
        "current2 = head2\n",
        "while current2:\n",
        "    print(current2.val, end=\" -> \")\n",
        "    current2 = current2.next\n",
        "\n",
        "print(\"None\")\n",
        "\n",
        "# Output: Linked List: 1 -> 2 -> 3 -> 6 -> 7 ->\n",
        "\n",
        "# Example 3\n",
        "# M = 1, N = 1\n",
        "# Linked List: 1 -> 2 -> 3 -> 4 -> 5 -> 6 -> 7 -> 8 -> 9 -> 10\n",
        "head3 = ListNode(1)\n",
        "head3.next = ListNode(2)\n",
        "head3.next.next = ListNode(3)\n",
        "head3.next.next.next = ListNode(4)\n",
        "head3.next.next.next.next = ListNode(5)\n",
        "head3.next.next.next.next.next = ListNode(6)\n",
        "head3.next.next.next.next.next.next = ListNode(7)\n",
        "head3.next.next.next.next.next.next.next = ListNode(8)\n",
        "head3.next.next.next.next.next.next.next.next = ListNode(9)\n",
        "head3.next.next.next.next.next.next.next.next.next = ListNode(10)\n",
        "\n",
        "retain_delete(head3, 1, 1)\n",
        "\n",
        "current3 = head3\n",
        "while current3:\n",
        "    print(current3.val, end=\" -> \")\n",
        "    current3 = current3.next\n",
        "\n",
        "print(\"None\")\n",
        "\n"
      ],
      "metadata": {
        "colab": {
          "base_uri": "https://localhost:8080/"
        },
        "id": "e3t-H_v7fLZC",
        "outputId": "e8264e31-c4e4-412f-8a87-182639e41449"
      },
      "execution_count": null,
      "outputs": [
        {
          "output_type": "stream",
          "name": "stdout",
          "text": [
            "1 -> 2 -> 5 -> 6 -> None\n",
            "1 -> 2 -> 3 -> 6 -> 7 -> 8 -> None\n",
            "1 -> 3 -> 5 -> 7 -> 9 -> None\n"
          ]
        }
      ]
    },
    {
      "cell_type": "markdown",
      "source": [
        "\n",
        "💡 **Question 7**\n",
        "\n",
        "Given two linked lists, insert nodes of second list into first list at alternate positions of first list.\n",
        "For example, if first list is 5->7->17->13->11 and second is 12->10->2->4->6, the first list should become 5->12->7->10->17->2->13->4->11->6 and second list should become empty. The nodes of second list should only be inserted when there are positions available. For example, if the first list is 1->2->3 and second list is 4->5->6->7->8, then first list should become 1->4->2->5->3->6 and second list to 7->8.\n",
        "\n",
        "Use of extra space is not allowed (Not allowed to create additional nodes), i.e., insertion must be done in-place. Expected time complexity is O(n) where n is number of nodes in first list.\n"
      ],
      "metadata": {
        "id": "_yh9ap4ahCsl"
      }
    },
    {
      "cell_type": "code",
      "source": [
        "class ListNode:\n",
        "    def __init__(self, val=0, next=None):\n",
        "        self.val = val\n",
        "        self.next = next\n",
        "\n",
        "\n",
        "def merge_alternate(first_head, second_head):\n",
        "    if not first_head:\n",
        "        return second_head\n",
        "    if not second_head:\n",
        "        return first_head\n",
        "\n",
        "    first_current = first_head\n",
        "    second_current = second_head\n",
        "\n",
        "    while first_current and second_current:\n",
        "        first_next = first_current.next\n",
        "        second_next = second_current.next\n",
        "\n",
        "        first_current.next = second_current\n",
        "        second_current.next = first_next\n",
        "\n",
        "        first_current = first_next\n",
        "        second_current = second_next\n",
        "\n",
        "    if second_current:\n",
        "        # Append remaining nodes of the second list to the end of the first list\n",
        "        first_current.next = second_current\n",
        "\n",
        "    # Empty the second list\n",
        "    second_head = None\n",
        "\n",
        "    return first_head\n"
      ],
      "metadata": {
        "id": "79Af4EnJfOUf"
      },
      "execution_count": 4,
      "outputs": []
    },
    {
      "cell_type": "code",
      "source": [
        "# Example\n",
        "# First List: 5 -> 7 -> 17 -> 13 -> 11\n",
        "# Second List: 12 -> 10 -> 2 -> 4 -> 6\n",
        "first_head1 = ListNode(5)\n",
        "first_head1.next = ListNode(7)\n",
        "first_head1.next.next = ListNode(17)\n",
        "first_head1.next.next.next = ListNode(13)\n",
        "first_head1.next.next.next.next = ListNode(11)\n",
        "\n",
        "second_head1 = ListNode(12)\n",
        "second_head1.next = ListNode(10)\n",
        "second_head1.next.next = ListNode(2)\n",
        "second_head1.next.next.next = ListNode(4)\n",
        "second_head1.next.next.next.next = ListNode(6)\n",
        "\n",
        "merged_head1 = merge_alternate(first_head1, second_head1)\n",
        "\n",
        "# Output: Linked List 1: 5 -> 12 -> 7 -> 10 -> 17 -> 2 -> 13 -> 4 -> 11 -> 6\n",
        "# Output: Linked List 2: None\n",
        "current1 = merged_head1\n",
        "while current1:\n",
        "    print(current1.val, end=\" -> \")\n",
        "    current1 = current1.next\n",
        "print(\"None\")\n"
      ],
      "metadata": {
        "colab": {
          "base_uri": "https://localhost:8080/"
        },
        "id": "hY5tY2fB_RmK",
        "outputId": "26a44d01-50bc-4e08-88aa-58cf8b0cc802"
      },
      "execution_count": 5,
      "outputs": [
        {
          "output_type": "stream",
          "name": "stdout",
          "text": [
            "5 -> 12 -> 7 -> 10 -> 17 -> 2 -> 13 -> 4 -> 11 -> 6 -> None\n"
          ]
        }
      ]
    },
    {
      "cell_type": "markdown",
      "source": [
        "\n",
        "💡 **Question 8**\n",
        "\n",
        "Given a singly linked list, find if the linked list is [circular](https://www.geeksforgeeks.org/circular-linked-list/amp/) or not.\n",
        "\n",
        "> A linked list is called circular if it is not NULL-terminated and all nodes are connected in the form of a cycle. Below is an example of a circular linked list.\n"
      ],
      "metadata": {
        "id": "Ob6djrDj-lcX"
      }
    },
    {
      "cell_type": "code",
      "source": [
        "class ListNode:\n",
        "    def __init__(self, val=0, next=None):\n",
        "        self.val = val\n",
        "        self.next = next\n",
        "\n",
        "\n",
        "def is_circular(head):\n",
        "    if not head:\n",
        "        return False\n",
        "\n",
        "    slow = head\n",
        "    fast = head\n",
        "\n",
        "    while fast and fast.next:\n",
        "        slow = slow.next\n",
        "        fast = fast.next.next\n",
        "\n",
        "        if slow == fast:\n",
        "            return True\n",
        "\n",
        "    return False\n"
      ],
      "metadata": {
        "id": "HgU5HgZNlSpO"
      },
      "execution_count": 1,
      "outputs": []
    },
    {
      "cell_type": "code",
      "source": [
        "# Example\n",
        "# Circular Linked List: 1 -> 2 -> 3 -> 4 -> 5 -> 2 (points back to node 2)\n",
        "head = ListNode(1)\n",
        "head.next = ListNode(2)\n",
        "head.next.next = ListNode(3)\n",
        "head.next.next.next = ListNode(4)\n",
        "head.next.next.next.next = ListNode(5)\n",
        "head.next.next.next.next.next = head.next\n",
        "\n",
        "is_circular(head)\n",
        "# Output: True\n"
      ],
      "metadata": {
        "colab": {
          "base_uri": "https://localhost:8080/"
        },
        "id": "yyBvx2Y_-6W8",
        "outputId": "b0300bf6-e22a-4133-fd98-3514a8c5b03d"
      },
      "execution_count": 2,
      "outputs": [
        {
          "output_type": "execute_result",
          "data": {
            "text/plain": [
              "True"
            ]
          },
          "metadata": {},
          "execution_count": 2
        }
      ]
    },
    {
      "cell_type": "code",
      "source": [],
      "metadata": {
        "id": "kB4064hg_Gx5"
      },
      "execution_count": null,
      "outputs": []
    }
  ]
}