{
  "nbformat": 4,
  "nbformat_minor": 0,
  "metadata": {
    "colab": {
      "provenance": []
    },
    "kernelspec": {
      "name": "python3",
      "display_name": "Python 3"
    },
    "language_info": {
      "name": "python"
    }
  },
  "cells": [
    {
      "cell_type": "markdown",
      "source": [
        "\n",
        "💡 **Question 1**\n",
        "\n",
        "Given an integer `n`, return *`true` if it is a power of two. Otherwise, return `false`*.\n",
        "\n",
        "An integer `n` is a power of two, if there exists an integer `x` such that `n == 2x`.\n",
        "\n",
        "**Example 1:**\n",
        "Input: n = 1 \n",
        "\n",
        "Output: true\n",
        "\n",
        "**Example 2:**\n",
        "Input: n = 16 \n",
        "\n",
        "Output: true\n",
        "\n",
        "**Example 3:**\n",
        "Input: n = 3 \n",
        "\n",
        "Output: false"
      ],
      "metadata": {
        "id": "lPSY8GKhPZHN"
      }
    },
    {
      "cell_type": "code",
      "source": [
        "def isPowerOfTwo(n):\n",
        "    if n <= 0:\n",
        "        return False\n",
        "\n",
        "    while n > 1:\n",
        "        if n % 2 != 0:\n",
        "            return False\n",
        "        n //= 2\n",
        "\n",
        "    return True\n"
      ],
      "metadata": {
        "id": "5nHxcorcPhYi"
      },
      "execution_count": 1,
      "outputs": []
    },
    {
      "cell_type": "code",
      "source": [
        "print(isPowerOfTwo(1))  # Output: True\n",
        "print(isPowerOfTwo(16))  # Output: True\n",
        "print(isPowerOfTwo(3))  # Output: False\n"
      ],
      "metadata": {
        "colab": {
          "base_uri": "https://localhost:8080/"
        },
        "id": "Nf6usgPuQA_L",
        "outputId": "efe4947d-aa82-4f0f-87ee-f0741ece0b99"
      },
      "execution_count": 2,
      "outputs": [
        {
          "output_type": "stream",
          "name": "stdout",
          "text": [
            "True\n",
            "True\n",
            "False\n"
          ]
        }
      ]
    },
    {
      "cell_type": "markdown",
      "source": [
        "\n",
        "💡 **Question 2**\n",
        "\n",
        "Given a number n, find the sum of the first natural numbers.\n",
        "\n",
        "**Example 1:**\n",
        "\n",
        "Input: n = 3 \n",
        "\n",
        "Output: 6\n",
        "\n",
        "**Example 2:**\n",
        "\n",
        "Input  : 5 \n",
        "\n",
        "Output : 15\n"
      ],
      "metadata": {
        "id": "LuVVNt7gQWNl"
      }
    },
    {
      "cell_type": "code",
      "source": [
        "def sumOfFirstN(n):\n",
        "    return (n * (n + 1)) // 2\n"
      ],
      "metadata": {
        "id": "8lmibPJjQHMH"
      },
      "execution_count": 3,
      "outputs": []
    },
    {
      "cell_type": "code",
      "source": [
        "def sumOfFirstN(n):\n",
        "    if n == 0:\n",
        "        return 0\n",
        "    else:\n",
        "        return n + sumOfFirstN(n - 1)\n"
      ],
      "metadata": {
        "id": "tZqOXZiVXjkz"
      },
      "execution_count": 15,
      "outputs": []
    },
    {
      "cell_type": "code",
      "source": [
        "print(sumOfFirstN(3))  # Output: 6\n",
        "print(sumOfFirstN(5))  # Output: 15\n"
      ],
      "metadata": {
        "colab": {
          "base_uri": "https://localhost:8080/"
        },
        "id": "zPqMtQ-5QtxQ",
        "outputId": "55121de4-29aa-48e5-e4ee-3c0e7dc43d4a"
      },
      "execution_count": 16,
      "outputs": [
        {
          "output_type": "stream",
          "name": "stdout",
          "text": [
            "6\n",
            "15\n"
          ]
        }
      ]
    },
    {
      "cell_type": "markdown",
      "source": [
        "\n",
        "💡 **Question 3**\n",
        "\n",
        "****Given a positive integer, N. Find the factorial of N. \n",
        "\n",
        "**Example 1:**\n",
        "\n",
        "Input: N = 5 \n",
        "\n",
        "Output: 120\n",
        "\n",
        "**Example 2:**\n",
        "\n",
        "Input: N = 4\n",
        "\n",
        "Output: 24"
      ],
      "metadata": {
        "id": "WDCjRUzWRIsl"
      }
    },
    {
      "cell_type": "code",
      "source": [
        "def factorial(N):\n",
        "    result = 1\n",
        "    for i in range(1, N + 1):\n",
        "        result *= i\n",
        "    return result\n"
      ],
      "metadata": {
        "id": "V7BLBHM7Qwrq"
      },
      "execution_count": 5,
      "outputs": []
    },
    {
      "cell_type": "code",
      "source": [
        "print(factorial(5))  # Output: 120\n",
        "print(factorial(4))  # Output: 24\n"
      ],
      "metadata": {
        "colab": {
          "base_uri": "https://localhost:8080/"
        },
        "id": "LO493c7pRPdj",
        "outputId": "de8c7586-0ee6-405c-8d68-be01bf61540d"
      },
      "execution_count": 6,
      "outputs": [
        {
          "output_type": "stream",
          "name": "stdout",
          "text": [
            "120\n",
            "24\n"
          ]
        }
      ]
    },
    {
      "cell_type": "markdown",
      "source": [
        "\n",
        "💡 **Question 4**\n",
        "\n",
        "Given a number N and a power P, the task is to find the exponent of this number raised to the given power, i.e. N^P.\n",
        "\n",
        "**Example 1 :** \n",
        "\n",
        "Input: N = 5, P = 2\n",
        "\n",
        "Output: 25\n",
        "\n",
        "**Example 2 :**\n",
        "Input: N = 2, P = 5\n",
        "\n",
        "Output: 32"
      ],
      "metadata": {
        "id": "u3L0c_ZHRhxF"
      }
    },
    {
      "cell_type": "code",
      "source": [
        "def exponentiate(N, P):\n",
        "    result = N ** P\n",
        "    return result\n"
      ],
      "metadata": {
        "id": "6KXXe0FzRR-L"
      },
      "execution_count": 7,
      "outputs": []
    },
    {
      "cell_type": "code",
      "source": [
        "print(exponentiate(5, 2))  # Output: 25\n",
        "print(exponentiate(2, 5))  # Output: 32\n"
      ],
      "metadata": {
        "colab": {
          "base_uri": "https://localhost:8080/"
        },
        "id": "gm8CLTdORvxG",
        "outputId": "124c1151-466f-42bb-c5b9-61c9ab3cae8c"
      },
      "execution_count": 8,
      "outputs": [
        {
          "output_type": "stream",
          "name": "stdout",
          "text": [
            "25\n",
            "32\n"
          ]
        }
      ]
    },
    {
      "cell_type": "markdown",
      "source": [
        "\n",
        "💡 **Question 5**\n",
        "\n",
        "Given an array of integers **arr**, the task is to find maximum element of that array using recursion.\n",
        "\n",
        "**Example 1:**\n",
        "\n",
        "Input: arr = {1, 4, 3, -5, -4, 8, 6};\n",
        "Output: 8\n",
        "\n",
        "**Example 2:**\n",
        "\n",
        "Input: arr = {1, 4, 45, 6, 10, -8};\n",
        "Output: 45"
      ],
      "metadata": {
        "id": "A1_mxmTGSHXX"
      }
    },
    {
      "cell_type": "code",
      "source": [
        "def findMax(arr, n):\n",
        "    if n == 1:\n",
        "        return arr[0]\n",
        "    else:\n",
        "        return max(arr[n - 1], findMax(arr, n - 1))\n",
        "\n",
        "# Test the function\n",
        "arr1 = [1, 4, 3, -5, -4, 8, 6]\n",
        "print(findMax(arr1, len(arr1)))  # Output: 8\n",
        "\n",
        "arr2 = [1, 4, 45, 6, 10, -8]\n",
        "print(findMax(arr2, len(arr2)))  # Output: 45\n"
      ],
      "metadata": {
        "colab": {
          "base_uri": "https://localhost:8080/"
        },
        "id": "j1IlwIdiSMdj",
        "outputId": "86556840-0df9-43b9-ba1a-97f004796e2f"
      },
      "execution_count": 9,
      "outputs": [
        {
          "output_type": "stream",
          "name": "stdout",
          "text": [
            "8\n",
            "45\n"
          ]
        }
      ]
    },
    {
      "cell_type": "markdown",
      "source": [
        "\n",
        "💡 **Question 6**\n",
        "\n",
        "Given first term (a), common difference (d) and a integer N of the Arithmetic Progression series, the task is to find Nth term of the series.\n",
        "\n",
        "**Example 1:**\n",
        "\n",
        "Input : a = 2 d = 1 N = 5\n",
        "Output : 6\n",
        "The 5th term of the series is : 6\n",
        "\n",
        "**Example 2:**\n",
        "\n",
        "Input : a = 5 d = 2 N = 10\n",
        "Output : 23\n",
        "The 10th term of the series is : 23"
      ],
      "metadata": {
        "id": "b7FyvCQ2TutK"
      }
    },
    {
      "cell_type": "code",
      "source": [
        "def findNthTerm(a, d, N):\n",
        "    if N == 1:\n",
        "        return a\n",
        "    else:\n",
        "        return findNthTerm(a + d, d, N - 1)\n",
        "\n",
        "# Test the function\n",
        "print(findNthTerm(2, 1, 5))  # Output: 6\n",
        "print(findNthTerm(5, 2, 10))  # Output: 23\n"
      ],
      "metadata": {
        "colab": {
          "base_uri": "https://localhost:8080/"
        },
        "id": "2zeDtp8sSQAG",
        "outputId": "2da08e01-fba4-43c3-bd7b-42b07a0e4ae4"
      },
      "execution_count": 10,
      "outputs": [
        {
          "output_type": "stream",
          "name": "stdout",
          "text": [
            "6\n",
            "23\n"
          ]
        }
      ]
    },
    {
      "cell_type": "markdown",
      "source": [
        "\n",
        "💡 **Question 7**\n",
        "\n",
        "Given a string S, the task is to write a program to print all permutations of a given string.\n",
        "\n",
        "**Example 1:**\n",
        "\n",
        "***Input:***\n",
        "\n",
        "*S = “ABC”*\n",
        "\n",
        "***Output:***\n",
        "\n",
        "*“ABC”, “ACB”, “BAC”, “BCA”, “CBA”, “CAB”*\n",
        "\n",
        "**Example 2:**\n",
        "\n",
        "***Input:***\n",
        "\n",
        "*S = “XY”*\n",
        "\n",
        "***Output:***\n",
        "\n",
        "*“XY”, “YX”*"
      ],
      "metadata": {
        "id": "jul9VrfmU7VS"
      }
    },
    {
      "cell_type": "code",
      "source": [
        "def permute(S):\n",
        "    \n",
        "    if len(S) <= 1:\n",
        "        return [S]\n",
        "      \n",
        "    permutations = []\n",
        "\n",
        "    for i in range(len(S)):\n",
        "        c = S[i]\n",
        "\n",
        "        remaining_chars = S[:i] + S[i + 1:]\n",
        "        remaining_permutations = permute(remaining_chars)\n",
        "\n",
        "        # Insert the current character at every position in each permutation\n",
        "        for permutation in remaining_permutations:\n",
        "            permutations.append(c + permutation)\n",
        "\n",
        "    return permutations\n",
        "\n",
        "# Test the function\n",
        "S1 = \"ABC\"\n",
        "print(permute(S1))  \n",
        "\n",
        "S2 = \"XY\"\n",
        "print(permute(S2)) \n"
      ],
      "metadata": {
        "colab": {
          "base_uri": "https://localhost:8080/"
        },
        "id": "a17jMGNsVJsl",
        "outputId": "1066c9b5-90e0-4865-80aa-55962fa8fc9c"
      },
      "execution_count": 13,
      "outputs": [
        {
          "output_type": "stream",
          "name": "stdout",
          "text": [
            "['ABC', 'ACB', 'BAC', 'BCA', 'CAB', 'CBA']\n",
            "['XY', 'YX']\n"
          ]
        }
      ]
    },
    {
      "cell_type": "markdown",
      "source": [
        "\n",
        "💡 **Question 8**\n",
        "\n",
        "Given an array, find a product of all array elements.\n",
        "\n",
        "**Example 1:**\n",
        "\n",
        "Input  : arr[] = {1, 2, 3, 4, 5}\n",
        "Output : 120\n",
        "**Example 2:**\n",
        "\n",
        "Input  : arr[] = {1, 6, 3}\n",
        "Output : 18"
      ],
      "metadata": {
        "id": "6jUuOwKwWB7v"
      }
    },
    {
      "cell_type": "code",
      "source": [
        "def productOfArray(arr, n):\n",
        "    if n == 0:\n",
        "        return 1\n",
        "    else:\n",
        "        return arr[n - 1] * productOfArray(arr, n - 1)\n",
        "\n",
        "# Test the function\n",
        "arr1 = [1, 2, 3, 4, 5]\n",
        "print(productOfArray(arr1, len(arr1)))  # Output: 120\n",
        "\n",
        "arr2 = [1, 6, 3]\n",
        "print(productOfArray(arr2, len(arr2)))  # Output: 18\n"
      ],
      "metadata": {
        "colab": {
          "base_uri": "https://localhost:8080/"
        },
        "id": "BIjRMBVVVYMk",
        "outputId": "57ad37d9-5108-4c2f-f9b3-51bd918750c5"
      },
      "execution_count": 14,
      "outputs": [
        {
          "output_type": "stream",
          "name": "stdout",
          "text": [
            "120\n",
            "18\n"
          ]
        }
      ]
    },
    {
      "cell_type": "code",
      "source": [],
      "metadata": {
        "id": "aajXTLhrWKh6"
      },
      "execution_count": null,
      "outputs": []
    }
  ]
}