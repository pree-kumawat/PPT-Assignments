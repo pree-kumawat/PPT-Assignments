{
  "nbformat": 4,
  "nbformat_minor": 0,
  "metadata": {
    "colab": {
      "provenance": []
    },
    "kernelspec": {
      "name": "python3",
      "display_name": "Python 3"
    },
    "language_info": {
      "name": "python"
    }
  },
  "cells": [
    {
      "cell_type": "markdown",
      "source": [
        "Question 1\n",
        "\n",
        "Given an integer array nums of 2n integers, group these integers into n pairs (a1, b1), (a2, b2),..., (an, bn) such that the sum of min(ai, bi) for all i is maximized. Return the maximized sum.\n",
        "\n",
        "Example 1:\n",
        "Input: nums = [1,4,3,2]\n",
        "Output: 4\n",
        "\n",
        "Explanation: All possible pairings (ignoring the ordering of elements) are:"
      ],
      "metadata": {
        "id": "PeudMtX9H9hG"
      }
    },
    {
      "cell_type": "code",
      "source": [
        "def array_pair_sum(nums):\n",
        "    nums.sort()  # Sort the array in ascending order\n",
        "    max_sum = 0\n",
        "\n",
        "    # Iterate through the array, summing up the minimum element of each pair\n",
        "    for i in range(0, len(nums), 2):\n",
        "        max_sum += nums[i]\n",
        "\n",
        "    return max_sum\n",
        "\n",
        "# Example usage\n",
        "nums = [1, 4, 3, 2]\n",
        "maximized_sum = array_pair_sum(nums)\n",
        "print(\"Maximized sum:\", maximized_sum)\n"
      ],
      "metadata": {
        "colab": {
          "base_uri": "https://localhost:8080/"
        },
        "id": "sPsBiHjaJSv1",
        "outputId": "56094920-acda-46d7-fa2b-0bda2846ef68"
      },
      "execution_count": 1,
      "outputs": [
        {
          "output_type": "stream",
          "name": "stdout",
          "text": [
            "Maximized sum: 4\n"
          ]
        }
      ]
    },
    {
      "cell_type": "markdown",
      "source": [
        "Question 2\n",
        "\n",
        "Alice has n candies, where the ith candy is of type candyType[i]. Alice noticed that she started to gain weight, so she visited a doctor. \n",
        "\n",
        "The doctor advised Alice to only eat n / 2 of the candies she has (n is always even). Alice likes her candies very much, and she wants to eat the maximum number of different types of candies while still following the doctor's advice. \n",
        "\n",
        "Given the integer array candyType of length n, return the maximum number of different types of candies she can eat if she only eats n / 2 of them.\n",
        "\n",
        "Example 1:\n",
        "Input: candyType = [1,1,2,2,3,3]\n",
        "Output: 3\n",
        "\n",
        "Explanation: Alice can only eat 6 / 2 = 3 candies. Since there are only 3 types, she can eat one of each type."
      ],
      "metadata": {
        "id": "m_a2NmVnJZyR"
      }
    },
    {
      "cell_type": "code",
      "source": [
        "def max_candies(candyType):\n",
        "    max_candy_types = len(set(candyType))  # Count the number of unique candy types\n",
        "    max_allowed = len(candyType) // 2  # Maximum number of candies Alice can eat\n",
        "\n",
        "    # Return the minimum value between max_candy_types and max_allowed\n",
        "    return min(max_candy_types, max_allowed)\n",
        "\n",
        "# Example usage\n",
        "candyType = [1, 1, 2, 2, 3, 3]\n",
        "max_diff_types = max_candies(candyType)\n",
        "print(\"Maximum number of different types of candies Alice can eat:\", max_diff_types)\n"
      ],
      "metadata": {
        "colab": {
          "base_uri": "https://localhost:8080/"
        },
        "id": "vjUBeqwWJT7o",
        "outputId": "bdcb061e-449e-462e-b826-2ec61eb04f97"
      },
      "execution_count": 2,
      "outputs": [
        {
          "output_type": "stream",
          "name": "stdout",
          "text": [
            "Maximum number of different types of candies Alice can eat: 3\n"
          ]
        }
      ]
    },
    {
      "cell_type": "markdown",
      "source": [
        "Question 3\n",
        "\n",
        "We define a harmonious array as an array where the difference between its maximum value\n",
        "and its minimum value is exactly 1.\n",
        "\n",
        "Given an integer array nums, return the length of its longest harmonious subsequence\n",
        "among all its possible subsequences.\n",
        "\n",
        "A subsequence of an array is a sequence that can be derived from the array by deleting some or no elements without changing the order of the remaining elements.\n",
        "\n",
        "Example 1:\n",
        "Input: nums = [1,3,2,2,5,2,3,7]\n",
        "Output: 5\n",
        "\n",
        "Explanation: The longest harmonious subsequence is [3,2,2,2,3]."
      ],
      "metadata": {
        "id": "pv6tTBDLKRmM"
      }
    },
    {
      "cell_type": "code",
      "source": [
        "from collections import Counter\n",
        "\n",
        "def findLHS(nums):\n",
        "    counter = Counter(nums)\n",
        "    longest_subsequence = 0\n",
        "\n",
        "    for num in counter:\n",
        "        if num + 1 in counter:\n",
        "            longest_subsequence = max(longest_subsequence, counter[num] + counter[num + 1])\n",
        "\n",
        "    return longest_subsequence\n",
        "\n",
        "# Example usage\n",
        "nums = [1, 3, 2, 2, 5, 2, 3, 7]\n",
        "longest_harmonious_subsequence = findLHS(nums)\n",
        "print(\"Length of the longest harmonious subsequence:\", longest_harmonious_subsequence)\n"
      ],
      "metadata": {
        "colab": {
          "base_uri": "https://localhost:8080/"
        },
        "id": "2VBj3ND4KLsI",
        "outputId": "74e142a3-599e-45cd-8387-c743afca594f"
      },
      "execution_count": 3,
      "outputs": [
        {
          "output_type": "stream",
          "name": "stdout",
          "text": [
            "Length of the longest harmonious subsequence: 5\n"
          ]
        }
      ]
    },
    {
      "cell_type": "markdown",
      "source": [
        "Question 4\n",
        "\n",
        "You have a long flowerbed in which some of the plots are planted, and some are not.\n",
        "However, flowers cannot be planted in adjacent plots.\n",
        "Given an integer array flowerbed containing 0's and 1's, where 0 means empty and 1 means not empty, and an integer n, return true if n new flowers can be planted in the flowerbed without violating the no-adjacent-flowers rule and false otherwise.\n",
        "\n",
        "Example 1:\n",
        "Input: flowerbed = [1,0,0,0,1], n = 1\n",
        "Output: true"
      ],
      "metadata": {
        "id": "PSUiX7iTK7OT"
      }
    },
    {
      "cell_type": "code",
      "source": [
        "def plantedFlowers(flowerbed, n):\n",
        "    count = 0\n",
        "    length = len(flowerbed)\n",
        "    flowerbed = [0] + flowerbed + [0]  # Add boundary 0's for simpler boundary checks\n",
        "\n",
        "    for i in range(1, length + 1):\n",
        "        if flowerbed[i] == 0 and flowerbed[i - 1] == 0 and flowerbed[i + 1] == 0:\n",
        "            flowerbed[i] = 1\n",
        "            count += 1\n",
        "\n",
        "    return count >= n\n",
        "\n",
        "# Example usage\n",
        "flowerbed = [1, 0, 0, 0, 1]\n",
        "n = 1\n",
        "planted_flowers = plantedFlowers(flowerbed, n)\n",
        "print(\"Can plant\", n, \"flowers?\", planted_flowers)\n"
      ],
      "metadata": {
        "colab": {
          "base_uri": "https://localhost:8080/"
        },
        "id": "6NsxcjhkK0Mr",
        "outputId": "78e65397-b8d3-4caf-df76-7ebe6ec036f1"
      },
      "execution_count": 4,
      "outputs": [
        {
          "output_type": "stream",
          "name": "stdout",
          "text": [
            "Can plant 1 flowers? True\n"
          ]
        }
      ]
    },
    {
      "cell_type": "markdown",
      "source": [
        "Question 5\n",
        "\n",
        "Given an integer array nums, find three numbers whose product is maximum and return the maximum product.\n",
        "\n",
        "Example 1:\n",
        "Input: nums = [1,2,3]\n",
        "Output: 6"
      ],
      "metadata": {
        "id": "l2zP5OYLL1F7"
      }
    },
    {
      "cell_type": "code",
      "source": [
        "def maximumProduct(nums):\n",
        "    nums.sort()  # Sort the array in ascending order\n",
        "    n = len(nums)\n",
        "               # Maximum product can be either the product of the three largest numbers or\n",
        "               # the product of the two smallest (negative) numbers and the largest number\n",
        "    return max(nums[n-1] * nums[n-2] * nums[n-3], nums[0] * nums[1] * nums[n-1])\n",
        "\n",
        "# Example usage\n",
        "nums = [1, 2, 3]\n",
        "max_product = maximumProduct(nums)\n",
        "print(\"Maximum product of three numbers:\", max_product)\n"
      ],
      "metadata": {
        "colab": {
          "base_uri": "https://localhost:8080/"
        },
        "id": "Ma_8gn9lMHMl",
        "outputId": "ccf1c936-72de-4231-ee27-c901241dea94"
      },
      "execution_count": 5,
      "outputs": [
        {
          "output_type": "stream",
          "name": "stdout",
          "text": [
            "Maximum product of three numbers: 6\n"
          ]
        }
      ]
    },
    {
      "cell_type": "markdown",
      "source": [
        "Question 6\n",
        "\n",
        "Given an array of integers nums which is sorted in ascending order, and an integer target,\n",
        "write a function to search target in nums. If target exists, then return its index. Otherwise,\n",
        "return -1.\n",
        "\n",
        "You must write an algorithm with O(log n) runtime complexity.\n",
        "\n",
        "Input: nums = [-1,0,3,5,9,12], target = 9\n",
        "Output: 4\n",
        "\n",
        "Explanation: 9 exists in nums and its index is 4"
      ],
      "metadata": {
        "id": "AGaAh_abMVwo"
      }
    },
    {
      "cell_type": "code",
      "source": [
        "def binarySearch(nums, target):\n",
        "    left = 0\n",
        "    right = len(nums) - 1\n",
        "\n",
        "    while left <= right:\n",
        "        mid = left + (right - left) // 2\n",
        "\n",
        "        if nums[mid] == target:\n",
        "            return mid\n",
        "        elif nums[mid] < target:\n",
        "            left = mid + 1\n",
        "        else:\n",
        "            right = mid - 1\n",
        "\n",
        "    return -1\n",
        "\n",
        "# Example usage\n",
        "nums = [-1, 0, 3, 5, 9, 12]\n",
        "target = 9\n",
        "index = binarySearch(nums, target)\n",
        "print(\"Index of target:\", index)\n"
      ],
      "metadata": {
        "colab": {
          "base_uri": "https://localhost:8080/"
        },
        "id": "AVyy-ZpZMQfj",
        "outputId": "cee76bdc-60c0-4e22-b894-b3eb1e44fa6a"
      },
      "execution_count": 6,
      "outputs": [
        {
          "output_type": "stream",
          "name": "stdout",
          "text": [
            "Index of target: 4\n"
          ]
        }
      ]
    },
    {
      "cell_type": "markdown",
      "source": [
        "Question 7\n",
        "\n",
        "An array is monotonic if it is either monotone increasing or monotone decreasing.\n",
        "\n",
        "An array nums is monotone increasing if for all i <= j, nums[i] <= nums[j]. An array nums is\n",
        "monotone decreasing if for all i <= j, nums[i] >= nums[j].\n",
        "\n",
        "Given an integer array nums, return true if the given array is monotonic, or false otherwise.\n",
        "\n",
        "Example 1:\n",
        "Input: nums = [1,2,2,3]\n",
        "Output: true"
      ],
      "metadata": {
        "id": "ZZ3xcx0XMjxU"
      }
    },
    {
      "cell_type": "code",
      "source": [
        "def isMonotonic(nums):\n",
        "    increasing = decreasing = True\n",
        "\n",
        "    for i in range(1, len(nums)):\n",
        "        if nums[i] < nums[i - 1]:\n",
        "            increasing = False\n",
        "        if nums[i] > nums[i - 1]:\n",
        "            decreasing = False\n",
        "\n",
        "    return increasing or decreasing\n",
        "\n",
        "# Example usage\n",
        "nums = [1, 2, 2, 3]\n",
        "is_monotonic = isMonotonic(nums)\n",
        "print(\"Is the array monotonic?\", is_monotonic)\n"
      ],
      "metadata": {
        "colab": {
          "base_uri": "https://localhost:8080/"
        },
        "id": "O-s3mUrEM_Sg",
        "outputId": "92fac101-e6df-49f0-f461-a2c2c0b4af9d"
      },
      "execution_count": 7,
      "outputs": [
        {
          "output_type": "stream",
          "name": "stdout",
          "text": [
            "Is the array monotonic? True\n"
          ]
        }
      ]
    },
    {
      "cell_type": "markdown",
      "source": [
        "Question 8\n",
        "\n",
        "You are given an integer array nums and an integer k.\n",
        "\n",
        "In one operation, you can choose any index i where 0 <= i < nums.length and change nums[i] to nums[i] + x where x is an integer from the range [-k, k]. You can apply this operation at most once for each index i.\n",
        "\n",
        "The score of nums is the difference between the maximum and minimum elements in nums.\n",
        "\n",
        "Return the minimum score of nums after applying the mentioned operation at most once for each index in it.\n",
        "\n",
        "Example 1:\n",
        "Input: nums = [1], k = 0\n",
        "Output: 0\n",
        "\n",
        "Explanation: The score is max(nums) - min(nums) = 1 - 1 = 0."
      ],
      "metadata": {
        "id": "woRUBe_9NP4i"
      }
    },
    {
      "cell_type": "code",
      "source": [
        "def minDifference(nums, k):\n",
        "    if len(nums) <= 4:\n",
        "        return 0\n",
        "\n",
        "    nums.sort()\n",
        "    n = len(nums)\n",
        "    min_score = nums[n - 1] - nums[0]\n",
        "\n",
        "    for i in range(4):\n",
        "        min_score = min(min_score, nums[n - 4 + i] - nums[i])\n",
        "\n",
        "    return min_score\n",
        "\n",
        "# Example usage\n",
        "nums = [1]\n",
        "k = 0\n",
        "min_score = minDifference(nums, k)\n",
        "print(\"Minimum score of nums:\", min_score)\n"
      ],
      "metadata": {
        "colab": {
          "base_uri": "https://localhost:8080/"
        },
        "id": "C6K8jIn6NDv8",
        "outputId": "0754bd28-e97d-4d6d-8869-46a7c76c6d2a"
      },
      "execution_count": 9,
      "outputs": [
        {
          "output_type": "stream",
          "name": "stdout",
          "text": [
            "Minimum score of nums: 0\n"
          ]
        }
      ]
    },
    {
      "cell_type": "code",
      "source": [],
      "metadata": {
        "id": "7zy621vuNWI2"
      },
      "execution_count": null,
      "outputs": []
    }
  ]
}