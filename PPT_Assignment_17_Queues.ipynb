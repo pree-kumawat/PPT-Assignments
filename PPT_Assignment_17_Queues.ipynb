{
  "nbformat": 4,
  "nbformat_minor": 0,
  "metadata": {
    "colab": {
      "provenance": [],
      "gpuType": "T4"
    },
    "kernelspec": {
      "name": "python3",
      "display_name": "Python 3"
    },
    "language_info": {
      "name": "python"
    },
    "accelerator": "GPU"
  },
  "cells": [
    {
      "cell_type": "markdown",
      "source": [
        "\n",
        "💡 **Question 1**\n",
        "\n",
        "Given a string `s`, *find the first non-repeating character in it and return its index*. If it does not exist, return `-1`.\n",
        "\n",
        "**Example 1:**\n",
        "\n",
        "```\n",
        "Input: s = \"leetcode\"\n",
        "Output: 0\n",
        "\n",
        "```\n",
        "\n",
        "**Example 2:**\n",
        "\n",
        "```\n",
        "Input: s = \"loveleetcode\"\n",
        "Output: 2\n",
        "\n",
        "```\n",
        "\n",
        "**Example 3:**\n",
        "\n",
        "```\n",
        "Input: s = \"aabb\"\n",
        "Output: -1\n",
        "\n",
        "```"
      ],
      "metadata": {
        "id": "QtmT1u08BrT2"
      }
    },
    {
      "cell_type": "code",
      "execution_count": 2,
      "metadata": {
        "id": "Ye9zkSI-BVFZ"
      },
      "outputs": [],
      "source": [
        "def firstUniqChar(s):\n",
        "\n",
        "    freq = {}\n",
        "\n",
        "    for char in s:\n",
        "        freq[char] = freq.get(char, 0) + 1\n",
        "\n",
        "    for i in range(len(s)):\n",
        "        if freq[s[i]] == 1:\n",
        "            return i\n",
        "\n",
        "    return -1\n"
      ]
    },
    {
      "cell_type": "code",
      "source": [
        "s = \"leetcode\"\n",
        "print(firstUniqChar(s))  # Output: 0\n",
        "\n",
        "s = \"loveleetcode\"\n",
        "print(firstUniqChar(s))  # Output: 2\n",
        "\n",
        "s = \"aabb\"\n",
        "print(firstUniqChar(s))  # Output: -1"
      ],
      "metadata": {
        "colab": {
          "base_uri": "https://localhost:8080/"
        },
        "id": "fKaY-RN6Cf7n",
        "outputId": "1b5d9081-d030-4925-c954-b88f3c010dab"
      },
      "execution_count": 3,
      "outputs": [
        {
          "output_type": "stream",
          "name": "stdout",
          "text": [
            "0\n",
            "2\n",
            "-1\n"
          ]
        }
      ]
    },
    {
      "cell_type": "markdown",
      "source": [
        "\n",
        "💡 **Question 2**\n",
        "\n",
        "Given a **circular integer array** `nums` of length `n`, return *the maximum possible sum of a non-empty **subarray** of* `nums`.\n",
        "\n",
        "A **circular array** means the end of the array connects to the beginning of the array. Formally, the next element of `nums[i]` is `nums[(i + 1) % n]` and the previous element of `nums[i]` is `nums[(i - 1 + n) % n]`.\n",
        "\n",
        "A **subarray** may only include each element of the fixed buffer `nums` at most once. Formally, for a subarray `nums[i], nums[i + 1], ..., nums[j]`, there does not exist `i <= k1`, `k2 <= j` with `k1 % n == k2 % n`.\n",
        "\n",
        "**Example 1:**\n",
        "\n",
        "```\n",
        "Input: nums = [1,-2,3,-2]\n",
        "Output: 3\n",
        "Explanation: Subarray [3] has maximum sum 3.\n",
        "\n",
        "```\n",
        "\n",
        "**Example 2:**\n",
        "\n",
        "```\n",
        "Input: nums = [5,-3,5]\n",
        "Output: 10\n",
        "Explanation: Subarray [5,5] has maximum sum 5 + 5 = 10.\n",
        "\n",
        "```\n",
        "\n",
        "**Example 3:**\n",
        "\n",
        "```\n",
        "Input: nums = [-3,-2,-3]\n",
        "Output: -2\n",
        "Explanation: Subarray [-2] has maximum sum -2.\n",
        "\n",
        "```"
      ],
      "metadata": {
        "id": "p3Ag4ZBeC8Lh"
      }
    },
    {
      "cell_type": "code",
      "source": [
        "def maxSubarraySumCircular(nums):\n",
        "    def kadane(arr):\n",
        "        max_sum = curr_sum = arr[0]\n",
        "        for num in arr[1:]:\n",
        "            curr_sum = max(num, curr_sum + num)\n",
        "            max_sum = max(max_sum, curr_sum)\n",
        "        return max_sum\n",
        "\n",
        "    max_linear = kadane(nums)\n",
        "    total_sum = sum(nums)\n",
        "    neg_nums = [-num for num in nums]\n",
        "    max_circular = kadane(neg_nums)\n",
        "\n",
        "    if max_circular == -total_sum:\n",
        "        return max_linear\n",
        "    else:\n",
        "        return max(max_linear, total_sum + max_circular)\n"
      ],
      "metadata": {
        "id": "LgWlrmD6a7mB"
      },
      "execution_count": 22,
      "outputs": []
    },
    {
      "cell_type": "code",
      "source": [
        "print(maxSubarraySumCircular([1, -2, 3, -2]))  # Output: 3\n",
        "print(maxSubarraySumCircular([5, -3, 5]))     # Output: 10\n",
        "print(maxSubarraySumCircular([-3, -2, -3]))   # Output: -2\n"
      ],
      "metadata": {
        "colab": {
          "base_uri": "https://localhost:8080/"
        },
        "id": "g7AN85H2bAM2",
        "outputId": "fd2ab65f-cd28-4746-852a-1d8ebf577c9a"
      },
      "execution_count": 23,
      "outputs": [
        {
          "output_type": "stream",
          "name": "stdout",
          "text": [
            "3\n",
            "10\n",
            "-2\n"
          ]
        }
      ]
    },
    {
      "cell_type": "markdown",
      "source": [
        "\n",
        "💡 **Question 3**\n",
        "\n",
        "The school cafeteria offers circular and square sandwiches at lunch break, referred to by numbers `0` and `1` respectively. All students stand in a queue. Each student either prefers square or circular sandwiches.\n",
        "\n",
        "The number of sandwiches in the cafeteria is equal to the number of students. The sandwiches are placed in a **stack**. At each step:\n",
        "\n",
        "- If the student at the front of the queue **prefers** the sandwich on the top of the stack, they will **take it** and leave the queue.\n",
        "- Otherwise, they will **leave it** and go to the queue's end.\n",
        "\n",
        "This continues until none of the queue students want to take the top sandwich and are thus unable to eat.\n",
        "\n",
        "You are given two integer arrays `students` and `sandwiches` where `sandwiches[i]` is the type of the `ith` sandwich in the stack (`i = 0` is the top of the stack) and `students[j]` is the preference of the `jth` student in the initial queue (`j = 0` is the front of the queue). Return *the number of students that are unable to eat.*\n",
        "\n",
        "**Example 1:**\n",
        "\n",
        "```\n",
        "Input: students = [1,1,0,0], sandwiches = [0,1,0,1]\n",
        "Output: 0\n",
        "Explanation:\n",
        "- Front student leaves the top sandwich and returns to the end of the line making students = [1,0,0,1].\n",
        "- Front student leaves the top sandwich and returns to the end of the line making students = [0,0,1,1].\n",
        "- Front student takes the top sandwich and leaves the line making students = [0,1,1] and sandwiches = [1,0,1].\n",
        "- Front student leaves the top sandwich and returns to the end of the line making students = [1,1,0].\n",
        "- Front student takes the top sandwich and leaves the line making students = [1,0] and sandwiches = [0,1].\n",
        "- Front student leaves the top sandwich and returns to the end of the line making students = [0,1].\n",
        "- Front student takes the top sandwich and leaves the line making students = [1] and sandwiches = [1].\n",
        "- Front student takes the top sandwich and leaves the line making students = [] and sandwiches = [].\n",
        "Hence all students are able to eat.\n",
        "\n",
        "```\n",
        "\n",
        "**Example 2:**\n",
        "\n",
        "```\n",
        "Input: students = [1,1,1,0,0,1], sandwiches = [1,0,0,0,1,1]\n",
        "Output: 3\n",
        "\n",
        "```"
      ],
      "metadata": {
        "id": "AFoWGSszH6Bm"
      }
    },
    {
      "cell_type": "code",
      "source": [
        "from collections import deque\n",
        "\n",
        "def countStudents(students, sandwiches):\n",
        "    studentQueue = deque(students)\n",
        "    sandwichQueue = deque(sandwiches)\n",
        "\n",
        "    while studentQueue and sandwichQueue:\n",
        "        student = studentQueue[0]\n",
        "        sandwich = sandwichQueue[0]\n",
        "\n",
        "        if student == sandwich:\n",
        "            studentQueue.popleft()\n",
        "            sandwichQueue.popleft()\n",
        "        else:\n",
        "            studentQueue.rotate(-1)\n",
        "\n",
        "        if studentQueue.count(student) == len(studentQueue):\n",
        "            # All remaining students have the same preference as the current sandwich\n",
        "            break\n",
        "\n",
        "    return len(studentQueue)\n",
        "\n"
      ],
      "metadata": {
        "id": "aqrKeI4ncDDy"
      },
      "execution_count": 24,
      "outputs": []
    },
    {
      "cell_type": "code",
      "source": [
        "print(countStudents([1, 1, 0, 0], [0, 1, 0, 1]))  # Output: 0\n",
        "print(countStudents([1, 1, 1, 0, 0, 1], [1, 0, 0, 0, 1, 1]))  # Output: 3\n"
      ],
      "metadata": {
        "colab": {
          "base_uri": "https://localhost:8080/"
        },
        "id": "kQo3JjbLcGcK",
        "outputId": "c7d53e60-e0d1-4337-d740-05fa818e34db"
      },
      "execution_count": 25,
      "outputs": [
        {
          "output_type": "stream",
          "name": "stdout",
          "text": [
            "0\n",
            "3\n"
          ]
        }
      ]
    },
    {
      "cell_type": "markdown",
      "source": [
        "\n",
        "💡 **Question 4**\n",
        "\n",
        "You have a `RecentCounter` class which counts the number of recent requests within a certain time frame.\n",
        "\n",
        "Implement the `RecentCounter` class:\n",
        "\n",
        "- `RecentCounter()` Initializes the counter with zero recent requests.\n",
        "- `int ping(int t)` Adds a new request at time `t`, where `t` represents some time in milliseconds, and returns the number of requests that has happened in the past `3000` milliseconds (including the new request). Specifically, return the number of requests that have happened in the inclusive range `[t - 3000, t]`.\n",
        "\n",
        "It is **guaranteed** that every call to `ping` uses a strictly larger value of `t` than the previous call.\n",
        "\n",
        "**Example 1:**\n",
        "\n",
        "```\n",
        "Input\n",
        "[\"RecentCounter\", \"ping\", \"ping\", \"ping\", \"ping\"]\n",
        "[[], [1], [100], [3001], [3002]]\n",
        "Output\n",
        "[null, 1, 2, 3, 3]\n",
        "\n",
        "Explanation\n",
        "RecentCounter recentCounter = new RecentCounter();\n",
        "recentCounter.ping(1);     // requests = [1], range is [-2999,1], return 1\n",
        "recentCounter.ping(100);   // requests = [1,100], range is [-2900,100], return 2\n",
        "recentCounter.ping(3001);  // requests = [1,100,3001], range is [1,3001], return 3\n",
        "recentCounter.ping(3002);  // requests = [1,100,3001,3002], range is [2,3002], return 3\n",
        "\n",
        "```"
      ],
      "metadata": {
        "id": "mKqRW53mhP_w"
      }
    },
    {
      "cell_type": "code",
      "source": [
        "from collections import deque\n",
        "\n",
        "class RecentCounter:\n",
        "    def __init__(self):\n",
        "        self.requests = deque()\n",
        "\n",
        "    def ping(self, t: int) -> int:\n",
        "        self.requests.append(t)\n",
        "        while self.requests and self.requests[0] < t - 3000:\n",
        "            self.requests.popleft()\n",
        "        return len(self.requests)\n"
      ],
      "metadata": {
        "id": "jIFwzkf7hXoA"
      },
      "execution_count": 9,
      "outputs": []
    },
    {
      "cell_type": "code",
      "source": [
        "recentCounter = RecentCounter()\n",
        "print(recentCounter.ping(1))    # Output: 1\n",
        "print(recentCounter.ping(100))  # Output: 2\n",
        "print(recentCounter.ping(3001)) # Output: 3\n",
        "print(recentCounter.ping(3002)) # Output: 3"
      ],
      "metadata": {
        "colab": {
          "base_uri": "https://localhost:8080/"
        },
        "id": "xXo8eDmhUtVA",
        "outputId": "c8309f72-e21c-4040-e572-4a79e76c1983"
      },
      "execution_count": 10,
      "outputs": [
        {
          "output_type": "stream",
          "name": "stdout",
          "text": [
            "1\n",
            "2\n",
            "3\n",
            "3\n"
          ]
        }
      ]
    },
    {
      "cell_type": "markdown",
      "source": [
        "\n",
        "💡 **Question 5**\n",
        "\n",
        "There are `n` friends that are playing a game. The friends are sitting in a circle and are numbered from `1` to `n` in **clockwise order**. More formally, moving clockwise from the `ith` friend brings you to the `(i+1)th` friend for `1 <= i < n`, and moving clockwise from the `nth` friend brings you to the `1st` friend.\n",
        "\n",
        "The rules of the game are as follows:\n",
        "\n",
        "1. **Start** at the `1st` friend.\n",
        "2. Count the next `k` friends in the clockwise direction **including** the friend you started at. The counting wraps around the circle and may count some friends more than once.\n",
        "3. The last friend you counted leaves the circle and loses the game.\n",
        "4. If there is still more than one friend in the circle, go back to step `2` **starting** from the friend **immediately clockwise** of the friend who just lost and repeat.\n",
        "5. Else, the last friend in the circle wins the game.\n",
        "\n",
        "Given the number of friends, `n`, and an integer `k`, return *the winner of the game*.\n",
        "\n",
        "**Example 1:**\n",
        "\n",
        "!https://assets.leetcode.com/uploads/2021/03/25/ic234-q2-ex11.png\n",
        "\n",
        "```\n",
        "Input: n = 5, k = 2\n",
        "Output: 3\n",
        "Explanation: Here are the steps of the game:\n",
        "1) Start at friend 1.\n",
        "2) Count 2 friends clockwise, which are friends 1 and 2.\n",
        "3) Friend 2 leaves the circle. Next start is friend 3.\n",
        "4) Count 2 friends clockwise, which are friends 3 and 4.\n",
        "5) Friend 4 leaves the circle. Next start is friend 5.\n",
        "6) Count 2 friends clockwise, which are friends 5 and 1.\n",
        "7) Friend 1 leaves the circle. Next start is friend 3.\n",
        "8) Count 2 friends clockwise, which are friends 3 and 5.\n",
        "9) Friend 5 leaves the circle. Only friend 3 is left, so they are the winner.\n",
        "```\n",
        "\n",
        "**Example 2:**\n",
        "\n",
        "```\n",
        "Input: n = 6, k = 5\n",
        "Output: 1\n",
        "Explanation: The friends leave in this order: 5, 4, 6, 2, 3. The winner is friend 1.\n",
        "\n",
        "```"
      ],
      "metadata": {
        "id": "qzrp-FETjUu8"
      }
    },
    {
      "cell_type": "code",
      "source": [
        "from collections import deque\n",
        "\n",
        "def findTheWinner(n: int, k: int) -> int:\n",
        "    circle = deque(range(1, n + 1))\n",
        "\n",
        "    while len(circle) > 1:\n",
        "        for _ in range(k - 1):\n",
        "            circle.append(circle.popleft())\n",
        "        circle.popleft()\n",
        "\n",
        "    return circle[0]\n"
      ],
      "metadata": {
        "id": "ntGVZL9mZYj5"
      },
      "execution_count": 18,
      "outputs": []
    },
    {
      "cell_type": "code",
      "source": [
        "print(findTheWinner(5, 2))  # Output: 3\n",
        "print(findTheWinner(6, 5))  # Output: 1\n"
      ],
      "metadata": {
        "colab": {
          "base_uri": "https://localhost:8080/"
        },
        "id": "1X9wtcgBZbwB",
        "outputId": "9153b693-685e-4771-cba1-f9d0c59f8b92"
      },
      "execution_count": 19,
      "outputs": [
        {
          "output_type": "stream",
          "name": "stdout",
          "text": [
            "3\n",
            "1\n"
          ]
        }
      ]
    },
    {
      "cell_type": "markdown",
      "source": [
        "\n",
        "💡 **Question 6**\n",
        "\n",
        "You are given an integer array `deck`. There is a deck of cards where every card has a unique integer. The integer on the `ith` card is `deck[i]`.\n",
        "\n",
        "You can order the deck in any order you want. Initially, all the cards start face down (unrevealed) in one deck.\n",
        "\n",
        "You will do the following steps repeatedly until all cards are revealed:\n",
        "\n",
        "1. Take the top card of the deck, reveal it, and take it out of the deck.\n",
        "2. If there are still cards in the deck then put the next top card of the deck at the bottom of the deck.\n",
        "3. If there are still unrevealed cards, go back to step 1. Otherwise, stop.\n",
        "\n",
        "Return *an ordering of the deck that would reveal the cards in increasing order*.\n",
        "\n",
        "**Note** that the first entry in the answer is considered to be the top of the deck.\n",
        "\n",
        "**Example 1:**\n",
        "\n",
        "```\n",
        "Input: deck = [17,13,11,2,3,5,7]\n",
        "Output: [2,13,3,11,5,17,7]\n",
        "Explanation:\n",
        "We get the deck in the order [17,13,11,2,3,5,7] (this order does not matter), and reorder it.\n",
        "After reordering, the deck starts as [2,13,3,11,5,17,7], where 2 is the top of the deck.\n",
        "We reveal 2, and move 13 to the bottom.  The deck is now [3,11,5,17,7,13].\n",
        "We reveal 3, and move 11 to the bottom.  The deck is now [5,17,7,13,11].\n",
        "We reveal 5, and move 17 to the bottom.  The deck is now [7,13,11,17].\n",
        "We reveal 7, and move 13 to the bottom.  The deck is now [11,17,13].\n",
        "We reveal 11, and move 17 to the bottom.  The deck is now [13,17].\n",
        "We reveal 13, and move 17 to the bottom.  The deck is now [17].\n",
        "We reveal 17.\n",
        "Since all the cards revealed are in increasing order, the answer is correct.\n",
        "\n",
        "```\n",
        "\n",
        "**Example 2:**\n",
        "\n",
        "```\n",
        "Input: deck = [1,1000]\n",
        "Output: [1,1000]\n",
        "\n",
        "```"
      ],
      "metadata": {
        "id": "71sNL3CPkJ1-"
      }
    },
    {
      "cell_type": "code",
      "source": [
        "from collections import deque\n",
        "import heapq\n",
        "\n",
        "def deckRevealedIncreasing(deck):\n",
        "    deck.sort(reverse=True)\n",
        "    revealed = deque()\n",
        "\n",
        "    for card in deck:\n",
        "        if revealed:\n",
        "            revealed.appendleft(revealed.pop())\n",
        "        revealed.appendleft(card)\n",
        "\n",
        "    return list(revealed)\n"
      ],
      "metadata": {
        "id": "vLT3VWUPkRfB"
      },
      "execution_count": 20,
      "outputs": []
    },
    {
      "cell_type": "code",
      "source": [
        "print(deckRevealedIncreasing([17, 13, 11, 2, 3, 5, 7]))\n",
        "# Output: [2, 13, 3, 11, 5, 17, 7]\n",
        "\n",
        "print(deckRevealedIncreasing([1, 1000]))\n",
        "# Output: [1, 1000]\n"
      ],
      "metadata": {
        "colab": {
          "base_uri": "https://localhost:8080/"
        },
        "id": "Jlv2zvMiZydy",
        "outputId": "4d147f27-62fc-46dd-e645-1cd5780e111b"
      },
      "execution_count": 21,
      "outputs": [
        {
          "output_type": "stream",
          "name": "stdout",
          "text": [
            "[2, 13, 3, 11, 5, 17, 7]\n",
            "[1, 1000]\n"
          ]
        }
      ]
    },
    {
      "cell_type": "markdown",
      "source": [
        "\n",
        "💡 **Question 7**\n",
        "\n",
        "Design a queue that supports `push` and `pop` operations in the front, middle, and back.\n",
        "\n",
        "Implement the `FrontMiddleBack` class:\n",
        "\n",
        "- `FrontMiddleBack()` Initializes the queue.\n",
        "- `void pushFront(int val)` Adds `val` to the **front** of the queue.\n",
        "- `void pushMiddle(int val)` Adds `val` to the **middle** of the queue.\n",
        "- `void pushBack(int val)` Adds `val` to the **back** of the queue.\n",
        "- `int popFront()` Removes the **front** element of the queue and returns it. If the queue is empty, return `1`.\n",
        "- `int popMiddle()` Removes the **middle** element of the queue and returns it. If the queue is empty, return `1`.\n",
        "- `int popBack()` Removes the **back** element of the queue and returns it. If the queue is empty, return `1`.\n",
        "\n",
        "**Notice** that when there are **two** middle position choices, the operation is performed on the **frontmost** middle position choice. For example:\n",
        "\n",
        "- Pushing `6` into the middle of `[1, 2, 3, 4, 5]` results in `[1, 2, 6, 3, 4, 5]`.\n",
        "- Popping the middle from `[1, 2, 3, 4, 5, 6]` returns `3` and results in `[1, 2, 4, 5, 6]`.\n",
        "\n",
        "**Example 1:**\n",
        "\n",
        "```\n",
        "Input:\n",
        "[\"FrontMiddleBackQueue\", \"pushFront\", \"pushBack\", \"pushMiddle\", \"pushMiddle\", \"popFront\", \"popMiddle\", \"popMiddle\", \"popBack\", \"popFront\"]\n",
        "[[], [1], [2], [3], [4], [], [], [], [], []]\n",
        "Output:\n",
        "[null, null, null, null, null, 1, 3, 4, 2, -1]\n",
        "\n",
        "Explanation:\n",
        "FrontMiddleBackQueue q = new FrontMiddleBackQueue();\n",
        "q.pushFront(1);   // [1]\n",
        "q.pushBack(2);    // [1,2]\n",
        "q.pushMiddle(3);  // [1,3, 2]\n",
        "q.pushMiddle(4);  // [1,4, 3, 2]\n",
        "q.popFront();     // return 1 -> [4, 3, 2]\n",
        "q.popMiddle();    // return 3 -> [4, 2]\n",
        "q.popMiddle();    // return 4 -> [2]\n",
        "q.popBack();      // return 2 -> []\n",
        "q.popFront();     // return -1 -> [] (The queue is empty)\n",
        "\n",
        "```"
      ],
      "metadata": {
        "id": "lfBKAHqdbXC_"
      }
    },
    {
      "cell_type": "code",
      "source": [
        "from collections import deque\n",
        "import math\n",
        "\n",
        "class FrontMiddleBackQueue:\n",
        "    def __init__(self):\n",
        "        self.left = deque()\n",
        "        self.right = deque()\n",
        "\n",
        "    def pushFront(self, val: int) -> None:\n",
        "        self.left.appendleft(val)\n",
        "\n",
        "    def pushMiddle(self, val: int) -> None:\n",
        "        if len(self.left) >= len(self.right):\n",
        "            self.right.appendleft(val)\n",
        "        else:\n",
        "            self.left.append(self.right.popleft())\n",
        "            self.right.appendleft(val)\n",
        "\n",
        "    def pushBack(self, val: int) -> None:\n",
        "        self.right.append(val)\n",
        "\n",
        "    def popFront(self) -> int:\n",
        "        if not self.left and not self.right:\n",
        "            return -1\n",
        "        if self.left:\n",
        "            return self.left.popleft()\n",
        "        else:\n",
        "            val = self.right.popleft()\n",
        "            self.left.extend(self.right.popleft() for _ in range(math.ceil(len(self.right) / 2)))\n",
        "            return val\n",
        "\n",
        "    def popMiddle(self) -> int:\n",
        "        if not self.left and not self.right:\n",
        "            return -1\n",
        "        if len(self.left) == len(self.right):\n",
        "            return self.left.pop()\n",
        "        else:\n",
        "            return self.right.popleft()\n",
        "\n",
        "    def popBack(self) -> int:\n",
        "        if not self.left and not self.right:\n",
        "            return -1\n",
        "        if self.right:\n",
        "            return self.right.pop()\n",
        "        else:\n",
        "            val = self.left.pop()\n",
        "            self.right.extendleft(self.left.pop() for _ in range(math.floor(len(self.left) / 2)))\n",
        "            return val\n"
      ],
      "metadata": {
        "id": "RC2MpuC9Z0q6"
      },
      "execution_count": 26,
      "outputs": []
    },
    {
      "cell_type": "code",
      "source": [
        "q = FrontMiddleBackQueue()\n",
        "print(q.pushFront(1))   # Output: None\n",
        "print(q.pushBack(2))    # Output: None\n",
        "print(q.pushMiddle(3))  # Output: None\n",
        "print(q.pushMiddle(4))  # Output: None\n",
        "print(q.popFront())     # Output: 1\n",
        "print(q.popMiddle())    # Output: 3\n",
        "print(q.popMiddle())    # Output: 4\n",
        "print(q.popBack())      # Output: 2\n",
        "print(q.popFront())     # Output: -1"
      ],
      "metadata": {
        "colab": {
          "base_uri": "https://localhost:8080/"
        },
        "id": "mNT83LIBdaqQ",
        "outputId": "096230af-13a5-4e77-cbf7-25a29d0fcb48"
      },
      "execution_count": 27,
      "outputs": [
        {
          "output_type": "stream",
          "name": "stdout",
          "text": [
            "None\n",
            "None\n",
            "None\n",
            "None\n",
            "1\n",
            "4\n",
            "3\n",
            "2\n",
            "-1\n"
          ]
        }
      ]
    },
    {
      "cell_type": "markdown",
      "source": [
        "\n",
        "💡 **Question 8**\n",
        "\n",
        "For a stream of integers, implement a data structure that checks if the last `k` integers parsed in the stream are **equal** to `value`.\n",
        "\n",
        "Implement the **DataStream** class:\n",
        "\n",
        "- `DataStream(int value, int k)` Initializes the object with an empty integer stream and the two integers `value` and `k`.\n",
        "- `boolean consec(int num)` Adds `num` to the stream of integers. Returns `true` if the last `k` integers are equal to `value`, and `false` otherwise. If there are less than `k` integers, the condition does not hold true, so returns `false`.\n",
        "\n",
        "**Example 1:**\n",
        "\n",
        "```\n",
        "Input\n",
        "[\"DataStream\", \"consec\", \"consec\", \"consec\", \"consec\"]\n",
        "[[4, 3], [4], [4], [4], [3]]\n",
        "Output\n",
        "[null, false, false, true, false]\n",
        "\n",
        "Explanation\n",
        "DataStream dataStream = new DataStream(4, 3); //value = 4, k = 3\n",
        "dataStream.consec(4); // Only 1 integer is parsed, so returns False.\n",
        "dataStream.consec(4); // Only 2 integers are parsed.\n",
        "                      // Since 2 is less than k, returns False.\n",
        "dataStream.consec(4); // The 3 integers parsed are all equal to value, so returns True.\n",
        "dataStream.consec(3); // The last k integers parsed in the stream are [4,4,3].\n",
        "                      // Since 3 is not equal to value, it returns False.\n",
        "\n",
        "```                      "
      ],
      "metadata": {
        "id": "Mx-bVWFHch3W"
      }
    },
    {
      "cell_type": "code",
      "source": [
        "from collections import deque\n",
        "\n",
        "class DataStream:\n",
        "    def __init__(self, value: int, k: int):\n",
        "        self.value = value\n",
        "        self.k = k\n",
        "        self.queue = deque()\n",
        "\n",
        "    def consec(self, num: int) -> bool:\n",
        "        self.queue.append(num)\n",
        "        if len(self.queue) > self.k:\n",
        "            self.queue.popleft()\n",
        "        if len(self.queue) < self.k:\n",
        "            return False\n",
        "        return all(x == self.value for x in self.queue)\n"
      ],
      "metadata": {
        "id": "CAf1BoNicqe7"
      },
      "execution_count": 28,
      "outputs": []
    },
    {
      "cell_type": "code",
      "source": [
        "dataStream = DataStream(4, 3)\n",
        "print(dataStream.consec(4))  # Output: False\n",
        "print(dataStream.consec(4))  # Output: False\n",
        "print(dataStream.consec(4))  # Output: True\n",
        "print(dataStream.consec(3))  # Output: False"
      ],
      "metadata": {
        "colab": {
          "base_uri": "https://localhost:8080/"
        },
        "id": "7zTTrK9xeE9F",
        "outputId": "d4bce0d3-3f0e-48fc-d15d-498665096959"
      },
      "execution_count": 29,
      "outputs": [
        {
          "output_type": "stream",
          "name": "stdout",
          "text": [
            "False\n",
            "False\n",
            "True\n",
            "False\n"
          ]
        }
      ]
    },
    {
      "cell_type": "code",
      "source": [],
      "metadata": {
        "id": "fEY_PxPreHxh"
      },
      "execution_count": null,
      "outputs": []
    }
  ]
}