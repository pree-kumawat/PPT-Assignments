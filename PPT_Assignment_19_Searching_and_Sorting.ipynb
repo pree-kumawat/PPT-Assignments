{
  "nbformat": 4,
  "nbformat_minor": 0,
  "metadata": {
    "colab": {
      "provenance": []
    },
    "kernelspec": {
      "name": "python3",
      "display_name": "Python 3"
    },
    "language_info": {
      "name": "python"
    }
  },
  "cells": [
    {
      "cell_type": "markdown",
      "source": [
        "\n",
        "💡 1. **Merge k Sorted Lists**\n",
        "\n",
        "You are given an array of `k` linked-lists `lists`, each linked-list is sorted in ascending order.\n",
        "\n",
        "*Merge all the linked-lists into one sorted linked-list and return it.*\n",
        "\n",
        "**Example 1:**\n",
        "\n",
        "```\n",
        "Input: lists = [[1,4,5],[1,3,4],[2,6]]\n",
        "Output: [1,1,2,3,4,4,5,6]\n",
        "Explanation: The linked-lists are:\n",
        "[\n",
        "  1->4->5,\n",
        "  1->3->4,\n",
        "  2->6\n",
        "]\n",
        "merging them into one sorted list:\n",
        "1->1->2->3->4->4->5->6\n",
        "\n",
        "```\n",
        "\n",
        "**Example 2:**\n",
        "\n",
        "```\n",
        "Input: lists = []\n",
        "Output: []\n",
        "\n",
        "```\n",
        "\n",
        "**Example 3:**\n",
        "\n",
        "```\n",
        "Input: lists = [[]]\n",
        "Output: []\n",
        "\n",
        "```\n",
        "\n",
        "**Constraints:**\n",
        "\n",
        "- `k == lists.length`\n",
        "- `0 <= k <= 10000`\n",
        "- `0 <= lists[i].length <= 500`\n",
        "- `-10000 <= lists[i][j] <= 10000`\n",
        "- `lists[i]` is sorted in **ascending order**.\n",
        "- The sum of `lists[i].length` will not exceed `10000`.\n"
      ],
      "metadata": {
        "id": "NMNl2BaVkcbE"
      }
    },
    {
      "cell_type": "code",
      "execution_count": null,
      "metadata": {
        "id": "yC8HcOCqkI6J"
      },
      "outputs": [],
      "source": [
        "import heapq\n",
        "\n",
        "class ListNode:\n",
        "    def __init__(self, val=0, next=None):\n",
        "        self.val = val\n",
        "        self.next = next\n",
        "\n",
        "def mergeKLists(lists):\n",
        "    # Create a min-heap\n",
        "    min_heap = []\n",
        "\n",
        "    # Insert the first element from each list into the min-heap\n",
        "    for i in range(len(lists)):\n",
        "        if lists[i]:\n",
        "            heapq.heappush(min_heap, (lists[i].val, i))\n",
        "            lists[i] = lists[i].next\n",
        "\n",
        "    # Initialize the result linked list\n",
        "    dummy = ListNode()\n",
        "    curr = dummy\n",
        "\n",
        "    # Merge the lists using the min-heap\n",
        "    while min_heap:\n",
        "        val, index = heapq.heappop(min_heap)\n",
        "        curr.next = ListNode(val)\n",
        "        curr = curr.next\n",
        "\n",
        "        if lists[index]:\n",
        "            heapq.heappush(min_heap, (lists[index].val, index))\n",
        "            lists[index] = lists[index].next\n",
        "\n",
        "    return dummy.next"
      ]
    },
    {
      "cell_type": "markdown",
      "source": [
        "\n",
        "💡 2. **Count of Smaller Numbers After Self**\n",
        "\n",
        "Given an integer array `nums`, return *an integer array* `counts` *where* `counts[i]` *is the number of smaller elements to the right of* `nums[i]`.\n",
        "\n",
        "**Example 1:**\n",
        "\n",
        "```\n",
        "Input: nums = [5,2,6,1]\n",
        "Output: [2,1,1,0]\n",
        "Explanation:\n",
        "To the right of 5 there are2 smaller elements (2 and 1).\n",
        "To the right of 2 there is only1 smaller element (1).\n",
        "To the right of 6 there is1 smaller element (1).\n",
        "To the right of 1 there is0 smaller element.\n",
        "\n",
        "```\n",
        "\n",
        "**Example 2:**\n",
        "\n",
        "```\n",
        "Input: nums = [-1]\n",
        "Output: [0]\n",
        "\n",
        "```\n",
        "\n",
        "**Example 3:**\n",
        "\n",
        "```\n",
        "Input: nums = [-1,-1]\n",
        "Output: [0,0]\n",
        "\n",
        "```\n",
        "\n",
        "**Constraints:**\n",
        "\n",
        "- `1 <= nums.length <= 100000`\n",
        "- `-10000 <= nums[i] <= 10000`"
      ],
      "metadata": {
        "id": "Z-sOVPBdGo_l"
      }
    },
    {
      "cell_type": "code",
      "source": [
        "class Solution:\n",
        "    def countSmaller(self, nums):\n",
        "        def merge_sort(enum):\n",
        "            half = len(enum) // 2\n",
        "            if half:\n",
        "                left, right = merge_sort(enum[:half]), merge_sort(enum[half:])\n",
        "                m, n = len(left), len(right)\n",
        "                i = j = 0\n",
        "                while i < m or j < n:\n",
        "                    if j == n or i < m and left[i][1] <= right[j][1]:\n",
        "                        enum[i+j] = left[i]\n",
        "                        smaller[left[i][0]] += j\n",
        "                        i += 1\n",
        "                    else:\n",
        "                        enum[i+j] = right[j]\n",
        "                        j += 1\n",
        "            return enum\n",
        "        smaller = [0] * len(nums)\n",
        "        merge_sort(list(enumerate(nums)))\n",
        "        return smaller\n"
      ],
      "metadata": {
        "id": "Izohw2FcGr0h"
      },
      "execution_count": null,
      "outputs": []
    },
    {
      "cell_type": "code",
      "source": [
        "solution = Solution()\n",
        "nums = [5, 2, 6, 1]\n",
        "result = solution.countSmaller(nums)\n",
        "print(result)  # Output: [2, 1, 1, 0]\n"
      ],
      "metadata": {
        "colab": {
          "base_uri": "https://localhost:8080/"
        },
        "id": "X64jBsTiIzJc",
        "outputId": "e55d91b0-557e-4c57-b9d1-eafde945679c"
      },
      "execution_count": null,
      "outputs": [
        {
          "output_type": "stream",
          "name": "stdout",
          "text": [
            "[2, 1, 1, 0]\n"
          ]
        }
      ]
    },
    {
      "cell_type": "code",
      "source": [
        "solution = Solution()\n",
        "nums = [-1]\n",
        "result = solution.countSmaller(nums)\n",
        "print(result)  # Output: [0]\n"
      ],
      "metadata": {
        "colab": {
          "base_uri": "https://localhost:8080/"
        },
        "id": "k7Lh4W2gI3U1",
        "outputId": "4aa11546-e847-4d58-82a0-24e83d20c811"
      },
      "execution_count": null,
      "outputs": [
        {
          "output_type": "stream",
          "name": "stdout",
          "text": [
            "[0]\n"
          ]
        }
      ]
    },
    {
      "cell_type": "code",
      "source": [
        "solution = Solution()\n",
        "nums = [-1,-1]\n",
        "result = solution.countSmaller(nums)\n",
        "print(result)  # Output: [0, 0]\n"
      ],
      "metadata": {
        "colab": {
          "base_uri": "https://localhost:8080/"
        },
        "id": "5-kCEmy0I4F0",
        "outputId": "d811e40b-bebb-4784-c542-63dbe7366912"
      },
      "execution_count": null,
      "outputs": [
        {
          "output_type": "stream",
          "name": "stdout",
          "text": [
            "[0, 0]\n"
          ]
        }
      ]
    },
    {
      "cell_type": "markdown",
      "source": [
        "\n",
        "💡 3. **Sort an Array**\n",
        "\n",
        "Given an array of integers `nums`, sort the array in ascending order and return it.\n",
        "\n",
        "You must solve the problem **without using any built-in** functions in `O(nlog(n))` time complexity and with the smallest space complexity possible.\n",
        "\n",
        "**Example 1:**\n",
        "\n",
        "```\n",
        "Input: nums = [5,2,3,1]\n",
        "Output: [1,2,3,5]\n",
        "Explanation: After sorting the array, the positions of some numbers are not changed (for example, 2 and 3), while the positions of other numbers are changed (for example, 1 and 5).\n",
        "\n",
        "```\n",
        "\n",
        "**Example 2:**\n",
        "\n",
        "```\n",
        "Input: nums = [5,1,1,2,0,0]\n",
        "Output: [0,0,1,1,2,5]\n",
        "Explanation: Note that the values of nums are not necessairly unique.\n",
        "\n",
        "```\n",
        "\n",
        "**Constraints:**\n",
        "\n",
        "- `1 <= nums.length <= 5 * 10000`\n",
        "- `-5 * 104 <= nums[i] <= 5 * 10000`\n"
      ],
      "metadata": {
        "id": "het21PatGxIz"
      }
    },
    {
      "cell_type": "code",
      "source": [
        "class Solution:\n",
        "    def sortArray(self, nums):\n",
        "        def merge_sort(nums):\n",
        "            if len(nums) <= 1:\n",
        "                return nums\n",
        "\n",
        "            mid = len(nums) // 2\n",
        "            left = merge_sort(nums[:mid])\n",
        "            right = merge_sort(nums[mid:])\n",
        "\n",
        "            return merge(left, right)\n",
        "\n",
        "        def merge(left, right):\n",
        "            merged = []\n",
        "            i = j = 0\n",
        "\n",
        "            while i < len(left) and j < len(right):\n",
        "                if left[i] <= right[j]:\n",
        "                    merged.append(left[i])\n",
        "                    i += 1\n",
        "                else:\n",
        "                    merged.append(right[j])\n",
        "                    j += 1\n",
        "\n",
        "            merged.extend(left[i:])\n",
        "            merged.extend(right[j:])\n",
        "\n",
        "            return merged\n",
        "\n",
        "        return merge_sort(nums)\n"
      ],
      "metadata": {
        "id": "wd7UH3SmJ38l"
      },
      "execution_count": null,
      "outputs": []
    },
    {
      "cell_type": "code",
      "source": [
        "solution = Solution()\n",
        "nums = [5, 2, 3, 1]\n",
        "result = solution.sortArray(nums)\n",
        "print(result)  # Output: [1, 2, 3, 5]\n"
      ],
      "metadata": {
        "colab": {
          "base_uri": "https://localhost:8080/"
        },
        "id": "AFo3g3WoJffI",
        "outputId": "078cb64e-b103-4709-db26-c7d06f230d63"
      },
      "execution_count": null,
      "outputs": [
        {
          "output_type": "stream",
          "name": "stdout",
          "text": [
            "[1, 2, 3, 5]\n"
          ]
        }
      ]
    },
    {
      "cell_type": "code",
      "source": [
        "solution = Solution()\n",
        "nums = [5,1,1,2,0,0]\n",
        "result = solution.sortArray(nums)\n",
        "print(result)  # Output: [0, 0, 1, 1, 2, 5]"
      ],
      "metadata": {
        "colab": {
          "base_uri": "https://localhost:8080/"
        },
        "id": "fWhKrnS6KAmt",
        "outputId": "08367125-75a4-46d7-e519-72167b89c814"
      },
      "execution_count": null,
      "outputs": [
        {
          "output_type": "stream",
          "name": "stdout",
          "text": [
            "[0, 0, 1, 1, 2, 5]\n"
          ]
        }
      ]
    },
    {
      "cell_type": "markdown",
      "source": [
        "\n",
        "💡 4. **Move all zeroes to end of array**\n",
        "\n",
        "Given an array of random numbers, Push all the zero’s of a given array to the end of the array. For example, if the given arrays is {1, 9, 8, 4, 0, 0, 2, 7, 0, 6, 0}, it should be changed to {1, 9, 8, 4, 2, 7, 6, 0, 0, 0, 0}. The order of all other elements should be same. Expected time complexity is O(n) and extra space is O(1).\n",
        "\n",
        "**Example:**\n",
        "\n",
        "```\n",
        "Input :  arr[] = {1, 2, 0, 4, 3, 0, 5, 0};\n",
        "Output : arr[] = {1, 2, 4, 3, 5, 0, 0, 0};\n",
        "\n",
        "Input : arr[]  = {1, 2, 0, 0, 0, 3, 6};\n",
        "Output : arr[] = {1, 2, 3, 6, 0, 0, 0};\n",
        "\n",
        "```"
      ],
      "metadata": {
        "id": "UQ1u8FGWG3hx"
      }
    },
    {
      "cell_type": "code",
      "source": [
        "class Solution:\n",
        "    def moveZeroes(self, nums):\n",
        "        left = 0  # leftmost zero position\n",
        "\n",
        "        for i in range(len(nums)):\n",
        "            if nums[i] != 0:\n",
        "                nums[i], nums[left] = nums[left], nums[i]\n",
        "                left += 1\n",
        "\n",
        "        return nums\n"
      ],
      "metadata": {
        "id": "ro38Lq4nKcOm"
      },
      "execution_count": null,
      "outputs": []
    },
    {
      "cell_type": "code",
      "source": [
        "solution = Solution()\n",
        "nums = [1, 2, 0, 4, 3, 0, 5, 0]\n",
        "result = solution.moveZeroes(nums)\n",
        "print(result)  # Output: [1, 2, 4, 3, 5, 0, 0, 0]\n"
      ],
      "metadata": {
        "colab": {
          "base_uri": "https://localhost:8080/"
        },
        "id": "FVZ77uqJKfu_",
        "outputId": "5db15099-a2a0-418b-da92-0962ba16c4b0"
      },
      "execution_count": null,
      "outputs": [
        {
          "output_type": "stream",
          "name": "stdout",
          "text": [
            "[1, 2, 4, 3, 5, 0, 0, 0]\n"
          ]
        }
      ]
    },
    {
      "cell_type": "code",
      "source": [
        "solution = Solution()\n",
        "nums = [1, 2, 0, 0, 0, 3, 6]\n",
        "result = solution.moveZeroes(nums)\n",
        "print(result)  # Output: [1, 2, 3, 6, 0, 0, 0]\n"
      ],
      "metadata": {
        "colab": {
          "base_uri": "https://localhost:8080/"
        },
        "id": "rhlPurIqKsAn",
        "outputId": "301fddf6-b030-45df-e688-0a50edb9fbcf"
      },
      "execution_count": null,
      "outputs": [
        {
          "output_type": "stream",
          "name": "stdout",
          "text": [
            "[1, 2, 3, 6, 0, 0, 0]\n"
          ]
        }
      ]
    },
    {
      "cell_type": "markdown",
      "source": [
        "\n",
        "💡 5. **Rearrange array in alternating positive & negative items with O(1) extra space**\n",
        "\n",
        "Given an **array of positive** and **negative numbers**, arrange them in an **alternate** fashion such that every positive number is followed by a negative and vice-versa maintaining the **order of appearance**. The number of positive and negative numbers need not be equal. If there are more positive numbers they appear at the end of the array. If there are more negative numbers, they too appear at the end of the array.\n",
        "\n",
        "**Examples:**\n",
        "\n",
        "> Input:  arr[] = {1, 2, 3, -4, -1, 4}\n",
        "Output: arr[] = {-4, 1, -1, 2, 3, 4}\n",
        "\n",
        "> Input:  arr[] = {-5, -2, 5, 2, 4, 7, 1, 8, 0, -8}\n",
        "Output: arr[] = {-5, 5, -2, 2, -8, 4, 7, 1, 8, 0}\n",
        "\n"
      ],
      "metadata": {
        "id": "FOi8FAYTHCN_"
      }
    },
    {
      "cell_type": "code",
      "source": [
        "class Solution:\n",
        "    def rearrangeArray(self, nums):\n",
        "        # Partition the array into positive and negative numbers\n",
        "        pIndex = self.partition(nums)\n",
        "\n",
        "        # Rearrange the array in the alternating fashion\n",
        "        self.rearrange(nums, pIndex)\n",
        "\n",
        "        return nums\n",
        "\n",
        "    def partition(self, nums):\n",
        "        n = len(nums)\n",
        "        pIndex = 0  # Partition index for positive numbers\n",
        "\n",
        "        for i in range(n):\n",
        "            if nums[i] <= 0:\n",
        "                nums[i], nums[pIndex] = nums[pIndex], nums[i]\n",
        "                pIndex += 1\n",
        "\n",
        "        return pIndex\n",
        "\n",
        "    def rearrange(self, nums, pIndex):\n",
        "        n = len(nums)\n",
        "        posIndex, negIndex = 0, pIndex\n",
        "\n",
        "        while negIndex < n and posIndex < negIndex and nums[posIndex] < 0:\n",
        "            nums[posIndex], nums[negIndex] = nums[negIndex], nums[posIndex]\n",
        "            posIndex += 2\n",
        "            negIndex += 1\n"
      ],
      "metadata": {
        "id": "Z1DbwuahLx1p"
      },
      "execution_count": 33,
      "outputs": []
    },
    {
      "cell_type": "code",
      "source": [
        "solution = Solution()\n",
        "nums = [1, 2, 3, -4, -1, 4]\n",
        "result = solution.rearrangeArray(nums)\n",
        "print(result)\n"
      ],
      "metadata": {
        "colab": {
          "base_uri": "https://localhost:8080/"
        },
        "id": "5PLGp6TtL1xx",
        "outputId": "a5a0d0c6-ce99-429c-eb9a-fd989ad31f88"
      },
      "execution_count": 34,
      "outputs": [
        {
          "output_type": "stream",
          "name": "stdout",
          "text": [
            "[3, -1, 1, -4, 2, 4]\n"
          ]
        }
      ]
    },
    {
      "cell_type": "markdown",
      "source": [
        "\n",
        "💡 **6. Merge two sorted arrays**\n",
        "\n",
        "Given two sorted arrays, the task is to merge them in a sorted manner.\n",
        "\n",
        "**Examples:**\n",
        "\n",
        "> Input: arr1[] = { 1, 3, 4, 5}, arr2[] = {2, 4, 6, 8}\n",
        "Output: arr3[] = {1, 2, 3, 4, 4, 5, 6, 8}\n",
        "\n",
        "> Input: arr1[] = { 5, 8, 9}, arr2[] = {4, 7, 8}\n",
        "Output: arr3[] = {4, 5, 7, 8, 8, 9}\n"
      ],
      "metadata": {
        "id": "HmsUlr4VHKbe"
      }
    },
    {
      "cell_type": "code",
      "source": [
        "class Solution:\n",
        "    def mergeArrays(self, arr1, arr2):\n",
        "        n1, n2 = len(arr1), len(arr2)\n",
        "        merged = [0] * (n1 + n2)  # Resultant merged array\n",
        "        i = j = k = 0  # Pointers for arr1, arr2, and merged array\n",
        "\n",
        "        while i < n1 and j < n2:\n",
        "            if arr1[i] <= arr2[j]:\n",
        "                merged[k] = arr1[i]\n",
        "                i += 1\n",
        "            else:\n",
        "                merged[k] = arr2[j]\n",
        "                j += 1\n",
        "            k += 1\n",
        "\n",
        "        while i < n1:\n",
        "            merged[k] = arr1[i]\n",
        "            i += 1\n",
        "            k += 1\n",
        "\n",
        "        while j < n2:\n",
        "            merged[k] = arr2[j]\n",
        "            j += 1\n",
        "            k += 1\n",
        "\n",
        "        return merged\n"
      ],
      "metadata": {
        "id": "cc3Bj6QPHR3E"
      },
      "execution_count": 36,
      "outputs": []
    },
    {
      "cell_type": "code",
      "source": [
        "solution = Solution()\n",
        "arr1 = [1, 3, 4, 5]\n",
        "arr2 = [2, 4, 6, 8]\n",
        "result = solution.mergeArrays(arr1, arr2)\n",
        "print(result)  # Output: [1, 2, 3, 4, 4, 5, 6, 8]\n"
      ],
      "metadata": {
        "colab": {
          "base_uri": "https://localhost:8080/"
        },
        "id": "tygESYbMbsPi",
        "outputId": "32ea076a-2162-4d6f-92f8-08b3bc4bd13e"
      },
      "execution_count": 37,
      "outputs": [
        {
          "output_type": "stream",
          "name": "stdout",
          "text": [
            "[1, 2, 3, 4, 4, 5, 6, 8]\n"
          ]
        }
      ]
    },
    {
      "cell_type": "code",
      "source": [
        "solution = Solution()\n",
        "arr1 = [5, 8, 9]\n",
        "arr2 = [4, 7, 8]\n",
        "result = solution.mergeArrays(arr1, arr2)\n",
        "print(result)  # Output: [4, 5, 7, 8, 8, 9]\n"
      ],
      "metadata": {
        "colab": {
          "base_uri": "https://localhost:8080/"
        },
        "id": "lowTlv71bx9a",
        "outputId": "246964dc-0da2-4a0e-91b3-bf9691eac900"
      },
      "execution_count": 39,
      "outputs": [
        {
          "output_type": "stream",
          "name": "stdout",
          "text": [
            "[4, 5, 7, 8, 8, 9]\n"
          ]
        }
      ]
    },
    {
      "cell_type": "markdown",
      "source": [
        "\n",
        "💡 7. **Intersection of Two Arrays**\n",
        "\n",
        "Given two integer arrays `nums1` and `nums2`, return *an array of their intersection*. Each element in the result must be **unique** and you may return the result in **any order**.\n",
        "\n",
        "**Example 1:**\n",
        "\n",
        "```\n",
        "Input: nums1 = [1,2,2,1], nums2 = [2,2]\n",
        "Output: [2]\n",
        "\n",
        "```\n",
        "\n",
        "**Example 2:**\n",
        "\n",
        "```\n",
        "Input: nums1 = [4,9,5], nums2 = [9,4,9,8,4]\n",
        "Output: [9,4]\n",
        "Explanation: [4,9] is also accepted.\n",
        "\n",
        "```\n",
        "\n",
        "**Constraints:**\n",
        "\n",
        "- `1 <= nums1.length, nums2.length <= 1000`\n",
        "- `0 <= nums1[i], nums2[i] <= 1000`\n"
      ],
      "metadata": {
        "id": "05PYkNw2HWu-"
      }
    },
    {
      "cell_type": "code",
      "source": [
        "class Solution:\n",
        "    def intersection(self, nums1, nums2):\n",
        "        nums1.sort()  # Sort the first array\n",
        "        nums2.sort()  # Sort the second array\n",
        "\n",
        "        result = set()  # Set to store unique elements\n",
        "\n",
        "        i = j = 0  # Pointers for nums1 and nums2\n",
        "\n",
        "        while i < len(nums1) and j < len(nums2):\n",
        "            if nums1[i] == nums2[j]:\n",
        "                result.add(nums1[i])\n",
        "                i += 1\n",
        "                j += 1\n",
        "            elif nums1[i] < nums2[j]:\n",
        "                i += 1\n",
        "            else:\n",
        "                j += 1\n",
        "\n",
        "        return list(result)\n"
      ],
      "metadata": {
        "id": "bDE3FTvXHZZk"
      },
      "execution_count": 40,
      "outputs": []
    },
    {
      "cell_type": "code",
      "source": [
        "solution = Solution()\n",
        "nums1 = [1, 2, 2, 1]\n",
        "nums2 = [2, 2]\n",
        "result = solution.intersection(nums1, nums2)\n",
        "print(result)  # Output: [2]"
      ],
      "metadata": {
        "colab": {
          "base_uri": "https://localhost:8080/"
        },
        "id": "0anNalXlceSL",
        "outputId": "d2fd909a-74a1-43b1-9412-a4bbe0836fed"
      },
      "execution_count": 41,
      "outputs": [
        {
          "output_type": "stream",
          "name": "stdout",
          "text": [
            "[2]\n"
          ]
        }
      ]
    },
    {
      "cell_type": "code",
      "source": [
        "solution = Solution()\n",
        "nums1 = [4,9,5]\n",
        "nums2 = [9,4,9,8,4]\n",
        "result = solution.intersection(nums1, nums2)\n",
        "print(result)  # Output: [9, 4]\n"
      ],
      "metadata": {
        "colab": {
          "base_uri": "https://localhost:8080/"
        },
        "id": "CAocqUk0cg6h",
        "outputId": "6fb1a251-b0aa-4be4-b354-dee7d3d828c3"
      },
      "execution_count": 43,
      "outputs": [
        {
          "output_type": "stream",
          "name": "stdout",
          "text": [
            "[9, 4]\n"
          ]
        }
      ]
    },
    {
      "cell_type": "markdown",
      "source": [
        "\n",
        "💡 8. **Intersection of Two Arrays II**\n",
        "\n",
        "Given two integer arrays `nums1` and `nums2`, return *an array of their intersection*. Each element in the result must appear as many times as it shows in both arrays and you may return the result in **any order**.\n",
        "\n",
        "**Example 1:**\n",
        "\n",
        "```\n",
        "Input: nums1 = [1,2,2,1], nums2 = [2,2]\n",
        "Output: [2,2]\n",
        "\n",
        "```\n",
        "\n",
        "**Example 2:**\n",
        "\n",
        "```\n",
        "Input: nums1 = [4,9,5], nums2 = [9,4,9,8,4]\n",
        "Output: [4,9]\n",
        "Explanation: [9,4] is also accepted.\n",
        "\n",
        "```\n",
        "\n",
        "**Constraints:**\n",
        "\n",
        "- `1 <= nums1.length, nums2.length <= 1000`\n",
        "- `0 <= nums1[i], nums2[i] <= 1000`\n"
      ],
      "metadata": {
        "id": "BE-IMcOnHdMA"
      }
    },
    {
      "cell_type": "code",
      "source": [
        "from collections import defaultdict\n",
        "\n",
        "class Solution:\n",
        "    def intersect(self, nums1, nums2):\n",
        "        freq1 = defaultdict(int)  # Dictionary to store frequencies\n",
        "\n",
        "        # Count frequencies of elements in nums1\n",
        "        for num in nums1:\n",
        "            freq1[num] += 1\n",
        "\n",
        "        result = []  # List to store the intersection\n",
        "\n",
        "        # Iterate over nums2 and check for common elements\n",
        "        for num in nums2:\n",
        "            if freq1[num] > 0:\n",
        "                result.append(num)\n",
        "                freq1[num] -= 1\n",
        "\n",
        "        return result\n"
      ],
      "metadata": {
        "id": "asMrQYepHgA3"
      },
      "execution_count": 44,
      "outputs": []
    },
    {
      "cell_type": "code",
      "source": [
        "solution = Solution()\n",
        "nums1 = [1, 2, 2, 1]\n",
        "nums2 = [2, 2]\n",
        "result = solution.intersect(nums1, nums2)\n",
        "print(result)  # Output: [2, 2]"
      ],
      "metadata": {
        "colab": {
          "base_uri": "https://localhost:8080/"
        },
        "id": "5Um3KdtFdLux",
        "outputId": "4ed901db-18d8-42a0-93ff-bc21e4f88e6f"
      },
      "execution_count": 45,
      "outputs": [
        {
          "output_type": "stream",
          "name": "stdout",
          "text": [
            "[2, 2]\n"
          ]
        }
      ]
    },
    {
      "cell_type": "code",
      "source": [
        "solution = Solution()\n",
        "nums1 = [4,9,5]\n",
        "nums2 = [9,4,9,8,4]\n",
        "result = solution.intersect(nums1, nums2)\n",
        "print(result)  # Output: [9, 4]"
      ],
      "metadata": {
        "colab": {
          "base_uri": "https://localhost:8080/"
        },
        "id": "t-U2vaKYdO3M",
        "outputId": "07381d17-f522-4e41-a4ae-6149f502c3bf"
      },
      "execution_count": 47,
      "outputs": [
        {
          "output_type": "stream",
          "name": "stdout",
          "text": [
            "[9, 4]\n"
          ]
        }
      ]
    },
    {
      "cell_type": "code",
      "source": [],
      "metadata": {
        "id": "4pn5II5RdVwy"
      },
      "execution_count": null,
      "outputs": []
    }
  ]
}