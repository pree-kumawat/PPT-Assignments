{
  "nbformat": 4,
  "nbformat_minor": 0,
  "metadata": {
    "colab": {
      "provenance": []
    },
    "kernelspec": {
      "name": "python3",
      "display_name": "Python 3"
    },
    "language_info": {
      "name": "python"
    }
  },
  "cells": [
    {
      "cell_type": "markdown",
      "source": [
        "\n",
        "💡 1. **Merge Intervals**\n",
        "\n",
        "Given an array of `intervals` where `intervals[i] = [starti, endi]`, merge all overlapping intervals, and return *an array of the non-overlapping intervals that cover all the intervals in the input*.\n",
        "\n",
        "**Example 1:**\n",
        "\n",
        "```\n",
        "Input: intervals = [[1,3],[2,6],[8,10],[15,18]]\n",
        "Output: [[1,6],[8,10],[15,18]]\n",
        "Explanation: Since intervals [1,3] and [2,6] overlap, merge them into [1,6].\n",
        "\n",
        "```\n",
        "\n",
        "**Example 2:**\n",
        "\n",
        "```\n",
        "Input: intervals = [[1,4],[4,5]]\n",
        "Output: [[1,5]]\n",
        "Explanation: Intervals [1,4] and [4,5] are considered overlapping.\n",
        "\n",
        "```\n",
        "\n",
        "**Constraints:**\n",
        "\n",
        "- `1 <= intervals.length <= 10000`\n",
        "- `intervals[i].length == 2`\n",
        "- `0 <= starti <= endi <= 10000`\n"
      ],
      "metadata": {
        "id": "LlFnPwF00fbW"
      }
    },
    {
      "cell_type": "code",
      "execution_count": 1,
      "metadata": {
        "id": "L-U2_ZgP0BTE"
      },
      "outputs": [],
      "source": [
        "def merge(intervals):\n",
        "    intervals.sort(key=lambda x: x[0])  # Sort intervals based on start time\n",
        "    merged = [intervals[0]]  # Initialize merged list with the first interval\n",
        "\n",
        "    for interval in intervals[1:]:\n",
        "        prev_start, prev_end = merged[-1]\n",
        "        curr_start, curr_end = interval\n",
        "\n",
        "        if curr_start <= prev_end:\n",
        "            merged[-1][1] = max(prev_end, curr_end)  # Update end time if there is overlap\n",
        "        else:\n",
        "            merged.append(interval)  # Add the current interval to merged list\n",
        "\n",
        "    return merged"
      ]
    },
    {
      "cell_type": "code",
      "source": [
        "intervals1 = [[1, 3], [2, 6], [8, 10], [15, 18]]\n",
        "print(merge(intervals1))  # Output: [[1, 6], [8, 10], [15, 18]]\n",
        "\n",
        "intervals2 = [[1, 4], [4, 5]]\n",
        "print(merge(intervals2))  # Output: [[1, 5]]\n"
      ],
      "metadata": {
        "colab": {
          "base_uri": "https://localhost:8080/"
        },
        "id": "PXXAKusW1ObM",
        "outputId": "77310def-0398-47b1-f37b-aced4bad1d25"
      },
      "execution_count": 2,
      "outputs": [
        {
          "output_type": "stream",
          "name": "stdout",
          "text": [
            "[[1, 6], [8, 10], [15, 18]]\n",
            "[[1, 5]]\n"
          ]
        }
      ]
    },
    {
      "cell_type": "markdown",
      "source": [
        "\n",
        "💡 2. **Sort Colors**\n",
        "\n",
        "Given an array `nums` with `n` objects colored red, white, or blue, sort them **[in-place](https://en.wikipedia.org/wiki/In-place_algorithm)** so that objects of the same color are adjacent, with the colors in the order red, white, and blue.\n",
        "\n",
        "We will use the integers `0`, `1`, and `2` to represent the color red, white, and blue, respectively.\n",
        "\n",
        "You must solve this problem without using the library's sort function.\n",
        "\n",
        "**Example 1:**\n",
        "\n",
        "```\n",
        "Input: nums = [2,0,2,1,1,0]\n",
        "Output: [0,0,1,1,2,2]\n",
        "\n",
        "```\n",
        "\n",
        "**Example 2:**\n",
        "\n",
        "```\n",
        "Input: nums = [2,0,1]\n",
        "Output: [0,1,2]\n",
        "\n",
        "```\n",
        "\n",
        "**Constraints:**\n",
        "\n",
        "- `n == nums.length`\n",
        "- `1 <= n <= 300`\n",
        "- `nums[i]` is either `0`, `1`, or `2`."
      ],
      "metadata": {
        "id": "MK_8G0ZF1akN"
      }
    },
    {
      "cell_type": "code",
      "source": [
        "def sortColors(nums):\n",
        "    left = 0  # Pointer for 0 (red)\n",
        "    right = len(nums) - 1  # Pointer for 2 (blue)\n",
        "    current = 0  # Pointer for current element\n",
        "\n",
        "    while current <= right:\n",
        "        if nums[current] == 0:\n",
        "            nums[current], nums[left] = nums[left], nums[current]\n",
        "            left += 1\n",
        "            current += 1\n",
        "        elif nums[current] == 2:\n",
        "            nums[current], nums[right] = nums[right], nums[current]\n",
        "            right -= 1\n",
        "        else:\n",
        "            current += 1"
      ],
      "metadata": {
        "id": "WN_59Bzy1QoU"
      },
      "execution_count": 3,
      "outputs": []
    },
    {
      "cell_type": "code",
      "source": [
        "nums1 = [2, 0, 2, 1, 1, 0]\n",
        "sortColors(nums1)\n",
        "print(nums1)  # Output: [0, 0, 1, 1, 2, 2]\n",
        "\n",
        "nums2 = [2, 0, 1]\n",
        "sortColors(nums2)\n",
        "print(nums2)  # Output: [0, 1, 2]\n"
      ],
      "metadata": {
        "colab": {
          "base_uri": "https://localhost:8080/"
        },
        "id": "yo-HxcDk1ubh",
        "outputId": "0c1eff09-3b2c-4493-b17a-5ecf8e7b24aa"
      },
      "execution_count": 4,
      "outputs": [
        {
          "output_type": "stream",
          "name": "stdout",
          "text": [
            "[0, 0, 1, 1, 2, 2]\n",
            "[0, 1, 2]\n"
          ]
        }
      ]
    },
    {
      "cell_type": "markdown",
      "source": [
        "\n",
        "💡 3. **First Bad Version Solution**\n",
        "\n",
        "You are a product manager and currently leading a team to develop a new product. Unfortunately, the latest version of your product fails the quality check. Since each version is developed based on the previous version, all the versions after a bad version are also bad.\n",
        "\n",
        "Suppose you have `n` versions `[1, 2, ..., n]` and you want to find out the first bad one, which causes all the following ones to be bad.\n",
        "\n",
        "You are given an API `bool isBadVersion(version)` which returns whether `version` is bad. Implement a function to find the first bad version. You should minimize the number of calls to the API.\n",
        "\n",
        "**Example 1:**\n",
        "\n",
        "```\n",
        "Input: n = 5, bad = 4\n",
        "Output: 4\n",
        "Explanation:\n",
        "call isBadVersion(3) -> false\n",
        "call isBadVersion(5) -> true\n",
        "call isBadVersion(4) -> true\n",
        "Then 4 is the first bad version.\n",
        "\n",
        "```\n",
        "\n",
        "**Example 2:**\n",
        "\n",
        "```\n",
        "Input: n = 1, bad = 1\n",
        "Output: 1\n",
        "\n",
        "```\n",
        "\n",
        "**Constraints:**\n",
        "\n",
        "- `1 <= bad <= n <= 2^31 - 1`\n"
      ],
      "metadata": {
        "id": "Z-upVNM92MG_"
      }
    },
    {
      "cell_type": "code",
      "source": [
        "def firstBadVersion(n):\n",
        "    left = 1\n",
        "    right = n\n",
        "\n",
        "    while left < right:\n",
        "        mid = left + (right - left) // 2\n",
        "        if isBadVersion(mid):\n",
        "            right = mid\n",
        "        else:\n",
        "            left = mid + 1\n",
        "\n",
        "    return left\n"
      ],
      "metadata": {
        "id": "ElU7fIeQ3juv"
      },
      "execution_count": 13,
      "outputs": []
    },
    {
      "cell_type": "code",
      "source": [
        "# Example 1\n",
        "def isBadVersion(version):\n",
        "    return version >= 4\n",
        "\n",
        "n1 = 5\n",
        "bad1 = 4\n",
        "print(firstBadVersion(n1))  # Output: 4\n",
        "\n",
        "# Example 2\n",
        "def isBadVersion(version):\n",
        "    return version >= 1\n",
        "\n",
        "n2 = 1\n",
        "bad2 = 1\n",
        "print(firstBadVersion(n2))  # Output: 1\n"
      ],
      "metadata": {
        "colab": {
          "base_uri": "https://localhost:8080/"
        },
        "id": "NIvHlecf5KJ3",
        "outputId": "f59e87d3-8002-4e46-f500-f06705ffd394"
      },
      "execution_count": 14,
      "outputs": [
        {
          "output_type": "stream",
          "name": "stdout",
          "text": [
            "4\n",
            "1\n"
          ]
        }
      ]
    },
    {
      "cell_type": "markdown",
      "source": [
        "\n",
        "💡 4. **Maximum Gap**\n",
        "\n",
        "Given an integer array `nums`, return *the maximum difference between two successive elements in its sorted form*. If the array contains less than two elements, return `0`.\n",
        "\n",
        "You must write an algorithm that runs in linear time and uses linear extra space.\n",
        "\n",
        "**Example 1:**\n",
        "\n",
        "```\n",
        "Input: nums = [3,6,9,1]\n",
        "Output: 3\n",
        "Explanation: The sorted form of the array is [1,3,6,9], either (3,6) or (6,9) has the maximum difference 3.\n",
        "\n",
        "```\n",
        "\n",
        "**Example 2:**\n",
        "\n",
        "```\n",
        "Input: nums = [10]\n",
        "Output: 0\n",
        "Explanation: The array contains less than 2 elements, therefore return 0.\n",
        "\n",
        "```\n",
        "\n",
        "**Constraints:**\n",
        "\n",
        "- `1 <= nums.length <= 10^5`\n",
        "- `0 <= nums[i] <= 10^9`\n"
      ],
      "metadata": {
        "id": "PFbNxdP55ZVx"
      }
    },
    {
      "cell_type": "code",
      "source": [
        "def maximumGap(nums):\n",
        "    if len(nums) < 2:\n",
        "        return 0\n",
        "\n",
        "    max_num = max(nums)\n",
        "    num_digits = int(math.log10(max_num)) + 1\n",
        "\n",
        "    exp = 1\n",
        "    for _ in range(num_digits):\n",
        "        buckets = [[] for _ in range(10)]\n",
        "\n",
        "        for num in nums:\n",
        "            digit = (num // exp) % 10\n",
        "            buckets[digit].append(num)\n",
        "\n",
        "        nums = [num for bucket in buckets for num in bucket]\n",
        "\n",
        "        exp *= 10\n",
        "\n",
        "    max_gap = 0\n",
        "    for i in range(1, len(nums)):\n",
        "        max_gap = max(max_gap, nums[i] - nums[i - 1])\n",
        "\n",
        "    return max_gap\n"
      ],
      "metadata": {
        "id": "wuLvEz_k5ui1"
      },
      "execution_count": 17,
      "outputs": []
    },
    {
      "cell_type": "code",
      "source": [
        "import math\n",
        "\n",
        "# Example 1\n",
        "nums1 = [3, 6, 9, 1]\n",
        "print(maximumGap(nums1))  # Output: 3\n",
        "\n",
        "# Example 2\n",
        "nums2 = [10]\n",
        "print(maximumGap(nums2))  # Output: 0\n"
      ],
      "metadata": {
        "colab": {
          "base_uri": "https://localhost:8080/"
        },
        "id": "TU-Ke0FL6NRJ",
        "outputId": "dcdbfe74-dc84-4145-d07b-184b6523bc81"
      },
      "execution_count": 18,
      "outputs": [
        {
          "output_type": "stream",
          "name": "stdout",
          "text": [
            "3\n",
            "0\n"
          ]
        }
      ]
    },
    {
      "cell_type": "markdown",
      "source": [
        "\n",
        "💡 5. **Contains Duplicate**\n",
        "\n",
        "Given an integer array `nums`, return `true` if any value appears **at least twice** in the array, and return `false` if every element is distinct.\n",
        "\n",
        "**Example 1:**\n",
        "\n",
        "```\n",
        "Input: nums = [1,2,3,1]\n",
        "Output: true\n",
        "\n",
        "```\n",
        "\n",
        "**Example 2:**\n",
        "\n",
        "```\n",
        "Input: nums = [1,2,3,4]\n",
        "Output: false\n",
        "\n",
        "```\n",
        "\n",
        "**Example 3:**\n",
        "\n",
        "```\n",
        "Input: nums = [1,1,1,3,3,4,3,2,4,2]\n",
        "Output: true\n",
        "\n",
        "```\n",
        "\n",
        "**Constraints:**\n",
        "\n",
        "- `1 <= nums.length <= 10^5`\n",
        "- `109 <= nums[i] <= 10^9`\n"
      ],
      "metadata": {
        "id": "elxB82366Zhd"
      }
    },
    {
      "cell_type": "code",
      "source": [
        "def containsDuplicate(nums):\n",
        "    num_set = set()\n",
        "    for num in nums:\n",
        "        if num in num_set:\n",
        "            return True\n",
        "        num_set.add(num)\n",
        "    return False\n"
      ],
      "metadata": {
        "id": "CFNOZmQe6P5Z"
      },
      "execution_count": 19,
      "outputs": []
    },
    {
      "cell_type": "code",
      "source": [
        "# Example 1\n",
        "nums1 = [1, 2, 3, 1]\n",
        "print(containsDuplicate(nums1))  # Output: True\n",
        "\n",
        "# Example 2\n",
        "nums2 = [1, 2, 3, 4]\n",
        "print(containsDuplicate(nums2))  # Output: False\n",
        "\n",
        "# Example 3\n",
        "nums3 = [1, 1, 1, 3, 3, 4, 3, 2, 4, 2]\n",
        "print(containsDuplicate(nums3))  # Output: True"
      ],
      "metadata": {
        "colab": {
          "base_uri": "https://localhost:8080/"
        },
        "id": "6KI_1FZk6s-s",
        "outputId": "965b863e-055a-43fe-b755-f2ef0afe6396"
      },
      "execution_count": 20,
      "outputs": [
        {
          "output_type": "stream",
          "name": "stdout",
          "text": [
            "True\n",
            "False\n",
            "True\n"
          ]
        }
      ]
    },
    {
      "cell_type": "markdown",
      "source": [
        "\n",
        "💡 6. **Minimum Number of Arrows to Burst Balloons**\n",
        "\n",
        "There are some spherical balloons taped onto a flat wall that represents the XY-plane. The balloons are represented as a 2D integer array `points` where `points[i] = [xstart, xend]` denotes a balloon whose **horizontal diameter** stretches between `xstart` and `xend`. You do not know the exact y-coordinates of the balloons.\n",
        "\n",
        "Arrows can be shot up **directly vertically** (in the positive y-direction) from different points along the x-axis. A balloon with `xstart` and `xend` is **burst** by an arrow shot at `x` if `xstart <= x <= xend`. There is **no limit** to the number of arrows that can be shot. A shot arrow keeps traveling up infinitely, bursting any balloons in its path.\n",
        "\n",
        "Given the array `points`, return *the **minimum** number of arrows that must be shot to burst all balloons*.\n",
        "\n",
        "**Example 1:**\n",
        "\n",
        "```\n",
        "Input: points = [[10,16],[2,8],[1,6],[7,12]]\n",
        "Output: 2\n",
        "Explanation: The balloons can be burst by 2 arrows:\n",
        "- Shoot an arrow at x = 6, bursting the balloons [2,8] and [1,6].\n",
        "- Shoot an arrow at x = 11, bursting the balloons [10,16] and [7,12].\n",
        "\n",
        "```\n",
        "\n",
        "**Example 2:**\n",
        "\n",
        "```\n",
        "Input: points = [[1,2],[3,4],[5,6],[7,8]]\n",
        "Output: 4\n",
        "Explanation: One arrow needs to be shot for each balloon for a total of 4 arrows.\n",
        "\n",
        "```\n",
        "\n",
        "**Example 3:**\n",
        "\n",
        "```\n",
        "Input: points = [[1,2],[2,3],[3,4],[4,5]]\n",
        "Output: 2\n",
        "Explanation: The balloons can be burst by 2 arrows:\n",
        "- Shoot an arrow at x = 2, bursting the balloons [1,2] and [2,3].\n",
        "- Shoot an arrow at x = 4, bursting the balloons [3,4] and [4,5].\n",
        "\n",
        "```\n",
        "\n",
        "**Constraints:**\n",
        "\n",
        "- `1 <= points.length <= 10^5`\n",
        "- `points[i].length == 2`\n",
        "- `231 <= xstart < xend <= 2^31 - 1`\n"
      ],
      "metadata": {
        "id": "vG4xHiGaZvM7"
      }
    },
    {
      "cell_type": "code",
      "source": [
        "def findMinArrowShots(points):\n",
        "    if not points:\n",
        "        return 0\n",
        "\n",
        "    # Sort the intervals based on their end points\n",
        "    points.sort(key=lambda x: x[1])\n",
        "\n",
        "    arrows = 1\n",
        "    end = points[0][1]\n",
        "\n",
        "    for i in range(1, len(points)):\n",
        "        # If the current interval overlaps with the previous interval, continue\n",
        "        if points[i][0] <= end:\n",
        "            continue\n",
        "\n",
        "        # If the current interval does not overlap, increment the arrows count\n",
        "        arrows += 1\n",
        "        end = points[i][1]\n",
        "\n",
        "    return arrows\n"
      ],
      "metadata": {
        "id": "OJH3iNcP6wT_"
      },
      "execution_count": 21,
      "outputs": []
    },
    {
      "cell_type": "code",
      "source": [
        "# Example 1\n",
        "points1 = [[10, 16], [2, 8], [1, 6], [7, 12]]\n",
        "print(findMinArrowShots(points1))  # Output: 2\n",
        "\n",
        "# Example 2\n",
        "points2 = [[1, 2], [3, 4], [5, 6], [7, 8]]\n",
        "print(findMinArrowShots(points2))  # Output: 4\n",
        "\n",
        "# Example 3\n",
        "points3 = [[1, 2], [2, 3], [3, 4], [4, 5]]\n",
        "print(findMinArrowShots(points3))  # Output: 2\n"
      ],
      "metadata": {
        "colab": {
          "base_uri": "https://localhost:8080/"
        },
        "id": "6-deoZ-7aHHx",
        "outputId": "cd2870ab-3c74-4094-ca83-5226600e1fbf"
      },
      "execution_count": 22,
      "outputs": [
        {
          "output_type": "stream",
          "name": "stdout",
          "text": [
            "2\n",
            "4\n",
            "2\n"
          ]
        }
      ]
    },
    {
      "cell_type": "markdown",
      "source": [
        "\n",
        "💡 7. **Longest Increasing Subsequence**\n",
        "\n",
        "Given an integer array `nums`, return *the length of the longest **strictly increasing***\n",
        "\n",
        "***subsequence***\n",
        "\n",
        ".\n",
        "\n",
        "**Example 1:**\n",
        "\n",
        "```\n",
        "Input: nums = [10,9,2,5,3,7,101,18]\n",
        "Output: 4\n",
        "Explanation: The longest increasing subsequence is [2,3,7,101], therefore the length is 4.\n",
        "\n",
        "```\n",
        "\n",
        "**Example 2:**\n",
        "\n",
        "```\n",
        "Input: nums = [0,1,0,3,2,3]\n",
        "Output: 4\n",
        "\n",
        "```\n",
        "\n",
        "**Example 3:**\n",
        "\n",
        "```\n",
        "Input: nums = [7,7,7,7,7,7,7]\n",
        "Output: 1\n",
        "\n",
        "```\n",
        "\n",
        "**Constraints:**\n",
        "\n",
        "- `1 <= nums.length <= 2500`\n",
        "- `-10^4 <= nums[i] <= 10^4`"
      ],
      "metadata": {
        "id": "au14ScIlaVxh"
      }
    },
    {
      "cell_type": "code",
      "source": [
        "def lengthOfLIS(nums):\n",
        "    if not nums:\n",
        "        return 0\n",
        "\n",
        "    n = len(nums)\n",
        "    dp = [1] * n\n",
        "\n",
        "    for i in range(1, n):\n",
        "        for j in range(i):\n",
        "            if nums[i] > nums[j]:\n",
        "                dp[i] = max(dp[i], dp[j] + 1)\n",
        "\n",
        "    return max(dp)\n"
      ],
      "metadata": {
        "id": "tb0T-qO2aMdM"
      },
      "execution_count": 23,
      "outputs": []
    },
    {
      "cell_type": "code",
      "source": [
        "# Example 1\n",
        "nums1 = [10, 9, 2, 5, 3, 7, 101, 18]\n",
        "print(lengthOfLIS(nums1))  # Output: 4\n",
        "\n",
        "# Example 2\n",
        "nums2 = [0, 1, 0, 3, 2, 3]\n",
        "print(lengthOfLIS(nums2))  # Output: 4\n",
        "\n",
        "# Example 3\n",
        "nums3 = [7, 7, 7, 7, 7, 7, 7]\n",
        "print(lengthOfLIS(nums3))  # Output: 1\n"
      ],
      "metadata": {
        "colab": {
          "base_uri": "https://localhost:8080/"
        },
        "id": "F4nDcu6oa6gv",
        "outputId": "eea36d98-9b6c-471d-a94c-405dbc19f267"
      },
      "execution_count": 24,
      "outputs": [
        {
          "output_type": "stream",
          "name": "stdout",
          "text": [
            "4\n",
            "4\n",
            "1\n"
          ]
        }
      ]
    },
    {
      "cell_type": "markdown",
      "source": [
        "\n",
        "💡 8. **132 Pattern**\n",
        "\n",
        "Given an array of `n` integers `nums`, a **132 pattern** is a subsequence of three integers `nums[i]`, `nums[j]` and `nums[k]` such that `i < j < k` and `nums[i] < nums[k] < nums[j]`.\n",
        "\n",
        "Return `true` *if there is a **132 pattern** in* `nums`*, otherwise, return* `false`*.*\n",
        "\n",
        "**Example 1:**\n",
        "\n",
        "```\n",
        "Input: nums = [1,2,3,4]\n",
        "Output: false\n",
        "Explanation: There is no 132 pattern in the sequence.\n",
        "\n",
        "```\n",
        "\n",
        "**Example 2:**\n",
        "\n",
        "```\n",
        "Input: nums = [3,1,4,2]\n",
        "Output: true\n",
        "Explanation: There is a 132 pattern in the sequence: [1, 4, 2].\n",
        "\n",
        "```\n",
        "\n",
        "**Example 3:**\n",
        "\n",
        "```\n",
        "Input: nums = [-1,3,2,0]\n",
        "Output: true\n",
        "Explanation: There are three 132 patterns in the sequence: [-1, 3, 2], [-1, 3, 0] and [-1, 2, 0].\n",
        "\n",
        "```\n",
        "\n",
        "**Constraints:**\n",
        "\n",
        "- `n == nums.length`\n",
        "- `1 <= n <= 2 * 10^5`\n",
        "- `-10^9 <= nums[i] <= 10^9`\n"
      ],
      "metadata": {
        "id": "s71TuMibbBTI"
      }
    },
    {
      "cell_type": "code",
      "source": [
        "def find132pattern(nums):\n",
        "    stack = []\n",
        "    num_k = float('-inf')\n",
        "\n",
        "    for num in reversed(nums):\n",
        "        if num < num_k:\n",
        "            return True\n",
        "        while stack and num > stack[-1]:\n",
        "            num_k = stack.pop()\n",
        "        stack.append(num)\n",
        "\n",
        "    return False\n"
      ],
      "metadata": {
        "id": "y1ieTqwMa90U"
      },
      "execution_count": 25,
      "outputs": []
    },
    {
      "cell_type": "code",
      "source": [
        "# Example 1\n",
        "nums1 = [1, 2, 3, 4]\n",
        "print(find132pattern(nums1))  # Output: False\n",
        "\n",
        "# Example 2\n",
        "nums2 = [3, 1, 4, 2]\n",
        "print(find132pattern(nums2))  # Output: True\n",
        "\n",
        "# Example 3\n",
        "nums3 = [-1, 3, 2, 0]\n",
        "print(find132pattern(nums3))  # Output: True\n"
      ],
      "metadata": {
        "colab": {
          "base_uri": "https://localhost:8080/"
        },
        "id": "kJ3ZoUZobput",
        "outputId": "d50a20fb-8fa8-43fa-e513-bd39644412b4"
      },
      "execution_count": 26,
      "outputs": [
        {
          "output_type": "stream",
          "name": "stdout",
          "text": [
            "False\n",
            "True\n",
            "True\n"
          ]
        }
      ]
    },
    {
      "cell_type": "code",
      "source": [],
      "metadata": {
        "id": "KMLknSlsbyEd"
      },
      "execution_count": null,
      "outputs": []
    }
  ]
}