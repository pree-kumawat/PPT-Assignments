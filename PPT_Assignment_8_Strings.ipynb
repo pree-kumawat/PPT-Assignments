{
  "nbformat": 4,
  "nbformat_minor": 0,
  "metadata": {
    "colab": {
      "provenance": []
    },
    "kernelspec": {
      "name": "python3",
      "display_name": "Python 3"
    },
    "language_info": {
      "name": "python"
    }
  },
  "cells": [
    {
      "cell_type": "markdown",
      "source": [
        "\n",
        "💡 **Question 1**\n",
        "\n",
        "Given two strings s1 and s2, return *the lowest **ASCII** sum of deleted characters to make two strings equal*.\n",
        "\n",
        "**Example 1:**\n",
        "\n",
        "**Input:** s1 = \"sea\", s2 = \"eat\"\n",
        "\n",
        "**Output:** 231\n",
        "\n",
        "**Explanation:** Deleting \"s\" from \"sea\" adds the ASCII value of \"s\" (115) to the sum.\n",
        "\n",
        "Deleting \"t\" from \"eat\" adds 116 to the sum.\n",
        "\n",
        "At the end, both strings are equal, and 115 + 116 = 231 is the minimum sum possible to achieve this."
      ],
      "metadata": {
        "id": "gUyiZ9Q77CgA"
      }
    },
    {
      "cell_type": "code",
      "source": [
        "def minimumDeleteSum(s1, s2):\n",
        "    m, n = len(s1), len(s2)\n",
        "    dp = [[0] * (n + 1) for _ in range(m + 1)]\n",
        "\n",
        "    # Fill the bottom-right corner of the dp table\n",
        "    for i in range(m - 1, -1, -1):\n",
        "        dp[i][n] = dp[i+1][n] + ord(s1[i])\n",
        "\n",
        "    for j in range(n - 1, -1, -1):\n",
        "        dp[m][j] = dp[m][j+1] + ord(s2[j])\n",
        "\n",
        "    # Fill the remaining cells of the dp table\n",
        "    for i in range(m - 1, -1, -1):\n",
        "        for j in range(n - 1, -1, -1):\n",
        "            if s1[i] == s2[j]:\n",
        "                dp[i][j] = dp[i+1][j+1]\n",
        "            else:\n",
        "                dp[i][j] = min(ord(s1[i]) + dp[i+1][j], ord(s2[j]) + dp[i][j+1])\n",
        "\n",
        "    return dp[0][0]\n"
      ],
      "metadata": {
        "id": "zBDdVdjv7AZp"
      },
      "execution_count": 18,
      "outputs": []
    },
    {
      "cell_type": "code",
      "source": [
        "s1 = \"sea\"\n",
        "s2 = \"eat\"\n",
        "print(minimumDeleteSum(s1, s2))  \n"
      ],
      "metadata": {
        "colab": {
          "base_uri": "https://localhost:8080/"
        },
        "id": "WRf2Ctrp8p1t",
        "outputId": "2591b013-2278-4b34-f643-d65325a6dbe6"
      },
      "execution_count": 19,
      "outputs": [
        {
          "output_type": "stream",
          "name": "stdout",
          "text": [
            "231\n"
          ]
        }
      ]
    },
    {
      "cell_type": "markdown",
      "source": [
        "\n",
        "💡 **Question 2**\n",
        "\n",
        "Given a string s containing only three types of characters: '(', ')' and '*', return true *if* s *is **valid***.\n",
        "\n",
        "The following rules define a **valid** string:\n",
        "\n",
        "- Any left parenthesis '(' must have a corresponding right parenthesis ')'.\n",
        "- Any right parenthesis ')' must have a corresponding left parenthesis '('.\n",
        "- Left parenthesis '(' must go before the corresponding right parenthesis ')'.\n",
        "- '*' could be treated as a single right parenthesis ')' or a single left parenthesis '(' or an empty string \"\".\n",
        "\n",
        "**Example 1:**\n",
        "\n",
        "**Input:** s = \"()\"\n",
        "\n",
        "**Output:**\n",
        "\n",
        "true"
      ],
      "metadata": {
        "id": "0cQu-0EP8xPS"
      }
    },
    {
      "cell_type": "code",
      "source": [
        "def checkValidString(s):\n",
        "    stack = []\n",
        "\n",
        "    # Iterate through each character in the string\n",
        "    for c in s:\n",
        "        if c == '(' or c == '*':\n",
        "            stack.append(c)\n",
        "        elif c == ')':\n",
        "            if stack and stack[-1] == '(':\n",
        "                stack.pop()\n",
        "            elif stack and stack[-1] == '*':\n",
        "                stack.pop()\n",
        "            else:\n",
        "                return False\n",
        "\n",
        "    # Match remaining opening parentheses and asterisks with closing parentheses\n",
        "    while stack:\n",
        "        if stack[-1] == '(':\n",
        "            stack.pop()\n",
        "        elif stack[-1] == '*':\n",
        "            stack.pop()\n",
        "        else:\n",
        "            return False\n",
        "\n",
        "    return True\n"
      ],
      "metadata": {
        "id": "VIM60vUg8t47"
      },
      "execution_count": 20,
      "outputs": []
    },
    {
      "cell_type": "code",
      "source": [
        "s = \"()\"\n",
        "print(checkValidString(s)) \n"
      ],
      "metadata": {
        "colab": {
          "base_uri": "https://localhost:8080/"
        },
        "id": "uJ1ZS1UJ9QTf",
        "outputId": "0008b14e-250a-4803-e8fa-0e0c81ad0014"
      },
      "execution_count": 21,
      "outputs": [
        {
          "output_type": "stream",
          "name": "stdout",
          "text": [
            "True\n"
          ]
        }
      ]
    },
    {
      "cell_type": "markdown",
      "source": [
        "\n",
        "💡 **Question 3**\n",
        "\n",
        "Given two strings word1 and word2, return *the minimum number of **steps** required to make* word1 *and* word2 *the same*.\n",
        "\n",
        "In one **step**, you can delete exactly one character in either string.\n",
        "\n",
        "**Example 1:**\n",
        "\n",
        "**Input:** word1 = \"sea\", word2 = \"eat\"\n",
        "\n",
        "**Output:** 2\n",
        "\n",
        "**Explanation:** You need one step to make \"sea\" to \"ea\" and another step to make \"eat\" to \"ea\".\n"
      ],
      "metadata": {
        "id": "FWJJXl3A9Y7w"
      }
    },
    {
      "cell_type": "code",
      "source": [
        "def minDistance(word1, word2):\n",
        "    m, n = len(word1), len(word2)\n",
        "    dp = [[0] * (n + 1) for _ in range(m + 1)]\n",
        "\n",
        "    # Base cases\n",
        "    for i in range(m + 1):\n",
        "        dp[i][0] = i\n",
        "    for j in range(n + 1):\n",
        "        dp[0][j] = j\n",
        "\n",
        "    # Fill the remaining cells of the dp table\n",
        "    for i in range(1, m + 1):\n",
        "        for j in range(1, n + 1):\n",
        "            if word1[i - 1] == word2[j - 1]:\n",
        "                dp[i][j] = dp[i - 1][j - 1]\n",
        "            else:\n",
        "                dp[i][j] = 1 + min(dp[i - 1][j], dp[i][j - 1])\n",
        "\n",
        "    return dp[m][n]\n"
      ],
      "metadata": {
        "id": "V38AhJ1z9S4o"
      },
      "execution_count": 22,
      "outputs": []
    },
    {
      "cell_type": "code",
      "source": [
        "word1 = \"sea\"\n",
        "word2 = \"eat\"\n",
        "print(minDistance(word1, word2))  \n"
      ],
      "metadata": {
        "colab": {
          "base_uri": "https://localhost:8080/"
        },
        "id": "7RH4QAwF9yeZ",
        "outputId": "637f0c9e-dec1-48a9-b504-b2d6af482e1f"
      },
      "execution_count": 23,
      "outputs": [
        {
          "output_type": "stream",
          "name": "stdout",
          "text": [
            "2\n"
          ]
        }
      ]
    },
    {
      "cell_type": "markdown",
      "source": [
        "\n",
        "💡 **Question 4**\n",
        "\n",
        "You need to construct a binary tree from a string consisting of parenthesis and integers.\n",
        "\n",
        "The whole input represents a binary tree. It contains an integer followed by zero, one or two pairs of parenthesis. The integer represents the root's value and a pair of parenthesis contains a child binary tree with the same structure.\n",
        "You always start to construct the **left** child node of the parent first if it exists.\n",
        "\n",
        "**Input:** s = \"4(2(3)(1))(6(5))\"\n",
        "\n",
        "**Output:** [4,2,6,3,1,5]"
      ],
      "metadata": {
        "id": "7S9KcImT9_2g"
      }
    },
    {
      "cell_type": "code",
      "source": [
        "class TreeNode:\n",
        "    def __init__(self, val=0, left=None, right=None):\n",
        "        self.val = val\n",
        "        self.left = left\n",
        "        self.right = right\n",
        "\n",
        "\n",
        "def buildTree(s, start, end):\n",
        "    if start > end:\n",
        "        return None\n",
        "\n",
        "    val = 0\n",
        "    i = start\n",
        "    while i <= end and s[i] != '(':\n",
        "        val = val * 10 + int(s[i])\n",
        "        i += 1\n",
        "\n",
        "    node = TreeNode(val)\n",
        "\n",
        "    left_start = i\n",
        "    left_end = i\n",
        "    count = 0\n",
        "    while i <= end:\n",
        "        if s[i] == '(':\n",
        "            count += 1\n",
        "        elif s[i] == ')':\n",
        "            count -= 1\n",
        "        if count == 0:\n",
        "            left_end = i\n",
        "            break\n",
        "        i += 1\n",
        "\n",
        "    right_start = left_end + 2\n",
        "    right_end = end - 1\n",
        "\n",
        "    node.left = buildTree(s, left_start + 1, left_end - 1)\n",
        "    node.right = buildTree(s, right_start + 1, right_end - 1)\n",
        "\n",
        "    return node\n",
        "\n",
        "\n",
        "def preorderTraversal(root):\n",
        "    if not root:\n",
        "        return []\n",
        "\n",
        "    result = []\n",
        "    stack = [root]\n",
        "\n",
        "    while stack:\n",
        "        node = stack.pop()\n",
        "        result.append(node.val)\n",
        "        if node.right:\n",
        "            stack.append(node.right)\n",
        "        if node.left:\n",
        "            stack.append(node.left)\n",
        "\n",
        "    return result\n",
        "\n",
        "\n",
        "def constructTreeFromString(s):\n",
        "    root = buildTree(s, 0, len(s) - 1)\n",
        "    return preorderTraversal(root)\n"
      ],
      "metadata": {
        "id": "hFr9GSpgIr5S"
      },
      "execution_count": 24,
      "outputs": []
    },
    {
      "cell_type": "markdown",
      "source": [
        "\n",
        "💡 **Question 5**\n",
        "\n",
        "Given an array of characters chars, compress it using the following algorithm:\n",
        "\n",
        "Begin with an empty string s. For each group of **consecutive repeating characters** in chars:\n",
        "\n",
        "- If the group's length is 1, append the character to s.\n",
        "- Otherwise, append the character followed by the group's length.\n",
        "\n",
        "The compressed string s **should not be returned separately**, but instead, be stored **in the input character array chars**. Note that group lengths that are 10 or longer will be split into multiple characters in chars.\n",
        "\n",
        "After you are done **modifying the input array,** return *the new length of the array*.\n",
        "\n",
        "You must write an algorithm that uses only constant extra space.\n",
        "\n",
        "**Example 1:**\n",
        "\n",
        "**Input:** chars = [\"a\",\"a\",\"b\",\"b\",\"c\",\"c\",\"c\"]\n",
        "\n",
        "**Output:** Return 6, and the first 6 characters of the input array should be: [\"a\",\"2\",\"b\",\"2\",\"c\",\"3\"]\n",
        "\n",
        "**Explanation:**\n",
        "\n",
        "The groups are \"aa\", \"bb\", and \"ccc\". This compresses to \"a2b2c3\".\n"
      ],
      "metadata": {
        "id": "2RRxR2fcE4aF"
      }
    },
    {
      "cell_type": "code",
      "source": [
        "def compress(chars):\n",
        "    count = 1\n",
        "    index = 0\n",
        "\n",
        "    for i in range(0, len(chars)):\n",
        "        if chars[i] == chars[i - 1]:\n",
        "            count += 1\n",
        "        else:\n",
        "            if count > 1:\n",
        "                count_str = str(count)\n",
        "                for digit in count_str:\n",
        "                    chars[index] = digit\n",
        "                    index += 1\n",
        "            chars[index] = chars[i]\n",
        "            index += 1\n",
        "            count = 1\n",
        "\n",
        "    if count > 1:\n",
        "        count_str = str(count)\n",
        "        for digit in count_str:\n",
        "            chars[index] = digit\n",
        "            index += 1\n",
        "\n",
        "    return index\n"
      ],
      "metadata": {
        "id": "QgBr0UynE9CU"
      },
      "execution_count": 25,
      "outputs": []
    },
    {
      "cell_type": "code",
      "source": [
        "chars = [\"a\",\"a\",\"b\",\"b\",\"c\",\"c\",\"c\"]\n",
        "new_length = compress(chars)\n",
        "print(new_length) \n",
        "print(chars[:new_length]) \n"
      ],
      "metadata": {
        "colab": {
          "base_uri": "https://localhost:8080/"
        },
        "id": "AvnuDtWHFU1G",
        "outputId": "ce75ed16-cd0f-4ce5-9923-d061df532089"
      },
      "execution_count": 26,
      "outputs": [
        {
          "output_type": "stream",
          "name": "stdout",
          "text": [
            "6\n",
            "['a', '2', 'b', '2', 'c', '3']\n"
          ]
        }
      ]
    },
    {
      "cell_type": "markdown",
      "source": [
        "\n",
        "💡 **Question 6**\n",
        "\n",
        "Given two strings s and p, return *an array of all the start indices of* p*'s anagrams in* s. You may return the answer in **any order**.\n",
        "\n",
        "An **Anagram** is a word or phrase formed by rearranging the letters of a different word or phrase, typically using all the original letters exactly once.\n",
        "\n",
        "**Example 1:**\n",
        "\n",
        "**Input:** s = \"cbaebabacd\", p = \"abc\"\n",
        "\n",
        "**Output:** [0,6]\n",
        "\n",
        "**Explanation:**\n",
        "\n",
        "The substring with start index = 0 is \"cba\", which is an anagram of \"abc\".\n",
        "\n",
        "The substring with start index = 6 is \"bac\", which is an anagram of \"abc\".\n"
      ],
      "metadata": {
        "id": "lQcjaOe-F94N"
      }
    },
    {
      "cell_type": "code",
      "source": [
        "from collections import Counter\n",
        "\n",
        "def findAnagrams(s, p):\n",
        "    result = []\n",
        "    counter_p = Counter(p)\n",
        "    counter_s = Counter()\n",
        "\n",
        "    left = 0\n",
        "    right = 0\n",
        "\n",
        "    while right < len(s):\n",
        "        counter_s[s[right]] += 1\n",
        "\n",
        "        if right - left + 1 > len(p):\n",
        "            counter_s[s[left]] -= 1\n",
        "            if counter_s[s[left]] == 0:\n",
        "                del counter_s[s[left]]\n",
        "            left += 1\n",
        "\n",
        "        if counter_s == counter_p:\n",
        "            result.append(left)\n",
        "\n",
        "        right += 1\n",
        "\n",
        "    return result\n"
      ],
      "metadata": {
        "id": "wWIdXQBbFbzW"
      },
      "execution_count": 27,
      "outputs": []
    },
    {
      "cell_type": "code",
      "source": [
        "s = \"cbaebabacd\"\n",
        "p = \"abc\"\n",
        "result = findAnagrams(s, p)\n",
        "print(result) \n"
      ],
      "metadata": {
        "colab": {
          "base_uri": "https://localhost:8080/"
        },
        "id": "JToc7jzlGPUZ",
        "outputId": "0903094b-a859-4c15-acc4-83222ea94b86"
      },
      "execution_count": 28,
      "outputs": [
        {
          "output_type": "stream",
          "name": "stdout",
          "text": [
            "[0, 6]\n"
          ]
        }
      ]
    },
    {
      "cell_type": "markdown",
      "source": [
        "\n",
        "💡 **Question 7**\n",
        "\n",
        "Given an encoded string, return its decoded string.\n",
        "\n",
        "The encoding rule is: k[encoded_string], where the encoded_string inside the square brackets is being repeated exactly k times. Note that k is guaranteed to be a positive integer.\n",
        "\n",
        "You may assume that the input string is always valid; there are no extra white spaces, square brackets are well-formed, etc. Furthermore, you may assume that the original data does not contain any digits and that digits are only for those repeat numbers, k. For example, there will not be input like 3a or 2[4].\n",
        "\n",
        "The test cases are generated so that the length of the output will never exceed 105.\n",
        "\n",
        "**Example 1:**\n",
        "\n",
        "**Input:** s = \"3[a]2[bc]\"\n",
        "\n",
        "**Output:** \"aaabcbc\""
      ],
      "metadata": {
        "id": "gXcUfU1BGcSo"
      }
    },
    {
      "cell_type": "code",
      "source": [
        "def decode_string(s):\n",
        "  \"\"\"Decodes an encoded string.\n",
        "\n",
        "  Args:\n",
        "    s: The encoded string.\n",
        "\n",
        "  Returns:\n",
        "    The decoded string.\n",
        "  \"\"\"\n",
        "\n",
        "  stack = []\n",
        "  for c in s:\n",
        "    if c == '[':\n",
        "      stack.append(c)\n",
        "    elif c == ']':\n",
        "      decoded_string = ''\n",
        "      while stack and stack[-1] != '[':\n",
        "        decoded_string = stack.pop() + decoded_string\n",
        "      stack.pop()\n",
        "      stack.append(decoded_string * int(stack.pop()))\n",
        "    else:\n",
        "      stack.append(c)\n",
        "\n",
        "  return ''.join(stack)\n"
      ],
      "metadata": {
        "id": "V9k6z1SDGqTj"
      },
      "execution_count": 29,
      "outputs": []
    },
    {
      "cell_type": "code",
      "source": [
        "s = \"3[a]2[bc]\"\n",
        "\n",
        "decoded_string = decode_string(s)\n",
        "\n",
        "print(decoded_string)\n"
      ],
      "metadata": {
        "colab": {
          "base_uri": "https://localhost:8080/"
        },
        "id": "xZKIR2z-H-2U",
        "outputId": "b9f7a6b0-d7df-43a9-d8d6-2a8ea532e4e1"
      },
      "execution_count": 30,
      "outputs": [
        {
          "output_type": "stream",
          "name": "stdout",
          "text": [
            "aaabcbc\n"
          ]
        }
      ]
    },
    {
      "cell_type": "markdown",
      "source": [
        "\n",
        "💡 **Question 8**\n",
        "\n",
        "Given two strings s and goal, return true *if you can swap two letters in* s *so the result is equal to* goal*, otherwise, return* false*.*\n",
        "\n",
        "Swapping letters is defined as taking two indices i and j (0-indexed) such that i != j and swapping the characters at s[i] and s[j].\n",
        "\n",
        "- For example, swapping at indices 0 and 2 in \"abcd\" results in \"cbad\".\n",
        "\n",
        "**Example 1:**\n",
        "\n",
        "**Input:** s = \"ab\", goal = \"ba\"\n",
        "\n",
        "**Output:** true\n",
        "\n",
        "**Explanation:** You can swap s[0] = 'a' and s[1] = 'b' to get \"ba\", which is equal to goal."
      ],
      "metadata": {
        "id": "ZetP0s2FHSv7"
      }
    },
    {
      "cell_type": "code",
      "source": [
        "def buddyStrings(s, goal):\n",
        "    if len(s) != len(goal):\n",
        "        return False\n",
        "\n",
        "    diff_indices = []\n",
        "    diff_chars = []\n",
        "\n",
        "    for i in range(len(s)):\n",
        "        if s[i] != goal[i]:\n",
        "            diff_indices.append(i)\n",
        "            diff_chars.append(s[i])\n",
        "\n",
        "    if len(diff_indices) != 2 or s[diff_indices[0]] != goal[diff_indices[1]] or s[diff_indices[1]] != goal[diff_indices[0]]:\n",
        "        return False\n",
        "\n",
        "    return True\n"
      ],
      "metadata": {
        "id": "MDuROwJQIBsV"
      },
      "execution_count": 31,
      "outputs": []
    },
    {
      "cell_type": "code",
      "source": [
        "s = \"ab\"\n",
        "goal = \"ba\"\n",
        "result = buddyStrings(s, goal)\n",
        "print(result) \n"
      ],
      "metadata": {
        "colab": {
          "base_uri": "https://localhost:8080/"
        },
        "id": "luqxvZUjHySU",
        "outputId": "f747be6f-386b-4d80-d331-34fd11cbcf00"
      },
      "execution_count": 32,
      "outputs": [
        {
          "output_type": "stream",
          "name": "stdout",
          "text": [
            "True\n"
          ]
        }
      ]
    },
    {
      "cell_type": "code",
      "source": [],
      "metadata": {
        "id": "AiWiOIr5H22G"
      },
      "execution_count": null,
      "outputs": []
    }
  ]
}