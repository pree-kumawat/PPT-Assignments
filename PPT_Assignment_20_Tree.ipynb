{
  "nbformat": 4,
  "nbformat_minor": 0,
  "metadata": {
    "colab": {
      "provenance": []
    },
    "kernelspec": {
      "name": "python3",
      "display_name": "Python 3"
    },
    "language_info": {
      "name": "python"
    }
  },
  "cells": [
    {
      "cell_type": "markdown",
      "source": [
        "\n",
        "💡 Question-1\n",
        "\n",
        "Given a binary tree, your task is to find subtree with maximum sum in tree.\n",
        "\n",
        "Examples:\n",
        "\n",
        "Input1 :\n",
        "```\n",
        "       1\n",
        "\n",
        "     /   \\\n",
        "\n",
        "   2      3\n",
        "\n",
        "  / \\    / \\\n",
        "\n",
        " 4   5  6   7\n",
        "```\n",
        "Output1 : 28\n",
        "\n",
        "As all the tree elements are positive, the largest subtree sum is equal to sum of all tree elements.\n",
        "\n",
        "Input2 :\n",
        "```\n",
        "       1\n",
        "\n",
        "     /    \\\n",
        "\n",
        "  -2      3\n",
        "\n",
        "  / \\    /  \\\n",
        "\n",
        " 4   5  -6   2\n",
        "```\n",
        "Output2 : 7\n",
        "\n",
        "Subtree with largest sum is :\n",
        "```\n",
        " -2\n",
        "\n",
        " / \\\n",
        "\n",
        "4   5\n",
        "```\n",
        "Also, entire tree sum is also 7.\n",
        "\n"
      ],
      "metadata": {
        "id": "2MxG7ZOandtY"
      }
    },
    {
      "cell_type": "code",
      "source": [
        "class TreeNode:\n",
        "    def __init__(self, val=0, left=None, right=None):\n",
        "        self.val = val\n",
        "        self.left = left\n",
        "        self.right = right\n",
        "\n",
        "class Solution:\n",
        "    def maxSubtreeSum(self, root):\n",
        "        self.max_sum = float('-inf')  # Variable to store the maximum sum\n",
        "\n",
        "        # Helper function to calculate the sum of a subtree\n",
        "        def subtreeSum(node):\n",
        "            if not node:\n",
        "                return 0\n",
        "\n",
        "            left_sum = subtreeSum(node.left)\n",
        "            right_sum = subtreeSum(node.right)\n",
        "\n",
        "            # Calculate the sum of the subtree rooted at 'node'\n",
        "            subtree_sum = node.val + left_sum + right_sum\n",
        "\n",
        "            # Update the maximum sum if the current subtree has a higher sum\n",
        "            self.max_sum = max(self.max_sum, subtree_sum)\n",
        "\n",
        "            return subtree_sum\n",
        "\n",
        "        subtreeSum(root)  # Call the helper function\n",
        "\n",
        "        return self.max_sum\n"
      ],
      "metadata": {
        "id": "kM0grkE6pIQs"
      },
      "execution_count": null,
      "outputs": []
    },
    {
      "cell_type": "code",
      "source": [
        "solution = Solution()\n",
        "\n",
        "# Create the binary tree\n",
        "root = TreeNode(1)\n",
        "root.left = TreeNode(2)\n",
        "root.right = TreeNode(3)\n",
        "root.left.left = TreeNode(4)\n",
        "root.left.right = TreeNode(5)\n",
        "root.right.left = TreeNode(6)\n",
        "root.right.right = TreeNode(7)\n",
        "\n",
        "# Find the subtree with the maximum sum\n",
        "max_sum = solution.maxSubtreeSum(root)\n",
        "\n",
        "# Print the maximum sum\n",
        "print(max_sum)  # Output: 28\n"
      ],
      "metadata": {
        "colab": {
          "base_uri": "https://localhost:8080/"
        },
        "id": "XdL_YRC5fitq",
        "outputId": "918b842c-d9af-47fd-94ce-b22a35f2dbef"
      },
      "execution_count": null,
      "outputs": [
        {
          "output_type": "stream",
          "name": "stdout",
          "text": [
            "28\n"
          ]
        }
      ]
    },
    {
      "cell_type": "code",
      "source": [
        "# Example 2\n",
        "solution = Solution()\n",
        "\n",
        "root = TreeNode(1)\n",
        "root.left = TreeNode(-2)\n",
        "root.right = TreeNode(3)\n",
        "root.left.left = TreeNode(4)\n",
        "root.left.right = TreeNode(5)\n",
        "root.right.left = TreeNode(-6)\n",
        "root.right.right = TreeNode(2)\n",
        "\n",
        "# Find the subtree with the maximum sum\n",
        "max_sum = solution.maxSubtreeSum(root)\n",
        "\n",
        "# Print the maximum sum\n",
        "print(max_sum)    # Output: 7"
      ],
      "metadata": {
        "colab": {
          "base_uri": "https://localhost:8080/"
        },
        "id": "C9Gc7ZVBfoXH",
        "outputId": "7e6cf60c-2e15-412f-ed6e-32e69e7c6645"
      },
      "execution_count": null,
      "outputs": [
        {
          "output_type": "stream",
          "name": "stdout",
          "text": [
            "7\n"
          ]
        }
      ]
    },
    {
      "cell_type": "markdown",
      "source": [
        "\n",
        "💡 Question-2\n",
        "\n",
        "Construct the BST (Binary Search Tree) from its given level order traversal.\n",
        "\n",
        "Example:\n",
        "\n",
        "Input: arr[] = {7, 4, 12, 3, 6, 8, 1, 5, 10}\n",
        "\n",
        "Output: BST:\n",
        "```\n",
        "            7\n",
        "         /    \\\n",
        "        4     12\n",
        "       /  \\    /\n",
        "      3    6  8\n",
        "     /    /    \\\n",
        "    1    5      10\n",
        "\n",
        "```"
      ],
      "metadata": {
        "id": "tl6Hn2h6giP2"
      }
    },
    {
      "cell_type": "code",
      "source": [
        "class TreeNode:\n",
        "    def __init__(self, val=0, left=None, right=None):\n",
        "        self.val = val\n",
        "        self.left = left\n",
        "        self.right = right\n",
        "\n",
        "def constructBST(level_order):\n",
        "    if not level_order:\n",
        "        return None\n",
        "\n",
        "    root = None\n",
        "    queue = []\n",
        "\n",
        "    for val in level_order:\n",
        "        node = TreeNode(val)\n",
        "\n",
        "        if root is None:\n",
        "            root = node\n",
        "        else:\n",
        "            current = queue[0]\n",
        "\n",
        "            if current.left is None:\n",
        "                current.left = node\n",
        "            elif current.right is None:\n",
        "                current.right = node\n",
        "                queue.pop(0)\n",
        "\n",
        "        queue.append(node)\n",
        "\n",
        "    return root\n"
      ],
      "metadata": {
        "id": "1QsB1026hlIi"
      },
      "execution_count": null,
      "outputs": []
    },
    {
      "cell_type": "code",
      "source": [
        "level_order = [7, 4, 12, 3, 6, 8, 1, 5, 10]\n",
        "root = constructBST(level_order)\n",
        "\n",
        "# Print the constructed BST\n",
        "def printBST(root):\n",
        "    if root is None:\n",
        "        return\n",
        "\n",
        "    print(root.val)\n",
        "    printBST(root.left)\n",
        "    printBST(root.right)\n",
        "\n",
        "printBST(root)\n"
      ],
      "metadata": {
        "colab": {
          "base_uri": "https://localhost:8080/"
        },
        "id": "ugsCrPYvi4KT",
        "outputId": "11ebe9a5-a0cd-41e8-9c6b-c3a421e3d67f"
      },
      "execution_count": null,
      "outputs": [
        {
          "output_type": "stream",
          "name": "stdout",
          "text": [
            "7\n",
            "4\n",
            "3\n",
            "5\n",
            "10\n",
            "6\n",
            "12\n",
            "8\n",
            "1\n"
          ]
        }
      ]
    },
    {
      "cell_type": "markdown",
      "source": [
        "\n",
        "💡 Question-3\n",
        "\n",
        "Given an array of size n. The problem is to check whether the given array can represent the level order traversal of a Binary Search Tree or not.\n",
        "\n",
        "Examples:\n",
        "\n",
        "Input1 : arr[] = {7, 4, 12, 3, 6, 8, 1, 5, 10}\n",
        "\n",
        "Output1 : Yes\n",
        "\n",
        "For the given arr[], the Binary Search Tree is:\n",
        "```\n",
        "            7\n",
        "\n",
        "         /    \\\n",
        "\n",
        "        4     12\n",
        "\n",
        "     /  \\     /\n",
        "\n",
        "     3   6  8\n",
        "\n",
        "    /    /     \\\n",
        "\n",
        "   1    5      10\n",
        "\n",
        "   ```\n",
        "\n",
        "Input2 : arr[] = {11, 6, 13, 5, 12, 10}\n",
        "\n",
        "Output2 : No\n",
        "\n",
        "The given arr[] does not represent the level order traversal of a BST.\n",
        "\n"
      ],
      "metadata": {
        "id": "7k7Xiss2iJOQ"
      }
    },
    {
      "cell_type": "code",
      "source": [
        "# Python3 implementation to check if the given array can represent Level Order Traversal of Binary Search Tree\n",
        "INT_MIN, INT_MAX = float('-inf'), float('inf')\n",
        "\n",
        "# To store details of a node like node's data, 'min' and 'max' to obtain the range of values where node's left and right child's should lie\n",
        "class NodeDetails:\n",
        "\n",
        "\tdef __init__(self, data, min, max):\n",
        "\t\tself.data = data\n",
        "\t\tself.min = min\n",
        "\t\tself.max = max\n",
        "\n",
        "# function to check if the given array can represent Level Order Traversal of Binary Search Tree\n",
        "def levelOrderIsOfBST(arr, n):\n",
        "\n",
        "\t# if tree is empty\n",
        "\tif n == 0:\n",
        "\t\treturn True\n",
        "\n",
        "\t# queue to store NodeDetails\n",
        "\tq = []\n",
        "\n",
        "\t# index variable to access array elements\n",
        "\ti = 0\n",
        "\n",
        "\t# node details for the root of the BST\n",
        "\tnewNode = NodeDetails(arr[i], INT_MIN, INT_MAX)\n",
        "\ti += 1\n",
        "\tq.append(newNode)\n",
        "\n",
        "\t# until there are no more elements in arr[] or queue is not empty\n",
        "\twhile i != n and len(q) != 0:\n",
        "\n",
        "\t\t# extracting NodeDetails of a node from the queue\n",
        "\t\ttemp = q.pop(0)\n",
        "\n",
        "\t\t# check whether there are more elements in the arr[] and arr[i] can be left child of 'temp.data' or not\n",
        "\t\tif i < n and (arr[i] < temp.data and\n",
        "\t\t\t\t\tarr[i] > temp.min):\n",
        "\n",
        "\t\t\t# Create NodeDetails for newNode and add it to the queue\n",
        "\t\t\tnewNode = NodeDetails(arr[i], temp.min, temp.data)\n",
        "\t\t\ti += 1\n",
        "\t\t\tq.append(newNode)\n",
        "\n",
        "\t\t# check whether there are more elements in the arr[] and arr[i] can be right child of 'temp.data' or not\n",
        "\t\tif i < n and (arr[i] > temp.data and\n",
        "\t\t\t\t\tarr[i] < temp.max):\n",
        "\n",
        "\t\t\t# Create NodeDetails for newNode and add it to the queue\n",
        "\t\t\tnewNode = NodeDetails(arr[i], temp.data, temp.max)\n",
        "\t\t\ti += 1\n",
        "\t\t\tq.append(newNode)\n",
        "\n",
        "\t# given array represents level order traversal of BST\n",
        "\tif i == n:\n",
        "\t\treturn True\n",
        "\n",
        "\t# given array do not represent level order traversal of BST\n",
        "\treturn False\n",
        "\n",
        "# Driver code\n",
        "if __name__ == \"__main__\":\n",
        "\n",
        "\tarr = [7, 4, 12, 3, 6, 8, 1, 5, 10]\n",
        "\tn = len(arr)\n",
        "\tif levelOrderIsOfBST(arr, n):\n",
        "\t\tprint(\"Yes\")\n",
        "\telse:\n",
        "\t\tprint(\"No\")\n"
      ],
      "metadata": {
        "colab": {
          "base_uri": "https://localhost:8080/"
        },
        "id": "ooeU0Ya6Ovtb",
        "outputId": "15d64a18-38ef-468c-9bb7-26872cdf0cba"
      },
      "execution_count": 7,
      "outputs": [
        {
          "output_type": "stream",
          "name": "stdout",
          "text": [
            "Yes\n"
          ]
        }
      ]
    },
    {
      "cell_type": "code",
      "source": [
        "if __name__ == \"__main__\":\n",
        "\n",
        "\tarr = [11, 6, 13, 5, 12, 10]\n",
        "\tn = len(arr)\n",
        "\tif levelOrderIsOfBST(arr, n):\n",
        "\t\tprint(\"Yes\")\n",
        "\telse:\n",
        "\t\tprint(\"No\")"
      ],
      "metadata": {
        "colab": {
          "base_uri": "https://localhost:8080/"
        },
        "id": "sZykfTuIPTJa",
        "outputId": "c7404104-fe39-4868-a657-fca04cbb48f6"
      },
      "execution_count": 6,
      "outputs": [
        {
          "output_type": "stream",
          "name": "stdout",
          "text": [
            "No\n"
          ]
        }
      ]
    },
    {
      "cell_type": "code",
      "source": [],
      "metadata": {
        "id": "-_1A9sUPPdMb"
      },
      "execution_count": null,
      "outputs": []
    }
  ]
}