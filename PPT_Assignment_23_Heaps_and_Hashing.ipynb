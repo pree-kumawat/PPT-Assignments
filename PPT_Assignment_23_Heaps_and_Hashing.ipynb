{
  "nbformat": 4,
  "nbformat_minor": 0,
  "metadata": {
    "colab": {
      "provenance": []
    },
    "kernelspec": {
      "name": "python3",
      "display_name": "Python 3"
    },
    "language_info": {
      "name": "python"
    }
  },
  "cells": [
    {
      "cell_type": "markdown",
      "source": [
        "\n",
        "💡 Question-1:\n",
        "\n",
        "Given preorder of a binary tree, calculate its **[depth(or height)](https://www.geeksforgeeks.org/write-a-c-program-to-find-the-maximum-depth-or-height-of-a-tree/)** [starting from depth 0]. The preorder is given as a string with two possible characters.\n",
        "\n",
        "1. ‘l’ denotes the leaf\n",
        "2. ‘n’ denotes internal node\n",
        "\n",
        "The given tree can be seen as a full binary tree where every node has 0 or two children. The two children of a node can ‘n’ or ‘l’ or mix of both.\n",
        "\n",
        "**Examples :**\n",
        "\n",
        "Input  : nlnll\n",
        "\n",
        "Output : 2\n",
        "\n",
        "Explanation :\n",
        "```\n",
        "            n\n",
        "          /   \\\n",
        "         l     n\n",
        "              /  \\\n",
        "             l    l\n",
        "```\n",
        "\n",
        "Input  : nlnnlll\n",
        "\n",
        "Output : 3\n",
        "\n",
        "Explanation :  \n",
        "```\n",
        "            n\n",
        "          /   \\\n",
        "         l     n\n",
        "             /   \\\n",
        "            n     l\n",
        "           /  \\\n",
        "          l    l\n",
        "\n",
        "```          \n"
      ],
      "metadata": {
        "id": "Ld7xQ1V3-Y5K"
      }
    },
    {
      "cell_type": "code",
      "execution_count": 1,
      "metadata": {
        "colab": {
          "base_uri": "https://localhost:8080/"
        },
        "id": "5YoclQ4U-I_g",
        "outputId": "0ef6cea4-63c6-4a04-df6a-089b6155e429"
      },
      "outputs": [
        {
          "output_type": "stream",
          "name": "stdout",
          "text": [
            "2\n",
            "3\n"
          ]
        }
      ],
      "source": [
        "def calculateDepth(preorder):\n",
        "    depth = 0  # Initialize depth counter\n",
        "    stack = []  # Use a stack to keep track of internal nodes encountered\n",
        "\n",
        "    for char in preorder:\n",
        "        if char == 'n':\n",
        "            stack.append(char)  # Push internal node onto stack\n",
        "            depth += 1  # Increment depth counter\n",
        "        elif char == 'l':\n",
        "            if stack:\n",
        "                stack.pop()  # Pop the top internal node from stack\n",
        "\n",
        "    return depth\n",
        "\n",
        "# Example usage\n",
        "preorder1 = 'nlnll'\n",
        "preorder2 = 'nlnnlll'\n",
        "\n",
        "print(calculateDepth(preorder1))  # Output: 2\n",
        "print(calculateDepth(preorder2))  # Output: 3\n"
      ]
    },
    {
      "cell_type": "code",
      "source": [],
      "metadata": {
        "id": "J7XvRuGGAS-N"
      },
      "execution_count": null,
      "outputs": []
    },
    {
      "cell_type": "markdown",
      "source": [
        "\n",
        "💡 Question-2:\n",
        "\n",
        "Given a Binary tree, the task is to print the **left view** of the Binary Tree. The left view of a Binary Tree is a set of leftmost nodes for every level.\n",
        "\n",
        "**Examples:**\n",
        "\n",
        "***Input:***\n",
        "\n",
        "            4\n",
        "          /   \\\n",
        "         5     2\n",
        "             /   \\\n",
        "            3     1\n",
        "           /  \\\n",
        "          6    7\n",
        "\n",
        "***Output:** 4 5 3 6*\n",
        "\n",
        "**Explanation:**\n",
        "4 5 3 6 are left nodes\n",
        "!https://media.geeksforgeeks.org/wp-content/cdn-uploads/left-view.png\n",
        "\n",
        "***Input:***\n",
        "\n",
        "                    1\n",
        "                 /     \\\n",
        "                2       3\n",
        "                 \\\n",
        "                  4\n",
        "                   \\\n",
        "                    5\n",
        "                     \\\n",
        "                      6\n",
        "\n",
        "**Output:** 1 2 4 5 6\n",
        "\n"
      ],
      "metadata": {
        "id": "4Oxiw7ooAYvL"
      }
    },
    {
      "cell_type": "code",
      "source": [
        "from collections import deque\n",
        "\n",
        "# Node class for binary tree\n",
        "class Node:\n",
        "    def __init__(self, value):\n",
        "        self.value = value\n",
        "        self.left = None\n",
        "        self.right = None\n",
        "\n",
        "# Function to print the left view of a binary tree\n",
        "def printLeftView(root):\n",
        "    if not root:\n",
        "        return\n",
        "\n",
        "    queue = deque()\n",
        "    queue.append(root)\n",
        "\n",
        "    while queue:\n",
        "        level_size = len(queue)\n",
        "\n",
        "        # Print the leftmost node at the current level\n",
        "        print(queue[0].value, end=' ')\n",
        "\n",
        "        # Process all nodes at the current level and enqueue their children\n",
        "        for _ in range(level_size):\n",
        "            node = queue.popleft()\n",
        "\n",
        "            if node.left:\n",
        "                queue.append(node.left)\n",
        "\n",
        "            if node.right:\n",
        "                queue.append(node.right)\n",
        "\n",
        "# Example usage\n",
        "root = Node(4)\n",
        "root.left = Node(5)\n",
        "root.right = Node(2)\n",
        "root.right.left = Node(3)\n",
        "root.right.right = Node(1)\n",
        "root.right.left.left = Node(6)\n",
        "root.right.left.right = Node(7)\n",
        "\n",
        "print(\"Left View: \", end=' ')\n",
        "printLeftView(root)\n"
      ],
      "metadata": {
        "colab": {
          "base_uri": "https://localhost:8080/"
        },
        "id": "xIwui4xdBH82",
        "outputId": "c68f9b59-ccf2-4970-d8df-6f7b3796e950"
      },
      "execution_count": 2,
      "outputs": [
        {
          "output_type": "stream",
          "name": "stdout",
          "text": [
            "Left View:  4 5 3 6 "
          ]
        }
      ]
    },
    {
      "cell_type": "code",
      "source": [
        "root = Node(1)\n",
        "root.left = Node(2)\n",
        "root.right = Node(3)\n",
        "root.left.right = Node(4)\n",
        "root.left.right.right = Node(5)\n",
        "root.left.right.right.right = Node(6)\n",
        "\n",
        "print(\"Left View: \", end=' ')\n",
        "printLeftView(root)"
      ],
      "metadata": {
        "colab": {
          "base_uri": "https://localhost:8080/"
        },
        "id": "MCvwa1-8B6y3",
        "outputId": "0873b58f-1774-460c-92c1-5fb98ec6aee4"
      },
      "execution_count": 3,
      "outputs": [
        {
          "output_type": "stream",
          "name": "stdout",
          "text": [
            "Left View:  1 2 4 5 6 "
          ]
        }
      ]
    },
    {
      "cell_type": "code",
      "source": [],
      "metadata": {
        "id": "wTiN0ZOiDM05"
      },
      "execution_count": null,
      "outputs": []
    },
    {
      "cell_type": "markdown",
      "source": [
        "\n",
        "💡 Question-3:\n",
        "\n",
        "Given a Binary Tree, print the Right view of it.\n",
        "\n",
        "The right view of a Binary Tree is a set of nodes visible when the tree is visited from the Right side.\n",
        "\n",
        "**Examples:**\n",
        "\n",
        "**Input:**\n",
        "```\n",
        "         1\n",
        "      /     \\\n",
        "    2         3\n",
        "  /   \\      /  \\\n",
        " 4     5    6    7\n",
        "             \\\n",
        "              8\n",
        "```\n",
        "**Output**:\n",
        "\n",
        "Right view of the tree is 1 3 7 8\n",
        "\n",
        "**Input:**\n",
        "```\n",
        "         1\n",
        "        /\n",
        "       8\n",
        "      /\n",
        "     7\n",
        "```\n",
        "**Output**:\n",
        "\n",
        "Right view of the tree is 1 8 7\n"
      ],
      "metadata": {
        "id": "ieLwNKlNDUV_"
      }
    },
    {
      "cell_type": "code",
      "source": [
        "from collections import deque\n",
        "\n",
        "# Node class for binary tree\n",
        "class Node:\n",
        "    def __init__(self, value):\n",
        "        self.value = value\n",
        "        self.left = None\n",
        "        self.right = None\n",
        "\n",
        "# Function to print the right view of a binary tree\n",
        "def printRightView(root):\n",
        "    if not root:\n",
        "        return\n",
        "\n",
        "    queue = deque()\n",
        "    queue.append(root)\n",
        "\n",
        "    while queue:\n",
        "        level_size = len(queue)\n",
        "\n",
        "        # Traverse all nodes at the current level and print the rightmost node\n",
        "        for i in range(level_size):\n",
        "            node = queue.popleft()\n",
        "\n",
        "            if i == level_size - 1:  # Rightmost node at the current level\n",
        "                print(node.value, end=' ')\n",
        "\n",
        "            # Enqueue the left and right children (if they exist) of the current node\n",
        "            if node.left:\n",
        "                queue.append(node.left)\n",
        "            if node.right:\n",
        "                queue.append(node.right)\n",
        "\n",
        "# Example usage\n",
        "root = Node(1)\n",
        "root.left = Node(2)\n",
        "root.right = Node(3)\n",
        "root.left.left = Node(4)\n",
        "root.left.right = Node(5)\n",
        "root.right.left = Node(6)\n",
        "root.right.right = Node(7)\n",
        "root.right.left.right = Node(8)\n",
        "\n",
        "print(\"Right View: \", end='')\n",
        "printRightView(root)\n"
      ],
      "metadata": {
        "colab": {
          "base_uri": "https://localhost:8080/"
        },
        "id": "fFX9Mnp4Ednb",
        "outputId": "90c7943a-5492-4249-b8eb-9e8221943d96"
      },
      "execution_count": 4,
      "outputs": [
        {
          "output_type": "stream",
          "name": "stdout",
          "text": [
            "Right View: 1 3 7 8 "
          ]
        }
      ]
    },
    {
      "cell_type": "code",
      "source": [
        "root = Node(1)\n",
        "root.left = Node(8)\n",
        "root.left.left = Node(7)\n",
        "\n",
        "print(\"Right View: \", end='')\n",
        "printRightView(root)"
      ],
      "metadata": {
        "colab": {
          "base_uri": "https://localhost:8080/"
        },
        "id": "N965ZxQPFBxK",
        "outputId": "16d97b4e-407f-444d-f0ff-c5fdc84fb07f"
      },
      "execution_count": 6,
      "outputs": [
        {
          "output_type": "stream",
          "name": "stdout",
          "text": [
            "Right View: 1 8 7 "
          ]
        }
      ]
    },
    {
      "cell_type": "code",
      "source": [],
      "metadata": {
        "id": "D2hruSBbFZ1T"
      },
      "execution_count": null,
      "outputs": []
    },
    {
      "cell_type": "markdown",
      "source": [
        "\n",
        "💡 Question-4:\n",
        "\n",
        "Given a Binary Tree, The task is to print the **bottom view** from left to right. A node **x** is there in output if x is the bottommost node at its horizontal distance. The horizontal distance of the left child of a node x is equal to a horizontal distance of x minus 1, and that of a right child is the horizontal distance of x plus 1.\n",
        "\n",
        "**Examples:**\n",
        "\n",
        "**Input:**\n",
        "```\n",
        "             20\n",
        "           /     \\\n",
        "          8       22\n",
        "        /   \\       \\\n",
        "       5     3       25\n",
        "           /   \\\n",
        "          10   14\n",
        "```\n",
        "**Output:** 5, 10, 3, 14, 25.\n",
        "\n",
        "**Input:**\n",
        "```\n",
        "             20\n",
        "           /     \\\n",
        "          8       22\n",
        "        /   \\     /  \\\n",
        "       5     3   4    25\n",
        "           /   \\\n",
        "         10    14\n",
        "```\n",
        "**Output:**\n",
        "\n",
        "5 10 4 14 25.\n",
        "\n",
        "**Explanation:**\n",
        "\n",
        "If there are multiple bottom-most nodes for a horizontal distance from the root, then print the later one in the level traversal.\n",
        "\n",
        "**3 and 4** are both the bottom-most nodes at a horizontal distance of 0, we need to print 4.\n"
      ],
      "metadata": {
        "id": "gUQ7Z-QVE1Ly"
      }
    },
    {
      "cell_type": "code",
      "source": [
        "from collections import deque\n",
        "\n",
        "# Node class for binary tree\n",
        "class Node:\n",
        "    def __init__(self, value):\n",
        "        self.value = value\n",
        "        self.left = None\n",
        "        self.right = None\n",
        "\n",
        "# Function to print the bottom view of a binary tree\n",
        "def printBottomView(root):\n",
        "    if not root:\n",
        "        return\n",
        "\n",
        "    queue = deque()\n",
        "    queue.append((root, 0))  # Tuple of node and its horizontal distance\n",
        "    bottom_view = {}  # Dictionary to store the bottom-most node at each horizontal distance\n",
        "\n",
        "    while queue:\n",
        "        node, hd = queue.popleft()\n",
        "\n",
        "        # Update the bottom-most node at the current horizontal distance\n",
        "        bottom_view[hd] = node.value\n",
        "\n",
        "        # Enqueue the left and right children (if they exist) with updated horizontal distances\n",
        "        if node.left:\n",
        "            queue.append((node.left, hd - 1))\n",
        "        if node.right:\n",
        "            queue.append((node.right, hd + 1))\n",
        "\n",
        "    # Print the values of bottom view nodes from left to right\n",
        "    for value in sorted(bottom_view.keys()):\n",
        "        print(bottom_view[value], end=' ')\n",
        "\n",
        "# Example usage\n",
        "root = Node(20)\n",
        "root.left = Node(8)\n",
        "root.right = Node(22)\n",
        "root.left.left = Node(5)\n",
        "root.left.right = Node(3)\n",
        "root.right.right = Node(25)\n",
        "root.left.right.left = Node(10)\n",
        "root.left.right.right = Node(14)\n",
        "\n",
        "print(\"Bottom View: \", end='')\n",
        "printBottomView(root)\n"
      ],
      "metadata": {
        "colab": {
          "base_uri": "https://localhost:8080/"
        },
        "id": "7RL169sEGthK",
        "outputId": "dc8f26ca-89ea-46dc-9b97-c94f720b837b"
      },
      "execution_count": 7,
      "outputs": [
        {
          "output_type": "stream",
          "name": "stdout",
          "text": [
            "Bottom View: 5 10 3 14 25 "
          ]
        }
      ]
    },
    {
      "cell_type": "code",
      "source": [
        "root = Node(20)\n",
        "root.left = Node(8)\n",
        "root.right = Node(22)\n",
        "root.left.left = Node(5)\n",
        "root.left.right = Node(3)\n",
        "root.right.left = Node(4)\n",
        "root.right.right = Node(25)\n",
        "root.left.right.left = Node(10)\n",
        "root.left.right.right = Node(14)\n",
        "\n",
        "print(\"Bottom View: \", end='')\n",
        "printBottomView(root)"
      ],
      "metadata": {
        "colab": {
          "base_uri": "https://localhost:8080/"
        },
        "id": "Rtfjqb5rHHqD",
        "outputId": "fe4e6272-a772-4750-ba44-7e955fe87dde"
      },
      "execution_count": 8,
      "outputs": [
        {
          "output_type": "stream",
          "name": "stdout",
          "text": [
            "Bottom View: 5 10 4 14 25 "
          ]
        }
      ]
    },
    {
      "cell_type": "code",
      "source": [],
      "metadata": {
        "id": "gChFg5fGHi6P"
      },
      "execution_count": null,
      "outputs": []
    }
  ]
}