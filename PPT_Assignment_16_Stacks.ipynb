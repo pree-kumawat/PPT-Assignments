{
  "nbformat": 4,
  "nbformat_minor": 0,
  "metadata": {
    "colab": {
      "provenance": []
    },
    "kernelspec": {
      "name": "python3",
      "display_name": "Python 3"
    },
    "language_info": {
      "name": "python"
    }
  },
  "cells": [
    {
      "cell_type": "markdown",
      "source": [
        "\n",
        "💡 **Question 1**\n",
        "\n",
        "Given an array, for each element find the value of the nearest element to the right which is having a frequency greater than that of the current element. If there does not exist an answer for a position, then make the value ‘-1’.\n",
        "\n",
        "**Examples:**\n",
        "```\n",
        "Input: a[] = [1, 1, 2, 3, 4, 2, 1]\n",
        "Output : [-1, -1, 1, 2, 2, 1, -1]\n",
        "\n",
        "Explanation:\n",
        "Given array a[] = [1, 1, 2, 3, 4, 2, 1]\n",
        "Frequency of each element is: 3, 3, 2, 1, 1, 2, 3\n",
        "\n",
        "Lets calls Next Greater Frequency element as NGF\n",
        "1. For element a[0] = 1 which has a frequency = 3,\n",
        "   As it has frequency of 3 and no other next element\n",
        "   has frequency more than 3 so  '-1'\n",
        "2. For element a[1] = 1 it will be -1 same logic\n",
        "   like a[0]\n",
        "3. For element a[2] = 2 which has frequency = 2,\n",
        "   NGF element is 1 at position = 6  with frequency\n",
        "   of 3 > 2\n",
        "4. For element a[3] = 3 which has frequency = 1,\n",
        "   NGF element is 2 at position = 5 with frequency\n",
        "   of 2 > 1\n",
        "5. For element a[4] = 4 which has frequency = 1,\n",
        "   NGF element is 2 at position = 5 with frequency\n",
        "   of 2 > 1\n",
        "6. For element a[5] = 2 which has frequency = 2,\n",
        "   NGF element is 1 at position = 6 with frequency\n",
        "   of 3 > 2\n",
        "7. For element a[6] = 1 there is no element to its\n",
        "   right, hence -1\n",
        "   ```\n",
        "\n",
        "```\n",
        "Input : a[] = [1, 1, 1, 2, 2, 2, 2, 11, 3, 3]\n",
        "Output : [2, 2, 2, -1, -1, -1, -1, 3, -1, -1]\n",
        "\n",
        "```"
      ],
      "metadata": {
        "id": "L6ugU4IYmxCv"
      }
    },
    {
      "cell_type": "code",
      "execution_count": 2,
      "metadata": {
        "id": "be2HYDVyl5iq"
      },
      "outputs": [],
      "source": [
        "def find_nearest_greater_frequency(arr):\n",
        "    frequency = {}\n",
        "    result = []\n",
        "\n",
        "    # Count the frequency of each element in the array\n",
        "    for num in arr:\n",
        "        frequency[num] = frequency.get(num, 0) + 1\n",
        "\n",
        "    # Find the nearest element with higher frequency for each element\n",
        "    for i in range(len(arr)):\n",
        "        found = False\n",
        "        for j in range(i + 1, len(arr)):\n",
        "            if frequency[arr[j]] > frequency[arr[i]]:\n",
        "                result.append(arr[j])\n",
        "                found = True\n",
        "                break\n",
        "        if not found:\n",
        "            result.append(-1)\n",
        "\n",
        "    return result\n",
        "\n"
      ]
    },
    {
      "cell_type": "code",
      "source": [
        "# Example 1:\n",
        "arr = [1, 1, 2, 3, 4, 2, 1]\n",
        "output = find_nearest_greater_frequency(arr)\n",
        "print(output)"
      ],
      "metadata": {
        "colab": {
          "base_uri": "https://localhost:8080/"
        },
        "id": "71fs2-iNn_u9",
        "outputId": "7d348712-d41d-4b25-f592-3e76e2c58a79"
      },
      "execution_count": 5,
      "outputs": [
        {
          "output_type": "stream",
          "name": "stdout",
          "text": [
            "[-1, -1, 1, 2, 2, 1, -1]\n"
          ]
        }
      ]
    },
    {
      "cell_type": "code",
      "source": [
        "# Example 2:\n",
        "arr = [1, 1, 1, 2, 2, 2, 2, 11, 3, 3]\n",
        "output = find_nearest_greater_frequency(arr)\n",
        "print(output)"
      ],
      "metadata": {
        "colab": {
          "base_uri": "https://localhost:8080/"
        },
        "id": "mW2BPgZRoCn2",
        "outputId": "cdd8873e-301f-4438-b1cb-95933a20eb6d"
      },
      "execution_count": 6,
      "outputs": [
        {
          "output_type": "stream",
          "name": "stdout",
          "text": [
            "[2, 2, 2, -1, -1, -1, -1, 3, -1, -1]\n"
          ]
        }
      ]
    },
    {
      "cell_type": "markdown",
      "source": [
        "\n",
        "💡 **Question 2**\n",
        "\n",
        "Given a stack of integers, sort it in ascending order using another temporary stack.\n",
        "\n",
        "**Examples:**\n",
        "\n",
        "```\n",
        "Input : [34, 3, 31, 98, 92, 23]\n",
        "Output : [3, 23, 31, 34, 92, 98]\n",
        "\n",
        "Input : [3, 5, 1, 4, 2, 8]\n",
        "Output : [1, 2, 3, 4, 5, 8]\n",
        "\n",
        "```"
      ],
      "metadata": {
        "id": "LOvMoCtanfeM"
      }
    },
    {
      "cell_type": "code",
      "source": [
        "def sortStack(stack):\n",
        "    temp_stack = []\n",
        "\n",
        "    while stack:\n",
        "        temp = stack.pop()\n",
        "\n",
        "        while temp_stack and temp_stack[-1] < temp:\n",
        "            stack.append(temp_stack.pop())\n",
        "\n",
        "        temp_stack.append(temp)\n",
        "\n",
        "    while temp_stack:\n",
        "        stack.append(temp_stack.pop())\n",
        "\n",
        "    return stack\n"
      ],
      "metadata": {
        "id": "boZeBmWhnlX6"
      },
      "execution_count": 13,
      "outputs": []
    },
    {
      "cell_type": "code",
      "source": [
        "# Example 1:\n",
        "stack = [34, 3, 31, 98, 92, 23]\n",
        "sorted_stack = sortStack(stack)\n",
        "print(sorted_stack)"
      ],
      "metadata": {
        "colab": {
          "base_uri": "https://localhost:8080/"
        },
        "id": "K-YfLg26oUgo",
        "outputId": "b3f2add1-83e7-4e0f-f8ac-b258270503d8"
      },
      "execution_count": 14,
      "outputs": [
        {
          "output_type": "stream",
          "name": "stdout",
          "text": [
            "[3, 23, 31, 34, 92, 98]\n"
          ]
        }
      ]
    },
    {
      "cell_type": "code",
      "source": [
        "# Example 2:\n",
        "stack = [3, 5, 1, 4, 2, 8]\n",
        "sorted_stack = sortStack(stack)\n",
        "print(sorted_stack)"
      ],
      "metadata": {
        "colab": {
          "base_uri": "https://localhost:8080/"
        },
        "id": "XsrdaN7OoW8H",
        "outputId": "43a65a3e-8318-4c4f-f830-02a40a91062a"
      },
      "execution_count": 15,
      "outputs": [
        {
          "output_type": "stream",
          "name": "stdout",
          "text": [
            "[1, 2, 3, 4, 5, 8]\n"
          ]
        }
      ]
    },
    {
      "cell_type": "markdown",
      "source": [
        "\n",
        "💡 **Question 3**\n",
        "\n",
        "Given a stack with **push()**, **pop()**, and **empty()** operations, The task is to delete the **middle** element ****of it without using any additional data structure.\n",
        "\n",
        "```\n",
        "Input  : Stack[] = [1, 2, 3, 4, 5]\n",
        "\n",
        "Output : Stack[] = [1, 2, 4, 5]\n",
        "\n",
        "```\n",
        "\n",
        "```\n",
        "Input  : Stack[] = [1, 2, 3, 4, 5, 6]\n",
        "\n",
        "Output : Stack[] = [1, 2, 4, 5, 6]\n",
        "\n",
        "```"
      ],
      "metadata": {
        "id": "WCipinXopRgK"
      }
    },
    {
      "cell_type": "code",
      "source": [
        "def delete_middle(stack):\n",
        "    size = len(stack)\n",
        "    middle_index = size // 2\n",
        "    count = 0\n",
        "    temp_stack = []\n",
        "\n",
        "    while stack:\n",
        "        popped = stack.pop()\n",
        "\n",
        "        if count != middle_index:\n",
        "            temp_stack.append(popped)\n",
        "\n",
        "        count += 1\n",
        "\n",
        "    while temp_stack:\n",
        "        stack.append(temp_stack.pop())\n",
        "\n",
        "    return stack\n",
        "\n"
      ],
      "metadata": {
        "id": "v4ytu9H_q_GB"
      },
      "execution_count": 21,
      "outputs": []
    },
    {
      "cell_type": "code",
      "source": [
        "# Example 1:\n",
        "stack = [1, 2, 3, 4, 5]\n",
        "stack = delete_middle(stack)\n",
        "print(stack)"
      ],
      "metadata": {
        "colab": {
          "base_uri": "https://localhost:8080/"
        },
        "id": "iuyURnxJrSOC",
        "outputId": "95d4aec6-f661-48cc-d20f-bc2420ddc042"
      },
      "execution_count": 22,
      "outputs": [
        {
          "output_type": "stream",
          "name": "stdout",
          "text": [
            "[1, 2, 4, 5]\n"
          ]
        }
      ]
    },
    {
      "cell_type": "code",
      "source": [
        "# Example 2:\n",
        "stack = [1, 2, 3, 4, 5, 6]\n",
        "stack = delete_middle(stack)\n",
        "print(stack)"
      ],
      "metadata": {
        "colab": {
          "base_uri": "https://localhost:8080/"
        },
        "id": "vcDsktHorDgd",
        "outputId": "dd0bc6f2-55c9-4b02-9ae9-9cea3ac92516"
      },
      "execution_count": 20,
      "outputs": [
        {
          "output_type": "stream",
          "name": "stdout",
          "text": [
            "[1, 2, 4, 5, 6]\n"
          ]
        }
      ]
    },
    {
      "cell_type": "markdown",
      "source": [
        "\n",
        "💡 **Question 4**\n",
        "\n",
        "Given a Queue consisting of first **n** natural numbers (in random order). The task is to check whether the given Queue elements can be arranged in increasing order in another Queue using a stack. The operation allowed are:\n",
        "\n",
        "1. Push and pop elements from the stack\n",
        "2. Pop (Or Dequeue) from the given Queue.\n",
        "3. Push (Or Enqueue) in the another Queue.\n",
        "\n",
        "**Examples :**\n",
        "```\n",
        "Input : Queue[] = { 5, 1, 2, 3, 4 }\n",
        "\n",
        "Output : Yes\n",
        "\n",
        "Pop the first element of the given Queue\n",
        "\n",
        "i.e 5. Push 5 into the stack.\n",
        "\n",
        "Now, pop all the elements of the given Queue and push them to second Queue.\n",
        "\n",
        "Now, pop element 5 in the stack and push it to the second Queue.\n",
        "\n",
        "```\n",
        "\n",
        "```\n",
        "Input : Queue[] = { 5, 1, 2, 6, 3, 4 }\n",
        "\n",
        "Output : No\n",
        "\n",
        "Push 5 to stack.\n",
        "\n",
        "Pop 1, 2 from given Queue and push it to another Queue.\n",
        "\n",
        "Pop 6 from given Queue and push to stack.\n",
        "\n",
        "Pop 3, 4 from given Queue and push to second Queue.\n",
        "\n",
        "Now, from using any of above operation, we cannot push 5 into the second Queue because it is below the 6 in the stack.\n",
        "\n",
        "```"
      ],
      "metadata": {
        "id": "buMgIntLqe36"
      }
    },
    {
      "cell_type": "code",
      "source": [
        "from queue import Queue\n",
        "\n",
        "def check_arrangement(queue):\n",
        "    stack = []\n",
        "    second_queue = Queue()\n",
        "    expected = 1\n",
        "\n",
        "    while not queue.empty():\n",
        "        front = queue.queue[0]\n",
        "\n",
        "        if front == expected:\n",
        "            second_queue.put(front)\n",
        "            queue.get()\n",
        "            expected += 1\n",
        "        elif stack and stack[-1] == expected:\n",
        "            second_queue.put(stack.pop())\n",
        "            expected += 1\n",
        "        else:\n",
        "            stack.append(queue.get())\n",
        "\n",
        "    while stack:\n",
        "        if stack[-1] == expected:\n",
        "            second_queue.put(stack.pop())\n",
        "            expected += 1\n",
        "        else:\n",
        "            return \"No\"\n",
        "\n",
        "    for i in range(1, second_queue.qsize() + 1):\n",
        "        if second_queue.queue[i-1] != i:\n",
        "            return \"No\"\n",
        "\n",
        "    return \"Yes\"\n",
        "\n"
      ],
      "metadata": {
        "id": "plX7E0hyqF2a"
      },
      "execution_count": 23,
      "outputs": []
    },
    {
      "cell_type": "code",
      "source": [
        "# Example 1:\n",
        "queue = Queue()\n",
        "queue.put(5)\n",
        "queue.put(1)\n",
        "queue.put(2)\n",
        "queue.put(3)\n",
        "queue.put(4)\n",
        "result = check_arrangement(queue)\n",
        "print(result)\n"
      ],
      "metadata": {
        "colab": {
          "base_uri": "https://localhost:8080/"
        },
        "id": "s9e3OsLwsIrO",
        "outputId": "10fe60a0-2741-4e25-b19c-9b127c6b3d51"
      },
      "execution_count": 24,
      "outputs": [
        {
          "output_type": "stream",
          "name": "stdout",
          "text": [
            "Yes\n"
          ]
        }
      ]
    },
    {
      "cell_type": "code",
      "source": [
        "# Example 2:\n",
        "queue = Queue()\n",
        "queue.put(5)\n",
        "queue.put(1)\n",
        "queue.put(2)\n",
        "queue.put(6)\n",
        "queue.put(3)\n",
        "queue.put(4)\n",
        "result = check_arrangement(queue)\n",
        "print(result)"
      ],
      "metadata": {
        "colab": {
          "base_uri": "https://localhost:8080/"
        },
        "id": "l6p1sQtUsOWS",
        "outputId": "c921d475-65ac-4760-c6c8-886416690e0f"
      },
      "execution_count": 25,
      "outputs": [
        {
          "output_type": "stream",
          "name": "stdout",
          "text": [
            "No\n"
          ]
        }
      ]
    },
    {
      "cell_type": "markdown",
      "source": [
        "\n",
        "💡 **Question 5**\n",
        "\n",
        "Given a number , write a program to reverse this number using stack.\n",
        "\n",
        "**Examples:**\n",
        "\n",
        "```\n",
        "Input : 365\n",
        "Output : 563\n",
        "\n",
        "Input : 6899\n",
        "Output : 9986\n",
        "\n",
        "```\n"
      ],
      "metadata": {
        "id": "Wbngcl6asd-L"
      }
    },
    {
      "cell_type": "code",
      "source": [
        "def reverse_number(num):\n",
        "    num_str = str(num)\n",
        "    stack = []\n",
        "\n",
        "    for digit in num_str:\n",
        "        stack.append(digit)\n",
        "\n",
        "    reversed_num_str = \"\"\n",
        "    while stack:\n",
        "        reversed_num_str += stack.pop()\n",
        "\n",
        "    reversed_num = int(reversed_num_str)\n",
        "    return reversed_num\n"
      ],
      "metadata": {
        "id": "2_1LY37rsSyh"
      },
      "execution_count": 26,
      "outputs": []
    },
    {
      "cell_type": "code",
      "source": [
        "# Example 1:\n",
        "num = 365\n",
        "reversed_num = reverse_number(num)\n",
        "print(reversed_num)"
      ],
      "metadata": {
        "colab": {
          "base_uri": "https://localhost:8080/"
        },
        "id": "nyk71DkpsvFD",
        "outputId": "5a0b39b8-9df0-4230-bc2c-0db85a82c9e7"
      },
      "execution_count": 27,
      "outputs": [
        {
          "output_type": "stream",
          "name": "stdout",
          "text": [
            "563\n"
          ]
        }
      ]
    },
    {
      "cell_type": "code",
      "source": [
        "# Example 2:\n",
        "num = 6899\n",
        "reversed_num = reverse_number(num)\n",
        "print(reversed_num)"
      ],
      "metadata": {
        "colab": {
          "base_uri": "https://localhost:8080/"
        },
        "id": "zCKGCRQBsyfV",
        "outputId": "01f43e97-7bf3-4232-ca24-cea639998ff9"
      },
      "execution_count": 28,
      "outputs": [
        {
          "output_type": "stream",
          "name": "stdout",
          "text": [
            "9986\n"
          ]
        }
      ]
    },
    {
      "cell_type": "markdown",
      "source": [
        "\n",
        "💡 **Question 6**\n",
        "\n",
        "Given an integer k and a **[queue](https://www.geeksforgeeks.org/queue-data-structure/)** of integers, The task is to reverse the order of the first **k** elements of the queue, leaving the other elements in the same relative order.\n",
        "\n",
        "Only following standard operations are allowed on queue.\n",
        "\n",
        "- **enqueue(x) :** Add an item x to rear of queue\n",
        "- **dequeue() :** Remove an item from front of queue\n",
        "- **size() :** Returns number of elements in queue.\n",
        "- **front() :** Finds front item.\n"
      ],
      "metadata": {
        "id": "Txg9YJ_etBhq"
      }
    },
    {
      "cell_type": "code",
      "source": [
        "from queue import Queue\n",
        "\n",
        "def reverse_k_elements(queue, k):\n",
        "    stack = []\n",
        "    temp_queue = Queue()\n",
        "\n",
        "    # Dequeue and push the first k elements onto the stack\n",
        "    for i in range(k):\n",
        "        stack.append(queue.get())\n",
        "\n",
        "    # Enqueue the remaining elements into the temporary queue\n",
        "    while not queue.empty():\n",
        "        temp_queue.put(queue.get())\n",
        "\n",
        "    # Pop elements from the stack and enqueue them into the temporary queue\n",
        "    while stack:\n",
        "        temp_queue.put(stack.pop())\n",
        "\n",
        "    # Enqueue elements from the temporary queue back into the given queue\n",
        "    while not temp_queue.empty():\n",
        "        queue.put(temp_queue.get())\n",
        "\n",
        "    return queue\n",
        "\n",
        "# Example usage\n",
        "queue = Queue()\n",
        "queue.put(1)\n",
        "queue.put(2)\n",
        "queue.put(3)\n",
        "queue.put(4)\n",
        "queue.put(5)\n",
        "k = 3\n",
        "reversed_queue = reverse_k_elements(queue, k)\n",
        "\n",
        "# Printing the modified queue\n",
        "while not reversed_queue.empty():\n",
        "    print(reversed_queue.get())\n"
      ],
      "metadata": {
        "colab": {
          "base_uri": "https://localhost:8080/"
        },
        "id": "J-Vh8YRNs2Xc",
        "outputId": "343ffdd8-b926-4495-8843-f630a2ec52bf"
      },
      "execution_count": 31,
      "outputs": [
        {
          "output_type": "stream",
          "name": "stdout",
          "text": [
            "4\n",
            "5\n",
            "3\n",
            "2\n",
            "1\n"
          ]
        }
      ]
    },
    {
      "cell_type": "markdown",
      "source": [
        "\n",
        "💡 **Question 7**\n",
        "\n",
        "Given a sequence of n strings, the task is to check if any two similar words come together and then destroy each other then print the number of words left in the sequence after this pairwise destruction.\n",
        "\n",
        "**Examples:**\n",
        "```\n",
        "Input : ab aa aa bcd ab\n",
        "\n",
        "Output : 3\n",
        "\n",
        "*As aa, aa destroys each other so,*\n",
        "\n",
        "*ab bcd ab is the new sequence.*\n",
        "```\n",
        "\n",
        "```\n",
        "Input :  tom jerry jerry tom\n",
        "\n",
        "Output : 0\n",
        "\n",
        "*As first both jerry will destroy each other.*\n",
        "\n",
        "*Then sequence will be tom, tom they will also destroy*\n",
        "\n",
        "*each other. So, the final sequence doesn’t contain any*\n",
        "\n",
        "*word.*\n",
        "\n",
        "```"
      ],
      "metadata": {
        "id": "pB7oXDdataW_"
      }
    },
    {
      "cell_type": "code",
      "source": [
        "def count_remaining_words(sequence):\n",
        "    words = sequence.split()\n",
        "    stack = []\n",
        "\n",
        "    for word in words:\n",
        "        if not stack or word != stack[-1]:\n",
        "            stack.append(word)\n",
        "        else:\n",
        "            stack.pop()\n",
        "\n",
        "    return len(stack)\n",
        "\n"
      ],
      "metadata": {
        "id": "yMykj4EHtjTd"
      },
      "execution_count": 32,
      "outputs": []
    },
    {
      "cell_type": "code",
      "source": [
        "# Example 1:\n",
        "sequence = \"ab aa aa bcd ab\"\n",
        "remaining_words = count_remaining_words(sequence)\n",
        "print(remaining_words)\n"
      ],
      "metadata": {
        "colab": {
          "base_uri": "https://localhost:8080/"
        },
        "id": "btKQQ0fHvMD-",
        "outputId": "669808a4-9eb8-457d-d73c-4f5cd4fc579b"
      },
      "execution_count": 34,
      "outputs": [
        {
          "output_type": "stream",
          "name": "stdout",
          "text": [
            "3\n"
          ]
        }
      ]
    },
    {
      "cell_type": "code",
      "source": [
        "# Example 2:\n",
        "sequence = \"tom jerry jerry tom\"\n",
        "remaining_words = count_remaining_words(sequence)\n",
        "print(remaining_words)"
      ],
      "metadata": {
        "colab": {
          "base_uri": "https://localhost:8080/"
        },
        "id": "HgkYjsC7vOpR",
        "outputId": "dcacd330-c5e8-43bf-8e14-c5a1ef55031e"
      },
      "execution_count": 35,
      "outputs": [
        {
          "output_type": "stream",
          "name": "stdout",
          "text": [
            "0\n"
          ]
        }
      ]
    },
    {
      "cell_type": "markdown",
      "source": [
        "\n",
        "💡 **Question 8**\n",
        "\n",
        "Given an array of integers, the task is to find the maximum absolute difference between the nearest left and the right smaller element of every element in the array.\n",
        "\n",
        "**Note:** If there is no smaller element on right side or left side of any element then we take zero as the smaller element. For example for the leftmost element, the nearest smaller element on the left side is considered as 0. Similarly, for rightmost elements, the smaller element on the right side is considered as 0.\n",
        "\n",
        "**Examples:**\n",
        "\n",
        "```\n",
        "Input : arr[] = {2, 1, 8}\n",
        "Output : 1\n",
        "Left smaller  LS[] {0, 0, 1}\n",
        "Right smaller RS[] {1, 0, 0}\n",
        "Maximum Diff of abs(LS[i] - RS[i]) = 1\n",
        "\n",
        "Input  : arr[] = {2, 4, 8, 7, 7, 9, 3}\n",
        "Output : 4\n",
        "Left smaller   LS[] = {0, 2, 4, 4, 4, 7, 2}\n",
        "Right smaller  RS[] = {0, 3, 7, 3, 3, 3, 0}\n",
        "Maximum Diff of abs(LS[i] - RS[i]) = 7 - 3 = 4\n",
        "\n",
        "Input : arr[] = {5, 1, 9, 2, 5, 1, 7}\n",
        "Output : 1\n",
        "\n",
        "```"
      ],
      "metadata": {
        "id": "6zoj93QqvwcY"
      }
    },
    {
      "cell_type": "code",
      "source": [
        "def find_max_difference(arr):\n",
        "    n = len(arr)\n",
        "    left_stack = []\n",
        "    right_stack = []\n",
        "    left_smaller = [0] * n\n",
        "    right_smaller = [0] * n\n",
        "\n",
        "    # Calculate left smaller using left_stack\n",
        "    for i in range(n):\n",
        "        while left_stack and arr[i] <= arr[left_stack[-1]]:\n",
        "            left_stack.pop()\n",
        "        if left_stack:\n",
        "            left_smaller[i] = arr[left_stack[-1]]\n",
        "        left_stack.append(i)\n",
        "\n",
        "    # Calculate right smaller using right_stack\n",
        "    for i in range(n - 1, -1, -1):\n",
        "        while right_stack and arr[i] <= arr[right_stack[-1]]:\n",
        "            right_stack.pop()\n",
        "        if right_stack:\n",
        "            right_smaller[i] = arr[right_stack[-1]]\n",
        "        right_stack.append(i)\n",
        "\n",
        "    max_diff = 0\n",
        "    for i in range(n):\n",
        "        diff = abs(left_smaller[i] - right_smaller[i])\n",
        "        max_diff = max(max_diff, diff)\n",
        "\n",
        "    return max_diff\n"
      ],
      "metadata": {
        "id": "HSEZx2dVvV-_"
      },
      "execution_count": 39,
      "outputs": []
    },
    {
      "cell_type": "code",
      "source": [
        "# Examples 1:\n",
        "arr = [2, 1, 8]\n",
        "max_diff = find_max_difference(arr)\n",
        "print(max_diff)\n",
        "\n"
      ],
      "metadata": {
        "colab": {
          "base_uri": "https://localhost:8080/"
        },
        "id": "6m4mY8ftwP_8",
        "outputId": "6724cad9-976c-4021-d24f-2d9037e0441b"
      },
      "execution_count": 41,
      "outputs": [
        {
          "output_type": "stream",
          "name": "stdout",
          "text": [
            "1\n"
          ]
        }
      ]
    },
    {
      "cell_type": "code",
      "source": [
        "# Examples 2:\n",
        "arr = [2, 4, 8, 7, 7, 9, 3]\n",
        "max_diff = find_max_difference(arr)\n",
        "print(max_diff)\n"
      ],
      "metadata": {
        "colab": {
          "base_uri": "https://localhost:8080/"
        },
        "id": "YMexqs6awTND",
        "outputId": "c3b1d194-c406-4856-f890-38a0b5568167"
      },
      "execution_count": 42,
      "outputs": [
        {
          "output_type": "stream",
          "name": "stdout",
          "text": [
            "4\n"
          ]
        }
      ]
    },
    {
      "cell_type": "code",
      "source": [
        "# Examples 3:\n",
        "arr = [5, 1, 9, 2, 5, 1, 7]\n",
        "max_diff = find_max_difference(arr)\n",
        "print(max_diff)"
      ],
      "metadata": {
        "colab": {
          "base_uri": "https://localhost:8080/"
        },
        "id": "fB9oLLB4wz7l",
        "outputId": "a7dc7d43-b257-4e68-fdfc-16df0a7b21b6"
      },
      "execution_count": 44,
      "outputs": [
        {
          "output_type": "stream",
          "name": "stdout",
          "text": [
            "1\n"
          ]
        }
      ]
    },
    {
      "cell_type": "code",
      "source": [],
      "metadata": {
        "id": "ndrft4P6w0sB"
      },
      "execution_count": null,
      "outputs": []
    }
  ]
}