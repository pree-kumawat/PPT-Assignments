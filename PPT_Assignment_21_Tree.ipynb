{
  "nbformat": 4,
  "nbformat_minor": 0,
  "metadata": {
    "colab": {
      "provenance": []
    },
    "kernelspec": {
      "name": "python3",
      "display_name": "Python 3"
    },
    "language_info": {
      "name": "python"
    }
  },
  "cells": [
    {
      "cell_type": "markdown",
      "source": [
        "\n",
        "💡 Question-1\n",
        "\n",
        "You are given a binary tree. The binary tree is represented using the TreeNode class. Each TreeNode has an integer value and left and right children, represented using the TreeNode class itself. Convert this binary tree into a binary search tree.\n",
        "\n",
        "Input:\n",
        "```\n",
        "        10\n",
        "\n",
        "       /   \\\n",
        "\n",
        "     2      7\n",
        "\n",
        "   /   \\\n",
        "\n",
        " 8      4\n",
        " ```\n",
        "\n",
        "Output:\n",
        "```\n",
        "        8\n",
        "\n",
        "      /   \\\n",
        "\n",
        "    4     10\n",
        "\n",
        "  /   \\\n",
        "\n",
        "2      7\n",
        "```\n"
      ],
      "metadata": {
        "id": "WYkPM2aKbAEm"
      }
    },
    {
      "cell_type": "code",
      "source": [
        "# TreeNode class for binary tree\n",
        "class TreeNode:\n",
        "    def __init__(self, value):\n",
        "        self.value = value\n",
        "        self.left = None\n",
        "        self.right = None\n",
        "\n",
        "# Function to perform in-order traversal of the binary tree and store node values in a list\n",
        "def inorderTraversal(node, values):\n",
        "    if node is None:\n",
        "        return\n",
        "\n",
        "    inorderTraversal(node.left, values)\n",
        "    values.append(node.value)\n",
        "    inorderTraversal(node.right, values)\n",
        "\n",
        "# Function to update the values of the binary tree nodes using the sorted list\n",
        "def updateNodeValues(node, values):\n",
        "    if node is None:\n",
        "        return\n",
        "\n",
        "    updateNodeValues(node.left, values)\n",
        "    node.value = values.pop(0)\n",
        "    updateNodeValues(node.right, values)\n",
        "\n",
        "# Function to convert a binary tree into a binary search tree\n",
        "def convertToBST(root):\n",
        "    # Step 1: Perform in-order traversal and store node values in a list\n",
        "    values = []\n",
        "    inorderTraversal(root, values)\n",
        "\n",
        "    # Step 2: Sort the list of node values\n",
        "    values.sort()\n",
        "\n",
        "    # Step 3: Update node values using the sorted list\n",
        "    updateNodeValues(root, values)\n",
        "\n",
        "# Function to perform in-order traversal and print the binary tree\n",
        "def inorderPrint(node):\n",
        "    if node is None:\n",
        "        return\n",
        "\n",
        "    inorderPrint(node.left)\n",
        "    print(node.value, end=\" \")\n",
        "    inorderPrint(node.right)\n",
        "\n",
        "# Example usage\n",
        "root = TreeNode(10)\n",
        "root.left = TreeNode(2)\n",
        "root.right = TreeNode(7)\n",
        "root.left.left = TreeNode(8)\n",
        "root.left.right = TreeNode(4)\n",
        "\n",
        "print(\"Original binary tree:\")\n",
        "inorderPrint(root)\n",
        "\n",
        "convertToBST(root)\n",
        "\n",
        "print(\"\\nConverted binary search tree:\")\n",
        "inorderPrint(root)\n"
      ],
      "metadata": {
        "colab": {
          "base_uri": "https://localhost:8080/"
        },
        "id": "m0-T5xD4ktSg",
        "outputId": "b092c96d-69ff-46a3-c4b5-3c6c1d92a5af"
      },
      "execution_count": 8,
      "outputs": [
        {
          "output_type": "stream",
          "name": "stdout",
          "text": [
            "Original binary tree:\n",
            "8 2 4 10 7 \n",
            "Converted binary search tree:\n",
            "2 4 7 8 10 "
          ]
        }
      ]
    },
    {
      "cell_type": "markdown",
      "source": [
        "\n",
        "💡 Question-2:\n",
        "\n",
        "Given a Binary Search Tree with all unique values and two keys. Find the distance between two nodes in BST. The given keys always exist in BST.\n",
        "\n",
        "Example:\n",
        "\n",
        "Consider the following BST:\n",
        "\n",
        "![1.png](https://s3-us-west-2.amazonaws.com/secure.notion-static.com/f2455039-7e12-43fc-a7d3-b5be24931c1c/1.png)\n",
        "\n",
        "**Input-1:**\n",
        "\n",
        "n = 9\n",
        "\n",
        "values = [8, 3, 1, 6, 4, 7, 10, 14,13]\n",
        "\n",
        "node-1 = 6\n",
        "\n",
        "node-2 = 14\n",
        "\n",
        "**Output-1:**\n",
        "\n",
        "The distance between the two keys = 4\n",
        "\n",
        "**Input-2:**\n",
        "\n",
        "n = 9\n",
        "\n",
        "values = [8, 3, 1, 6, 4, 7, 10, 14,13]\n",
        "\n",
        "node-1 = 3\n",
        "\n",
        "node-2 = 4\n",
        "\n",
        "**Output-2:**\n",
        "\n",
        "The distance between the two keys = 2\n"
      ],
      "metadata": {
        "id": "17lbCWcadxQu"
      }
    },
    {
      "cell_type": "code",
      "source": [
        "# Node class for BST\n",
        "class Node:\n",
        "    def __init__(self, value):\n",
        "        self.value = value\n",
        "        self.left = None\n",
        "        self.right = None\n",
        "\n",
        "# Function to insert a node into BST\n",
        "def insert(root, value):\n",
        "    if root is None:\n",
        "        return Node(value)\n",
        "    if value < root.value:\n",
        "        root.left = insert(root.left, value)\n",
        "    elif value > root.value:\n",
        "        root.right = insert(root.right, value)\n",
        "    return root\n",
        "\n",
        "# Function to find the lowest common ancestor (LCA) of two nodes in BST\n",
        "def findLCA(root, node1, node2):\n",
        "    if root is None:\n",
        "        return None\n",
        "    if root.value > node1 and root.value > node2:\n",
        "        return findLCA(root.left, node1, node2)\n",
        "    if root.value < node1 and root.value < node2:\n",
        "        return findLCA(root.right, node1, node2)\n",
        "    return root\n",
        "\n",
        "# Function to find the distance between two nodes in BST\n",
        "def findDistance(root, node1, node2):\n",
        "    lca = findLCA(root, node1, node2)\n",
        "\n",
        "    # Function to calculate the distance between LCA and a node\n",
        "    def distanceFromLCA(node, target, distance):\n",
        "        if node is None:\n",
        "            return None\n",
        "        if node.value == target:\n",
        "            return distance\n",
        "        if node.value > target:\n",
        "            return distanceFromLCA(node.left, target, distance + 1)\n",
        "        return distanceFromLCA(node.right, target, distance + 1)\n",
        "\n",
        "    distance1 = distanceFromLCA(lca, node1, 0)\n",
        "    distance2 = distanceFromLCA(lca, node2, 0)\n",
        "\n",
        "    return distance1 + distance2\n"
      ],
      "metadata": {
        "id": "hERii9SaoP6a"
      },
      "execution_count": 3,
      "outputs": []
    },
    {
      "cell_type": "code",
      "source": [
        "# Example usage\n",
        "values = [8, 3, 1, 6, 4, 7, 10, 14, 13]\n",
        "root = None\n",
        "for value in values:\n",
        "    root = insert(root, value)\n",
        "\n",
        "node1 = 6\n",
        "node2 = 14\n",
        "distance = findDistance(root, node1, node2)\n",
        "print(\"The distance between the two keys:\", distance)"
      ],
      "metadata": {
        "colab": {
          "base_uri": "https://localhost:8080/"
        },
        "id": "mMIWWr8xi7YD",
        "outputId": "28f3bff0-7f66-4c58-dce2-3e979d7c142e"
      },
      "execution_count": 4,
      "outputs": [
        {
          "output_type": "stream",
          "name": "stdout",
          "text": [
            "The distance between the two keys: 4\n"
          ]
        }
      ]
    },
    {
      "cell_type": "code",
      "source": [
        "values = [8, 3, 1, 6, 4, 7, 10, 14, 13]\n",
        "root = None\n",
        "for value in values:\n",
        "    root = insert(root, value)\n",
        "\n",
        "node1 = 3\n",
        "node2 = 4\n",
        "distance = findDistance(root, node1, node2)\n",
        "print(\"The distance between the two keys:\", distance)"
      ],
      "metadata": {
        "colab": {
          "base_uri": "https://localhost:8080/"
        },
        "id": "iEsEGchPieum",
        "outputId": "4a7084c1-b993-4d2e-c4e5-bc7070c38482"
      },
      "execution_count": 5,
      "outputs": [
        {
          "output_type": "stream",
          "name": "stdout",
          "text": [
            "The distance between the two keys: 2\n"
          ]
        }
      ]
    },
    {
      "cell_type": "markdown",
      "source": [
        "\n",
        "💡 Question-3:\n",
        "\n",
        "Write a program to convert a binary tree to a doubly linked list.\n",
        "\n",
        "Input:\n",
        "\n",
        "        10\n",
        "\n",
        "       /   \\\n",
        "\n",
        "     5     20\n",
        "\n",
        "           /   \\\n",
        "\n",
        "        30     35\n",
        "\n",
        "Output:\n",
        "\n",
        "5 10 30 20 35\n"
      ],
      "metadata": {
        "id": "iIONWgYkjCfQ"
      }
    },
    {
      "cell_type": "code",
      "source": [
        "# Node class for binary tree\n",
        "class Node:\n",
        "    def __init__(self, value):\n",
        "        self.value = value\n",
        "        self.left = None\n",
        "        self.right = None\n",
        "\n",
        "# Function to perform in-order traversal of the binary tree\n",
        "def inorderTraversal(node, prev):\n",
        "    if node is None:\n",
        "        return prev\n",
        "\n",
        "    # Recursively convert the left subtree\n",
        "    prev = inorderTraversal(node.left, prev)\n",
        "\n",
        "    # Modify the pointers to convert the current node\n",
        "    node.left = prev\n",
        "    if prev:\n",
        "        prev.right = node\n",
        "\n",
        "    # Update the previous node\n",
        "    prev = node\n",
        "\n",
        "    # Recursively convert the right subtree\n",
        "    prev = inorderTraversal(node.right, prev)\n",
        "\n",
        "    return prev\n",
        "\n",
        "# Function to convert binary tree to doubly linked list\n",
        "def convertToDoublyLinkedList(root):\n",
        "    if root is None:\n",
        "        return None\n",
        "\n",
        "    # Perform the in-order traversal and return the head of the linked list\n",
        "    head = inorderTraversal(root, None)\n",
        "\n",
        "    # Find the head of the linked list (leftmost node)\n",
        "    while head and head.left:\n",
        "        head = head.left\n",
        "\n",
        "    return head\n",
        "\n",
        "# Helper function to print the doubly linked list\n",
        "def printDoublyLinkedList(head):\n",
        "    if head is None:\n",
        "        return\n",
        "\n",
        "    current = head\n",
        "    while current:\n",
        "        print(current.value, end=\" \")\n",
        "        current = current.right\n",
        "\n",
        "# Example usage\n",
        "root = Node(10)\n",
        "root.left = Node(5)\n",
        "root.right = Node(20)\n",
        "root.right.left = Node(30)\n",
        "root.right.right = Node(35)\n",
        "\n",
        "doublyLinkedList = convertToDoublyLinkedList(root)\n",
        "printDoublyLinkedList(doublyLinkedList)\n"
      ],
      "metadata": {
        "colab": {
          "base_uri": "https://localhost:8080/"
        },
        "id": "vtqncqt3iwR4",
        "outputId": "277263af-2b54-4613-800b-4d93b5bedb07"
      },
      "execution_count": 6,
      "outputs": [
        {
          "output_type": "stream",
          "name": "stdout",
          "text": [
            "5 10 30 20 35 "
          ]
        }
      ]
    },
    {
      "cell_type": "markdown",
      "source": [
        "\n",
        "💡 Question-4:\n",
        "\n",
        "Write a program to connect nodes at the same level.\n",
        "\n",
        "Input:\n",
        "```\n",
        "        1\n",
        "\n",
        "      /   \\\n",
        "\n",
        "    2      3\n",
        "\n",
        "  /   \\   /   \\\n",
        "\n",
        "4     5  6    7\n",
        "```\n",
        "Output:\n",
        "\n",
        "1 → -1\n",
        "\n",
        "2 → 3\n",
        "\n",
        "3 → -1\n",
        "\n",
        "4 → 5\n",
        "\n",
        "5 → 6\n",
        "\n",
        "6 → 7\n",
        "\n",
        "7 → -1\n"
      ],
      "metadata": {
        "id": "Da02KRNHjXhc"
      }
    },
    {
      "cell_type": "code",
      "source": [
        "# Node class for binary tree\n",
        "class Node:\n",
        "    def __init__(self, value):\n",
        "        self.value = value\n",
        "        self.left = None\n",
        "        self.right = None\n",
        "        self.next = None\n",
        "\n",
        "# Function to connect nodes at the same level\n",
        "def connectNodesAtSameLevel(root):\n",
        "    if root is None:\n",
        "        return\n",
        "\n",
        "    # Create a dummy node as the nextRight node for the rightmost node in the current level\n",
        "    dummy = Node(-1)\n",
        "    while root:\n",
        "        current = root\n",
        "        prev = dummy\n",
        "\n",
        "        # Traverse the current level and establish connections to the next level\n",
        "        while current:\n",
        "            if current.left:\n",
        "                prev.next = current.left\n",
        "                prev = prev.next\n",
        "            if current.right:\n",
        "                prev.next = current.right\n",
        "                prev = prev.next\n",
        "            current = current.next\n",
        "\n",
        "        # Move to the next level\n",
        "        root = dummy.next\n",
        "        dummy.next = None\n",
        "\n",
        "# Helper function to print the connections at the same level\n",
        "def printConnectionsAtSameLevel(root):\n",
        "    while root:\n",
        "        current = root\n",
        "        while current:\n",
        "            if current.next:\n",
        "                print(current.value, \"→\", current.next.value)\n",
        "            else:\n",
        "                print(current.value, \"→ -1\")\n",
        "            current = current.next\n",
        "        root = root.left\n",
        "\n",
        "# Example usage\n",
        "root = Node(1)\n",
        "root.left = Node(2)\n",
        "root.right = Node(3)\n",
        "root.left.left = Node(4)\n",
        "root.left.right = Node(5)\n",
        "root.right.left = Node(6)\n",
        "root.right.right = Node(7)\n",
        "\n",
        "connectNodesAtSameLevel(root)\n",
        "printConnectionsAtSameLevel(root)\n"
      ],
      "metadata": {
        "colab": {
          "base_uri": "https://localhost:8080/"
        },
        "id": "QaTtLmYAjRxQ",
        "outputId": "ce63bbc5-f76f-42d5-dcf7-a2592c2ba0b4"
      },
      "execution_count": 7,
      "outputs": [
        {
          "output_type": "stream",
          "name": "stdout",
          "text": [
            "1 → -1\n",
            "2 → 3\n",
            "3 → -1\n",
            "4 → 5\n",
            "5 → 6\n",
            "6 → 7\n",
            "7 → -1\n"
          ]
        }
      ]
    },
    {
      "cell_type": "code",
      "source": [],
      "metadata": {
        "id": "Ni_7EW5GkPkf"
      },
      "execution_count": null,
      "outputs": []
    }
  ]
}