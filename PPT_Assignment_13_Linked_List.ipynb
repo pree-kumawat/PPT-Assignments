{
  "nbformat": 4,
  "nbformat_minor": 0,
  "metadata": {
    "colab": {
      "provenance": []
    },
    "kernelspec": {
      "name": "python3",
      "display_name": "Python 3"
    },
    "language_info": {
      "name": "python"
    }
  },
  "cells": [
    {
      "cell_type": "markdown",
      "source": [
        "\n",
        "💡 **Question 1**\n",
        "\n",
        "Given two linked list of the same size, the task is to create a new linked list using those linked lists. The condition is that the greater node among both linked list will be added to the new linked list.\n",
        "\n",
        "**Examples:**\n",
        "\n",
        "```\n",
        "Input: list1 = 5->2->3->8\n",
        "list2 = 1->7->4->5\n",
        "Output: New list = 5->7->4->8\n",
        "\n",
        "Input:list1 = 2->8->9->3\n",
        "list2 = 5->3->6->4\n",
        "Output: New list = 5->8->9->4\n",
        "\n",
        "```"
      ],
      "metadata": {
        "id": "Gnr6NR_dKTwz"
      }
    },
    {
      "cell_type": "code",
      "execution_count": 1,
      "metadata": {
        "id": "4NbexnUSJUO5"
      },
      "outputs": [],
      "source": [
        "class Node:\n",
        "    def __init__(self, value):\n",
        "        self.value = value\n",
        "        self.next = None\n",
        "\n",
        "\n",
        "def createNewList(list1, list2):\n",
        "    ptr1 = list1\n",
        "    ptr2 = list2\n",
        "    newList = None\n",
        "    newListTail = None\n",
        "\n",
        "    while ptr1 is not None and ptr2 is not None:\n",
        "        newNode = None\n",
        "\n",
        "        if ptr1.value >= ptr2.value:\n",
        "            newNode = Node(ptr1.value)\n",
        "            ptr1 = ptr1.next\n",
        "        else:\n",
        "            newNode = Node(ptr2.value)\n",
        "            ptr2 = ptr2.next\n",
        "\n",
        "        if newList is None:\n",
        "            newList = newNode\n",
        "            newListTail = newNode\n",
        "        else:\n",
        "            newListTail.next = newNode\n",
        "            newListTail = newNode\n",
        "\n",
        "    # Append the remaining nodes of list1, if any\n",
        "    while ptr1 is not None:\n",
        "        newNode = Node(ptr1.value)\n",
        "        newListTail.next = newNode\n",
        "        newListTail = newNode\n",
        "        ptr1 = ptr1.next\n",
        "\n",
        "    # Append the remaining nodes of list2, if any\n",
        "    while ptr2 is not None:\n",
        "        newNode = Node(ptr2.value)\n",
        "        newListTail.next = newNode\n",
        "        newListTail = newNode\n",
        "        ptr2 = ptr2.next\n",
        "\n",
        "    return newList\n"
      ]
    },
    {
      "cell_type": "code",
      "source": [
        "# Example\n",
        "# Create linked list 1: 5 -> 2 -> 3 -> 8\n",
        "list1 = Node(5)\n",
        "list1.next = Node(2)\n",
        "list1.next.next = Node(3)\n",
        "list1.next.next.next = Node(8)\n",
        "\n",
        "# Create linked list 2: 1 -> 7 -> 4 -> 5\n",
        "list2 = Node(1)\n",
        "list2.next = Node(7)\n",
        "list2.next.next = Node(4)\n",
        "list2.next.next.next = Node(5)\n",
        "\n",
        "newList = createNewList(list1, list2)\n",
        "\n",
        "# Print values of the new linked list\n",
        "ptr = newList\n",
        "while ptr is not None:\n",
        "    print(ptr.value, end=\" -> \")\n",
        "    ptr = ptr.next\n",
        "print(\"None\")\n"
      ],
      "metadata": {
        "colab": {
          "base_uri": "https://localhost:8080/"
        },
        "id": "3JQx8BXTKjMj",
        "outputId": "bc40f87b-cee3-4a22-86ad-3e8ddf669b3c"
      },
      "execution_count": 8,
      "outputs": [
        {
          "output_type": "stream",
          "name": "stdout",
          "text": [
            "5 -> 2 -> 3 -> 8 -> 1 -> 7 -> 4 -> 5 -> None\n"
          ]
        }
      ]
    },
    {
      "cell_type": "markdown",
      "source": [
        "\n",
        "💡 **Question 2**\n",
        "\n",
        "Write a function that takes a list sorted in non-decreasing order and deletes any duplicate nodes from the list. The list should only be traversed once.\n",
        "\n",
        "For example if the linked list is 11->11->11->21->43->43->60 then removeDuplicates() should convert the list to 11->21->43->60.\n",
        "\n",
        "**Example 1:**\n",
        "\n",
        "```\n",
        "Input:\n",
        "LinkedList:\n",
        "11->11->11->21->43->43->60\n",
        "Output:\n",
        "11->21->43->60\n",
        "```\n",
        "\n",
        "**Example 2:**\n",
        "\n",
        "```\n",
        "Input:\n",
        "LinkedList:\n",
        "10->12->12->25->25->25->34\n",
        "Output:\n",
        "10->12->25->34\n",
        "\n",
        "```"
      ],
      "metadata": {
        "id": "ZZdLcbmYLbF5"
      }
    },
    {
      "cell_type": "code",
      "source": [
        "class Node:\n",
        "    def __init__(self, value):\n",
        "        self.value = value\n",
        "        self.next = None\n",
        "\n",
        "\n",
        "def removeDuplicates(head):\n",
        "    if head is None:\n",
        "        return head\n",
        "\n",
        "    current = head\n",
        "    while current.next is not None:\n",
        "        if current.value == current.next.value:\n",
        "            current.next = current.next.next\n",
        "        else:\n",
        "            current = current.next\n",
        "\n",
        "    return head\n"
      ],
      "metadata": {
        "id": "Xzk6eqWSLNKz"
      },
      "execution_count": 4,
      "outputs": []
    },
    {
      "cell_type": "code",
      "source": [
        "# Example\n",
        "# Create linked list: 11 -> 11 -> 11 -> 21 -> 43 -> 43 -> 60\n",
        "head = Node(11)\n",
        "head.next = Node(11)\n",
        "head.next.next = Node(11)\n",
        "head.next.next.next = Node(21)\n",
        "head.next.next.next.next = Node(43)\n",
        "head.next.next.next.next.next = Node(43)\n",
        "head.next.next.next.next.next.next = Node(60)\n",
        "\n",
        "updatedList = removeDuplicates(head)\n",
        "\n",
        "# Print the values of the updated linked list: 11 -> 21 -> 43 -> 60\n",
        "ptr = updatedList\n",
        "while ptr is not None:\n",
        "    print(ptr.value, end=\" -> \")\n",
        "    ptr = ptr.next\n",
        "print(\"None\")\n"
      ],
      "metadata": {
        "colab": {
          "base_uri": "https://localhost:8080/"
        },
        "id": "PInqE0IqLxeg",
        "outputId": "40b70b01-b77c-4c8e-a239-5890714bd910"
      },
      "execution_count": 5,
      "outputs": [
        {
          "output_type": "stream",
          "name": "stdout",
          "text": [
            "11 -> 21 -> 43 -> 60 -> None\n"
          ]
        }
      ]
    },
    {
      "cell_type": "code",
      "source": [
        "# Create linked list: 10 -> 12 -> 12 -> 25 -> 25 -> 25 -> 34\n",
        "head = Node(10)\n",
        "head.next = Node(12)\n",
        "head.next.next = Node(12)\n",
        "head.next.next.next = Node(25)\n",
        "head.next.next.next.next = Node(25)\n",
        "head.next.next.next.next.next = Node(25)\n",
        "head.next.next.next.next.next.next = Node(34)\n",
        "\n",
        "updatedList = removeDuplicates(head)\n",
        "\n",
        "# Print values of the updated linked list: 10 -> 12 -> 25 -> 34\n",
        "ptr = updatedList\n",
        "while ptr is not None:\n",
        "    print(ptr.value, end=\" -> \")\n",
        "    ptr = ptr.next\n",
        "print(\"None\")\n"
      ],
      "metadata": {
        "colab": {
          "base_uri": "https://localhost:8080/"
        },
        "id": "lH90Q_FYL5wB",
        "outputId": "c0be8a30-1e17-49b7-9a32-dbeb1a6605e2"
      },
      "execution_count": 7,
      "outputs": [
        {
          "output_type": "stream",
          "name": "stdout",
          "text": [
            "10 -> 12 -> 25 -> 34 -> None\n"
          ]
        }
      ]
    },
    {
      "cell_type": "markdown",
      "source": [
        "\n",
        "💡 **Question 3**\n",
        "\n",
        "Given a linked list of size **N**. The task is to reverse every **k** nodes (where k is an input to the function) in the linked list. If the number of nodes is not a multiple of *k* then left-out nodes, in the end, should be considered as a group and must be reversed (See Example 2 for clarification).\n",
        "\n",
        "**Example 1:**\n",
        "\n",
        "```\n",
        "Input:\n",
        "LinkedList: 1->2->2->4->5->6->7->8\n",
        "K = 4\n",
        "Output:4 2 2 1 8 7 6 5\n",
        "Explanation:\n",
        "The first 4 elements 1,2,2,4 are reversed first\n",
        "and then the next 4 elements 5,6,7,8. Hence, the\n",
        "resultant linked list is 4->2->2->1->8->7->6->5.\n",
        "\n",
        "```\n",
        "\n",
        "**Example 2:**\n",
        "\n",
        "```\n",
        "Input:\n",
        "LinkedList: 1->2->3->4->5\n",
        "K = 3\n",
        "Output:3 2 1 5 4\n",
        "Explanation:\n",
        "The first 3 elements are 1,2,3 are reversed\n",
        "first and then elements 4,5 are reversed.Hence,\n",
        "the resultant linked list is 3->2->1->5->4.\n",
        "\n",
        "```\n"
      ],
      "metadata": {
        "id": "WgnnOGkcNHvL"
      }
    },
    {
      "cell_type": "code",
      "source": [
        "class Node:\n",
        "    def __init__(self, value):\n",
        "        self.value = value\n",
        "        self.next = None\n",
        "\n",
        "\n",
        "def reverseKNodes(head, k):\n",
        "    if head is None:\n",
        "        return head\n",
        "\n",
        "    current = head\n",
        "    prev = None\n",
        "    next_node = None\n",
        "    count = 0\n",
        "\n",
        "    # Reverse the first k nodes\n",
        "    while current is not None and count < k:\n",
        "        next_node = current.next\n",
        "        current.next = prev\n",
        "        prev = current\n",
        "        current = next_node\n",
        "        count += 1\n",
        "\n",
        "    # Recursively call for the remaining linked list\n",
        "    if next_node is not None:\n",
        "        head.next = reverseKNodes(next_node, k)\n",
        "\n",
        "    return prev\n"
      ],
      "metadata": {
        "id": "lfDJ8DUPMMYD"
      },
      "execution_count": 9,
      "outputs": []
    },
    {
      "cell_type": "code",
      "source": [
        "# Example :\n",
        "# Create linked list: 1 -> 2 -> 2 -> 4 -> 5 -> 6 -> 7 -> 8\n",
        "head = Node(1)\n",
        "head.next = Node(2)\n",
        "head.next.next = Node(2)\n",
        "head.next.next.next = Node(4)\n",
        "head.next.next.next.next = Node(5)\n",
        "head.next.next.next.next.next = Node(6)\n",
        "head.next.next.next.next.next.next = Node(7)\n",
        "head.next.next.next.next.next.next.next = Node(8)\n",
        "\n",
        "k = 4\n",
        "updatedList = reverseKNodes(head, k)\n",
        "\n",
        "# Print values of the updated linked list: 4 -> 2 -> 2 -> 1 -> 8 -> 7 -> 6 -> 5\n",
        "ptr = updatedList\n",
        "while ptr is not None:\n",
        "    print(ptr.value, end=\" -> \")\n",
        "    ptr = ptr.next\n",
        "print(\"None\")\n"
      ],
      "metadata": {
        "colab": {
          "base_uri": "https://localhost:8080/"
        },
        "id": "qSQ_PPyzNj4x",
        "outputId": "8ef3a8e9-8502-4838-eea8-26bbed8fe894"
      },
      "execution_count": 15,
      "outputs": [
        {
          "output_type": "stream",
          "name": "stdout",
          "text": [
            "4 -> 2 -> 2 -> 1 -> 8 -> 7 -> 6 -> 5 -> None\n"
          ]
        }
      ]
    },
    {
      "cell_type": "code",
      "source": [
        "# Example:\n",
        "# Create linked list: 1 -> 2 -> 3 -> 4 -> 5\n",
        "head = Node(1)\n",
        "head.next = Node(2)\n",
        "head.next.next = Node(3)\n",
        "head.next.next.next = Node(4)\n",
        "head.next.next.next.next = Node(5)\n",
        "\n",
        "k = 3\n",
        "updatedList = reverseKNodes(head, k)\n",
        "\n",
        "# Print values of the updated linked list: 3 -> 2 -> 1 -> 5 -> 4\n",
        "ptr = updatedList\n",
        "while ptr is not None:\n",
        "    print(ptr.value, end=\" -> \")\n",
        "    ptr = ptr.next\n",
        "print(\"None\")\n"
      ],
      "metadata": {
        "colab": {
          "base_uri": "https://localhost:8080/"
        },
        "id": "qZKNP_qMN0aO",
        "outputId": "d0705839-9138-4dc8-8134-8bb840e4d275"
      },
      "execution_count": 16,
      "outputs": [
        {
          "output_type": "stream",
          "name": "stdout",
          "text": [
            "3 -> 2 -> 1 -> 5 -> 4 -> None\n"
          ]
        }
      ]
    },
    {
      "cell_type": "markdown",
      "source": [
        "\n",
        "💡 **Question 4**\n",
        "\n",
        "Given a linked list, write a function to reverse every alternate k nodes (where k is an input to the function) in an efficient way. Give the complexity of your algorithm.\n",
        "\n",
        "**Example:**\n",
        "\n",
        "```\n",
        "Inputs:   1->2->3->4->5->6->7->8->9->NULL and k = 3\n",
        "Output:   3->2->1->4->5->6->9->8->7->NULL.\n",
        "\n",
        "```"
      ],
      "metadata": {
        "id": "o7gI5GNHOaqe"
      }
    },
    {
      "cell_type": "code",
      "source": [
        "class Node:\n",
        "    def __init__(self, value):\n",
        "        self.value = value\n",
        "        self.next = None\n",
        "\n",
        "\n",
        "def reverseAlternateKNodes(head, k):\n",
        "    if head is None:\n",
        "        return head\n",
        "\n",
        "    current = head\n",
        "    prev = None\n",
        "    next_node = None\n",
        "    count = 0\n",
        "\n",
        "    # Reverse every alternate k nodes\n",
        "    while current is not None and count < k:\n",
        "        next_node = current.next\n",
        "        current.next = prev\n",
        "        prev = current\n",
        "        current = next_node\n",
        "        count += 1\n",
        "\n",
        "    # Skip the next k nodes without reversal\n",
        "    if next_node is not None:\n",
        "        head.next = next_node\n",
        "        count = 0\n",
        "        while count < k-1 and next_node is not None:\n",
        "            next_node = next_node.next\n",
        "            count += 1\n",
        "\n",
        "        if next_node is not None:\n",
        "            next_node.next = reverseAlternateKNodes(next_node.next, k)\n",
        "\n",
        "    return prev\n"
      ],
      "metadata": {
        "id": "3tmWssGtPxTE"
      },
      "execution_count": 24,
      "outputs": []
    },
    {
      "cell_type": "code",
      "source": [
        "# Example\n",
        "# Create linked list: 1 -> 2 -> 3 -> 4 -> 5 -> 6 -> 7 -> 8\n",
        "head = Node(1)\n",
        "head.next = Node(2)\n",
        "head.next.next = Node(3)\n",
        "head.next.next.next = Node(4)\n",
        "head.next.next.next.next = Node(5)\n",
        "head.next.next.next.next.next = Node(6)\n",
        "head.next.next.next.next.next.next = Node(7)\n",
        "head.next.next.next.next.next.next.next = Node(8)\n",
        "\n",
        "k = 3\n",
        "updatedList = reverseAlternateKNodes(head, k)\n",
        "\n",
        "# Print the values of the updated linked list: 3 -> 2 -> 1 -> 4 -> 5 -> 6 -> 8 -> 7\n",
        "ptr = updatedList\n",
        "while ptr is not None:\n",
        "    print(ptr.value, end=\" -> \")\n",
        "    ptr = ptr.next\n",
        "print(\"None\")\n"
      ],
      "metadata": {
        "colab": {
          "base_uri": "https://localhost:8080/"
        },
        "id": "mpdAAOUBQCBX",
        "outputId": "106844ad-1857-430a-d037-3c1d288189aa"
      },
      "execution_count": 25,
      "outputs": [
        {
          "output_type": "stream",
          "name": "stdout",
          "text": [
            "3 -> 2 -> 1 -> 4 -> 5 -> 6 -> 8 -> 7 -> None\n"
          ]
        }
      ]
    },
    {
      "cell_type": "markdown",
      "source": [
        "\n",
        "💡 **Question 5**\n",
        "\n",
        "Given a linked list and a key to be deleted. Delete last occurrence of key from linked. The list may have duplicates.\n",
        "\n",
        "**Examples**:\n",
        "\n",
        "```\n",
        "Input:   1->2->3->5->2->10, key = 2\n",
        "Output:  1->2->3->5->10\n",
        "\n",
        "```\n",
        "\n"
      ],
      "metadata": {
        "id": "A_tNOmqRQLDo"
      }
    },
    {
      "cell_type": "code",
      "source": [
        "class Node:\n",
        "    def __init__(self, value):\n",
        "        self.value = value\n",
        "        self.next = None\n",
        "\n",
        "\n",
        "def deleteLastOccurrence(head, key):\n",
        "    if head is None:\n",
        "        return head\n",
        "\n",
        "    prev = None\n",
        "    current = head\n",
        "    last_occurrence = None\n",
        "    prev_last_occurrence = None\n",
        "\n",
        "    # Find the last occurrence of the key and its previous node\n",
        "    while current is not None:\n",
        "        if current.value == key:\n",
        "            last_occurrence = current\n",
        "            prev_last_occurrence = prev\n",
        "\n",
        "        prev = current\n",
        "        current = current.next\n",
        "\n",
        "    # Delete the last occurrence if found\n",
        "    if last_occurrence is not None:\n",
        "        if prev_last_occurrence is not None:\n",
        "            prev_last_occurrence.next = last_occurrence.next\n",
        "        else:\n",
        "            head = last_occurrence.next\n",
        "\n",
        "    return head\n"
      ],
      "metadata": {
        "id": "8N6VzC9wQFbH"
      },
      "execution_count": 26,
      "outputs": []
    },
    {
      "cell_type": "code",
      "source": [
        "# Example :\n",
        "# Create linked list: 1 -> 2 -> 3 -> 5 -> 2 -> 10\n",
        "head = Node(1)\n",
        "head.next = Node(2)\n",
        "head.next.next = Node(3)\n",
        "head.next.next.next = Node(5)\n",
        "head.next.next.next.next = Node(2)\n",
        "head.next.next.next.next.next = Node(10)\n",
        "\n",
        "key = 2\n",
        "updatedList = deleteLastOccurrence(head, key)\n",
        "\n",
        "# Print the values of the updated linked list: 1 -> 2 -> 3 -> 5 -> 10\n",
        "ptr = updatedList\n",
        "while ptr is not None:\n",
        "    print(ptr.value, end=\" -> \")\n",
        "    ptr = ptr.next\n",
        "print(\"None\")\n"
      ],
      "metadata": {
        "colab": {
          "base_uri": "https://localhost:8080/"
        },
        "id": "gsXH8J3zQtq7",
        "outputId": "9da6109f-ba9e-4023-8b1a-138f080f1cd2"
      },
      "execution_count": 28,
      "outputs": [
        {
          "output_type": "stream",
          "name": "stdout",
          "text": [
            "1 -> 2 -> 3 -> 5 -> 10 -> None\n"
          ]
        }
      ]
    },
    {
      "cell_type": "markdown",
      "source": [
        "\n",
        "💡 **Question 6**\n",
        "\n",
        "Given two sorted linked lists consisting of **N** and **M** nodes respectively. The task is to merge both of the lists (in place) and return the head of the merged list.\n",
        "\n",
        "**Examples:**\n",
        "\n",
        "Input: a: 5->10->15, b: 2->3->20\n",
        "\n",
        "Output: 2->3->5->10->15->20\n",
        "\n",
        "Input: a: 1->1, b: 2->4\n",
        "\n",
        "Output: 1->1->2->4"
      ],
      "metadata": {
        "id": "b3TWQXyCQfsO"
      }
    },
    {
      "cell_type": "code",
      "source": [
        "class Node:\n",
        "    def __init__(self, value):\n",
        "        self.value = value\n",
        "        self.next = None\n",
        "\n",
        "\n",
        "def mergeSortedLists(a, b):\n",
        "    if a is None:\n",
        "        return b\n",
        "    if b is None:\n",
        "        return a\n",
        "\n",
        "    # Initialize the result pointer\n",
        "    if a.value <= b.value:\n",
        "        result = a\n",
        "        a = a.next\n",
        "    else:\n",
        "        result = b\n",
        "        b = b.next\n",
        "\n",
        "    # Traverse both lists and merge them\n",
        "    ptr = result\n",
        "    while a is not None and b is not None:\n",
        "        if a.value <= b.value:\n",
        "            ptr.next = a\n",
        "            a = a.next\n",
        "        else:\n",
        "            ptr.next = b\n",
        "            b = b.next\n",
        "        ptr = ptr.next\n",
        "\n",
        "    # Attach the remaining nodes of the non-empty list\n",
        "    if a is not None:\n",
        "        ptr.next = a\n",
        "    else:\n",
        "        ptr.next = b\n",
        "\n",
        "    return result\n"
      ],
      "metadata": {
        "id": "Xb1XtYbMQk_q"
      },
      "execution_count": 29,
      "outputs": []
    },
    {
      "cell_type": "code",
      "source": [
        "# Example 1\n",
        "# Create linked list a: 5 -> 10 -> 15\n",
        "a = Node(5)\n",
        "a.next = Node(10)\n",
        "a.next.next = Node(15)\n",
        "\n",
        "# Create linked list b: 2 -> 3 -> 20\n",
        "b = Node(2)\n",
        "b.next = Node(3)\n",
        "b.next.next = Node(20)\n",
        "\n",
        "mergedList = mergeSortedLists(a, b)\n",
        "\n",
        "# Print values of the merged linked list: 2 -> 3 -> 5 -> 10 -> 15 -> 20\n",
        "ptr = mergedList\n",
        "while ptr is not None:\n",
        "    print(ptr.value, end=\" -> \")\n",
        "    ptr = ptr.next\n",
        "print(\"None\")\n"
      ],
      "metadata": {
        "colab": {
          "base_uri": "https://localhost:8080/"
        },
        "id": "Qvd8zKH2RPPS",
        "outputId": "e9c35264-d363-44bb-ebaf-477f419a02c7"
      },
      "execution_count": 30,
      "outputs": [
        {
          "output_type": "stream",
          "name": "stdout",
          "text": [
            "2 -> 3 -> 5 -> 10 -> 15 -> 20 -> None\n"
          ]
        }
      ]
    },
    {
      "cell_type": "code",
      "source": [
        "# Example 2:\n",
        "# Create linked list a: 1 -> 1\n",
        "a = Node(1)\n",
        "a.next = Node(1)\n",
        "\n",
        "# Create linked list b: 2 -> 4\n",
        "b = Node(2)\n",
        "b.next = Node(4)\n",
        "\n",
        "mergedList = mergeSortedLists(a, b)\n",
        "\n",
        "# Print values of the merged linked list: 1 -> 1 -> 2 -> 4\n",
        "ptr = mergedList\n",
        "while ptr is not None:\n",
        "    print(ptr.value, end=\" -> \")\n",
        "    ptr = ptr.next\n",
        "print(\"None\")\n"
      ],
      "metadata": {
        "colab": {
          "base_uri": "https://localhost:8080/"
        },
        "id": "tuFdKEUWRTfU",
        "outputId": "78416a95-0aff-4e55-fac0-71f5bb8bf455"
      },
      "execution_count": 32,
      "outputs": [
        {
          "output_type": "stream",
          "name": "stdout",
          "text": [
            "1 -> 1 -> 2 -> 4 -> None\n"
          ]
        }
      ]
    },
    {
      "cell_type": "markdown",
      "source": [
        "\n",
        "💡 **Question 7**\n",
        "\n",
        "Given a **Doubly Linked List**, the task is to reverse the given Doubly Linked List.\n",
        "\n",
        "**Example:**\n",
        "\n",
        "```\n",
        "Original Linked list 10 8 4 2\n",
        "Reversed Linked list 2 4 8 10\n",
        "\n",
        "```"
      ],
      "metadata": {
        "id": "-b47LbDdR3E-"
      }
    },
    {
      "cell_type": "code",
      "source": [
        "class Node:\n",
        "    def __init__(self, value):\n",
        "        self.value = value\n",
        "        self.prev = None\n",
        "        self.next = None\n",
        "\n",
        "\n",
        "def reverseDoublyLinkedList(head):\n",
        "    if head is None:\n",
        "        return None\n",
        "\n",
        "    current = head\n",
        "    prev = None\n",
        "\n",
        "    # Reverse the doubly linked list\n",
        "    while current is not None:\n",
        "        next_node = current.next\n",
        "        current.next = prev\n",
        "        current.prev = next_node\n",
        "        prev = current\n",
        "        current = next_node\n",
        "\n",
        "    # Update the head pointer\n",
        "    head = prev\n",
        "\n",
        "    return head\n"
      ],
      "metadata": {
        "id": "5yq4FRBZRnQr"
      },
      "execution_count": 33,
      "outputs": []
    },
    {
      "cell_type": "code",
      "source": [
        "# Example\n",
        "# Create doubly linked list: 10 <-> 8 <-> 4 <-> 2\n",
        "head = Node(10)\n",
        "node2 = Node(8)\n",
        "node3 = Node(4)\n",
        "node4 = Node(2)\n",
        "\n",
        "head.next = node2\n",
        "node2.prev = head\n",
        "node2.next = node3\n",
        "node3.prev = node2\n",
        "node3.next = node4\n",
        "node4.prev = node3\n",
        "\n",
        "reversedHead = reverseDoublyLinkedList(head)\n",
        "\n",
        "# Print values of the reversed doubly linked list: 2 <-> 4 <-> 8 <-> 10\n",
        "ptr = reversedHead\n",
        "while ptr is not None:\n",
        "    print(ptr.value, end=\" <-> \")\n",
        "    ptr = ptr.next\n",
        "print(\"None\")\n"
      ],
      "metadata": {
        "colab": {
          "base_uri": "https://localhost:8080/"
        },
        "id": "qSnFrBOESAeO",
        "outputId": "0e92b53e-e45f-4a03-c07c-55e217ff710b"
      },
      "execution_count": 35,
      "outputs": [
        {
          "output_type": "stream",
          "name": "stdout",
          "text": [
            "2 <-> 4 <-> 8 <-> 10 <-> None\n"
          ]
        }
      ]
    },
    {
      "cell_type": "markdown",
      "source": [
        "\n",
        "💡 **Question 8**\n",
        "\n",
        "Given a doubly linked list and a position. The task is to delete a node from given position in a doubly linked list.\n",
        "\n",
        "**Example 1:**\n",
        "\n",
        "```\n",
        "Input:\n",
        "LinkedList = 1 <--> 3 <--> 4\n",
        "x = 3\n",
        "Output:1 3\n",
        "Explanation:After deleting the node at\n",
        "position 3 (position starts from 1),\n",
        "the linked list will be now as 1->3.\n",
        "\n",
        "```\n",
        "\n",
        "**Example 2:**\n",
        "\n",
        "```\n",
        "Input:\n",
        "LinkedList = 1 <--> 5 <--> 2 <--> 9\n",
        "x = 1\n",
        "Output:5 2 9\n",
        "\n",
        "```"
      ],
      "metadata": {
        "id": "kbyuwQaFSiN7"
      }
    },
    {
      "cell_type": "code",
      "source": [
        "class Node:\n",
        "    def __init__(self, value):\n",
        "        self.value = value\n",
        "        self.prev = None\n",
        "        self.next = None\n",
        "\n",
        "\n",
        "def deleteNodeAtPosition(head, position):\n",
        "    if head is None:\n",
        "        return head\n",
        "\n",
        "    if position == 1:\n",
        "        new_head = head.next\n",
        "        if new_head is not None:\n",
        "            new_head.prev = None\n",
        "        return new_head\n",
        "\n",
        "    current = head\n",
        "    count = 1\n",
        "\n",
        "    # Traverse to the node at the specified position\n",
        "    while current is not None and count < position:\n",
        "        current = current.next\n",
        "        count += 1\n",
        "\n",
        "    if current is None:\n",
        "        return head\n",
        "\n",
        "    # Update the previous node's next reference\n",
        "    current.prev.next = current.next\n",
        "\n",
        "    # Update the next node's prev reference\n",
        "    if current.next is not None:\n",
        "        current.next.prev = current.prev\n",
        "\n",
        "    return head\n"
      ],
      "metadata": {
        "id": "I9EnruqRSYCy"
      },
      "execution_count": 36,
      "outputs": []
    },
    {
      "cell_type": "code",
      "source": [
        "# Example\n",
        "# Create doubly linked list: 1 <-> 3 <-> 4\n",
        "head = Node(1)\n",
        "node2 = Node(3)\n",
        "node3 = Node(4)\n",
        "\n",
        "head.next = node2\n",
        "node2.prev = head\n",
        "node2.next = node3\n",
        "node3.prev = node2\n",
        "\n",
        "\n",
        "position = 3\n",
        "updatedHead = deleteNodeAtPosition(head, position)\n",
        "\n",
        "# Print values of the updated doubly linked list: 1 <-> 3 <-> None\n",
        "ptr = updatedHead\n",
        "while ptr is not None:\n",
        "    print(ptr.value, end=\" <-> \")\n",
        "    ptr = ptr.next\n",
        "print(\"None\")\n"
      ],
      "metadata": {
        "colab": {
          "base_uri": "https://localhost:8080/"
        },
        "id": "D0S0y72FTkJb",
        "outputId": "06a42000-dada-411e-b184-b56b558e7009"
      },
      "execution_count": 44,
      "outputs": [
        {
          "output_type": "stream",
          "name": "stdout",
          "text": [
            "1 <-> 3 <-> None\n"
          ]
        }
      ]
    },
    {
      "cell_type": "code",
      "source": [
        "# Example :\n",
        "# Create doubly linked list: 1 <-> 5 <-> 2 <-> 9\n",
        "head = Node(1)\n",
        "node2 = Node(5)\n",
        "node3 = Node(2)\n",
        "node4 = Node(9)\n",
        "\n",
        "head.next = node2\n",
        "node2.prev = head\n",
        "node2.next = node3\n",
        "node3.prev = node2\n",
        "node3.next = node4\n",
        "node4.prev = node3\n",
        "\n",
        "\n",
        "position = 1\n",
        "updatedHead = deleteNodeAtPosition(head, position)\n",
        "\n",
        "# Print values of the updated doubly linked list: 5 <-> 2 <-> 9\n",
        "ptr = updatedHead\n",
        "while ptr is not None:\n",
        "    print(ptr.value, end=\" <-> \")\n",
        "    ptr = ptr.next\n",
        "print(\"None\")\n"
      ],
      "metadata": {
        "colab": {
          "base_uri": "https://localhost:8080/"
        },
        "id": "iTe9g6WATew4",
        "outputId": "0d66c519-3738-401c-b946-b7df07d7b843"
      },
      "execution_count": 45,
      "outputs": [
        {
          "output_type": "stream",
          "name": "stdout",
          "text": [
            "5 <-> 2 <-> 9 <-> None\n"
          ]
        }
      ]
    },
    {
      "cell_type": "code",
      "source": [],
      "metadata": {
        "id": "SX6oFhFzVLpk"
      },
      "execution_count": null,
      "outputs": []
    }
  ]
}