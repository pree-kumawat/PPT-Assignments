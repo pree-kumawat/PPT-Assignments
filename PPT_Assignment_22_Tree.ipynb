{
  "nbformat": 4,
  "nbformat_minor": 0,
  "metadata": {
    "colab": {
      "provenance": []
    },
    "kernelspec": {
      "name": "python3",
      "display_name": "Python 3"
    },
    "language_info": {
      "name": "python"
    }
  },
  "cells": [
    {
      "cell_type": "markdown",
      "source": [
        "\n",
        "💡 Question-1:\n",
        "\n",
        "Given a Binary Tree (Bt), convert it to a Doubly Linked List(DLL). The left and right pointers in nodes are to be used as previous and next pointers respectively in converted DLL. The order of nodes in DLL must be the same as in Inorder for the given Binary Tree. The first node of Inorder traversal (leftmost node in BT) must be the head node of the DLL.\n",
        "\n",
        "Example:\n",
        "```\n",
        "       10\n",
        "     /    \\\n",
        "    12     15\n",
        "  /   \\    /\n",
        " 25   30  36\n",
        "     \n",
        "\n",
        "```\n",
        "The above tree should be in-place converted to following Doubly Linked List(DLL).\n",
        "\n",
        "25 <-> 12 <-> 30 <-> 10 <-> 36 <-> 15"
      ],
      "metadata": {
        "id": "v8FHv4xJqsNV"
      }
    },
    {
      "cell_type": "code",
      "execution_count": null,
      "metadata": {
        "colab": {
          "base_uri": "https://localhost:8080/"
        },
        "id": "EfA8pwnZma3r",
        "outputId": "7fad82e6-e19f-4605-f16c-910deab0bfc4"
      },
      "outputs": [
        {
          "output_type": "stream",
          "name": "stdout",
          "text": [
            "25 <-> 12 <-> 30 <-> 10 <-> 36 <-> 15 <-> "
          ]
        }
      ],
      "source": [
        "# Node class for binary tree\n",
        "class Node:\n",
        "    def __init__(self, value):\n",
        "        self.value = value\n",
        "        self.left = None\n",
        "        self.right = None\n",
        "\n",
        "# Function to perform in-order traversal and convert binary tree to DLL\n",
        "def convertToDLL(root):\n",
        "    if root is None:\n",
        "        return None\n",
        "\n",
        "    # Global variables to keep track of the previous node and the head of the DLL\n",
        "    global prev, head\n",
        "    prev = None\n",
        "    head = None\n",
        "\n",
        "    # Function to update the left and right pointers of the nodes\n",
        "    def convert(node):\n",
        "        if node is None:\n",
        "            return\n",
        "\n",
        "        global prev, head\n",
        "\n",
        "        # Recursively convert the left subtree\n",
        "        convert(node.left)\n",
        "\n",
        "        # Update the left pointer of the current node\n",
        "        node.left = prev\n",
        "\n",
        "        # Update the right pointer of the previous node\n",
        "        if prev:\n",
        "            prev.right = node\n",
        "        else:\n",
        "            # Update the head of the DLL\n",
        "            head = node\n",
        "\n",
        "        # Update the previous node\n",
        "        prev = node\n",
        "\n",
        "        # Recursively convert the right subtree\n",
        "        convert(node.right)\n",
        "\n",
        "    # Start the conversion process\n",
        "    convert(root)\n",
        "\n",
        "    return head\n",
        "\n",
        "# Helper function to print the doubly linked list\n",
        "def printDLL(head):\n",
        "    if head is None:\n",
        "        return\n",
        "\n",
        "    current = head\n",
        "    while current:\n",
        "        print(current.value, end=\" <-> \")\n",
        "        current = current.right\n",
        "\n",
        "# Example usage\n",
        "root = Node(10)\n",
        "root.left = Node(12)\n",
        "root.right = Node(15)\n",
        "root.left.left = Node(25)\n",
        "root.left.right = Node(30)\n",
        "root.right.left = Node(36)\n",
        "\n",
        "dllHead = convertToDLL(root)\n",
        "printDLL(dllHead)\n"
      ]
    },
    {
      "cell_type": "code",
      "source": [],
      "metadata": {
        "id": "teIzrZBmspXK"
      },
      "execution_count": null,
      "outputs": []
    },
    {
      "cell_type": "markdown",
      "source": [
        "\n",
        "💡 Question-2\n",
        "\n",
        "A Given a binary tree, the task is to flip the binary tree towards the right direction that is clockwise. See the below examples to see the transformation.\n",
        "\n",
        "In the flip operation, the leftmost node becomes the root of the flipped tree and its parent becomes its right child and the right sibling becomes its left child and the same should be done for all left most nodes recursively.\n",
        "\n",
        "Example 1:\n",
        "\n",
        "```\n",
        "        1                                            4\n",
        "      /   \\                                        /   \\\n",
        "     2     3                  =>                  5     2      \n",
        "   /  \\   /  \\                                        /  \\\n",
        "  4    5 6    7                                      3    1\n",
        "                                                    /  \\\n",
        "                                                   6    7\n",
        "\n",
        "```\n",
        "\n",
        "Example 2:\n",
        "\n",
        "```\n",
        "         1                                           2\n",
        "       /   \\                                       /   \\\n",
        "      2     3                  =>                 3     1\n",
        "           /  \\                                  /  \\\n",
        "          4    5                                4    5\n",
        "\n",
        "```          "
      ],
      "metadata": {
        "id": "Kj1qJaoIsx0G"
      }
    },
    {
      "cell_type": "code",
      "source": [
        "# Node class for binary tree\n",
        "class Node:\n",
        "    def __init__(self, value):\n",
        "        self.value = value\n",
        "        self.left = None\n",
        "        self.right = None\n",
        "\n",
        "# Function to flip the binary tree\n",
        "def flipBinaryTree(root):\n",
        "    if root is None or (root.left is None and root.right is None):\n",
        "        return root\n",
        "\n",
        "    # Flip the left and right subtrees recursively\n",
        "    newRoot = flipBinaryTree(root.left)\n",
        "\n",
        "    # Swap the left and right children of the current root\n",
        "    root.left.left = root.right\n",
        "    root.left.right = root\n",
        "\n",
        "    root.left = root.right = None\n",
        "\n",
        "    return newRoot\n",
        "\n",
        "# Helper function to perform in-order traversal and print the binary tree\n",
        "def inorderPrint(node):\n",
        "    if node is None:\n",
        "        return\n",
        "\n",
        "    inorderPrint(node.left)\n",
        "    print(node.value, end=\" \")\n",
        "    inorderPrint(node.right)\n"
      ],
      "metadata": {
        "id": "HdJHlRLZzuG_"
      },
      "execution_count": 8,
      "outputs": []
    },
    {
      "cell_type": "code",
      "source": [
        "# Example usage\n",
        "root = Node(1)\n",
        "root.left = Node(2)\n",
        "root.right = Node(3)\n",
        "root.left.left = Node(4)\n",
        "root.left.right = Node(5)\n",
        "root.right.left = Node(6)\n",
        "root.right.right = Node(7)\n",
        "\n",
        "print(\"Original binary tree:\")\n",
        "inorderPrint(root)\n",
        "\n",
        "flippedRoot = flipBinaryTree(root)\n",
        "\n",
        "print(\"\\nFlipped binary tree:\")\n",
        "inorderPrint(flippedRoot)"
      ],
      "metadata": {
        "colab": {
          "base_uri": "https://localhost:8080/"
        },
        "id": "l6GFaLeh08y1",
        "outputId": "d37e43ba-7615-4e6f-8643-a32d9c13282f"
      },
      "execution_count": 17,
      "outputs": [
        {
          "output_type": "stream",
          "name": "stdout",
          "text": [
            "Original binary tree:\n",
            "4 2 5 1 6 3 7 \n",
            "Flipped binary tree:\n",
            "5 4 6 3 7 2 1 "
          ]
        }
      ]
    },
    {
      "cell_type": "code",
      "source": [
        "root = Node(1)\n",
        "root.left = Node(2)\n",
        "root.right = Node(3)\n",
        "root.right.left = Node(4)\n",
        "root.right.right = Node(5)\n",
        "\n",
        "print(\"Original binary tree:\")\n",
        "inorderPrint(root)\n",
        "\n",
        "flippedRoot = flipBinaryTree(root)\n",
        "\n",
        "print(\"\\nFlipped binary tree:\")\n",
        "inorderPrint(flippedRoot)"
      ],
      "metadata": {
        "colab": {
          "base_uri": "https://localhost:8080/"
        },
        "id": "-IvsJtuu0wTA",
        "outputId": "4eebabe6-89e7-4951-a240-d2e3ea559a7e"
      },
      "execution_count": 12,
      "outputs": [
        {
          "output_type": "stream",
          "name": "stdout",
          "text": [
            "Original binary tree:\n",
            "2 1 4 3 5 \n",
            "Flipped binary tree:\n",
            "4 3 5 2 1 "
          ]
        }
      ]
    },
    {
      "cell_type": "code",
      "source": [],
      "metadata": {
        "id": "WxzkDOmx1bhL"
      },
      "execution_count": null,
      "outputs": []
    },
    {
      "cell_type": "markdown",
      "source": [
        "\n",
        "💡 Question-3:\n",
        "\n",
        "Given a binary tree, print all its root-to-leaf paths without using recursion. For example, consider the following Binary Tree.\n",
        "\n",
        "Input:\n",
        "```\n",
        "        6\n",
        "      /   \\\n",
        "     3     5\n",
        "   /   \\     \\\n",
        "  2     5     4\n",
        "      /   \\\n",
        "     7     4\n",
        "```\n",
        "Output:\n",
        "\n",
        "There are 4 leaves, hence 4 root to leaf paths -\n",
        "```\n",
        "  6->3->2\n",
        "  6->3->5->7\n",
        "  6->3->5->4\n",
        "  6->5>4\n",
        "```"
      ],
      "metadata": {
        "id": "horwONjs1cie"
      }
    },
    {
      "cell_type": "code",
      "source": [
        "# Node class for binary tree\n",
        "class Node:\n",
        "    def __init__(self, value):\n",
        "        self.value = value\n",
        "        self.left = None\n",
        "        self.right = None\n",
        "\n",
        "# Function to print all root-to-leaf paths without recursion\n",
        "def printRootToLeafPaths(root):\n",
        "    if root is None:\n",
        "        return\n",
        "\n",
        "    # Stack to store nodes during traversal\n",
        "    nodeStack = []\n",
        "\n",
        "    # Stack to store paths during traversal\n",
        "    pathStack = []\n",
        "\n",
        "    # Initialize the stack with the root node and its value as the initial path\n",
        "    nodeStack.append(root)\n",
        "    pathStack.append(str(root.value))\n",
        "\n",
        "    while nodeStack:\n",
        "        currentNode = nodeStack.pop()\n",
        "        currentPath = pathStack.pop()\n",
        "\n",
        "        # If the current node is a leaf, print the path\n",
        "        if currentNode.left is None and currentNode.right is None:\n",
        "            print(currentPath)\n",
        "\n",
        "\n",
        "        # Push the right child and its corresponding path onto the stacks\n",
        "        if currentNode.right:\n",
        "            nodeStack.append(currentNode.right)\n",
        "            pathStack.append(currentPath + \"->\" + str(currentNode.right.value))\n",
        "\n",
        "\n",
        "        # Push the left child and its corresponding path onto the stacks\n",
        "        if currentNode.left:\n",
        "            nodeStack.append(currentNode.left)\n",
        "            pathStack.append(currentPath + \"->\" + str(currentNode.left.value))\n",
        "\n",
        "\n",
        "\n",
        "# Example usage\n",
        "root = Node(6)\n",
        "root.left = Node(3)\n",
        "root.right = Node(5)\n",
        "root.left.left = Node(2)\n",
        "root.left.right = Node(5)\n",
        "root.right.right = Node(4)\n",
        "root.left.right.left = Node(7)\n",
        "root.left.right.right = Node(4)\n",
        "\n",
        "print(\"Root-to-leaf paths:\")\n",
        "printRootToLeafPaths(root)\n"
      ],
      "metadata": {
        "colab": {
          "base_uri": "https://localhost:8080/"
        },
        "id": "t0KRm_Ar13JI",
        "outputId": "1de7ab18-f7be-4f3a-e5b4-14a197e51e96"
      },
      "execution_count": 14,
      "outputs": [
        {
          "output_type": "stream",
          "name": "stdout",
          "text": [
            "Root-to-leaf paths:\n",
            "6->3->2\n",
            "6->3->5->7\n",
            "6->3->5->4\n",
            "6->5->4\n"
          ]
        }
      ]
    },
    {
      "cell_type": "code",
      "source": [],
      "metadata": {
        "id": "ZtRplW6D2KWP"
      },
      "execution_count": null,
      "outputs": []
    },
    {
      "cell_type": "markdown",
      "source": [
        "\n",
        "💡 Question-4:\n",
        "\n",
        "Given Preorder, Inorder and Postorder traversals of some tree. Write a program to check if they all are of the same tree.\n",
        "\n",
        "**Examples:**\n",
        "\n",
        "Input :\n",
        "\n",
        "        Inorder -> 4 2 5 1 3\n",
        "        Preorder -> 1 2 4 5 3\n",
        "        Postorder -> 4 5 2 3 1\n",
        "Output :\n",
        "\n",
        "Yes\n",
        "Explanation :\n",
        "\n",
        "All of the above three traversals are of\n",
        "the same tree\n",
        "\n",
        "                           1\n",
        "                         /   \\\n",
        "                        2     3\n",
        "                      /   \\\n",
        "                     4     5\n",
        "\n",
        "Input :\n",
        "\n",
        "        Inorder -> 4 2 5 1 3\n",
        "        Preorder -> 1 5 4 2 3\n",
        "        Postorder -> 4 1 2 3 5\n",
        "Output :\n",
        "\n",
        "No\n"
      ],
      "metadata": {
        "id": "nqlSBoGu2tgs"
      }
    },
    {
      "cell_type": "code",
      "source": [
        "# Node class for binary tree\n",
        "class Node:\n",
        "    def __init__(self, value):\n",
        "        self.value = value\n",
        "        self.left = None\n",
        "        self.right = None\n",
        "\n",
        "# Function to check if the given traversals belong to the same tree\n",
        "def isSameTree(inorder, preorder, postorder):\n",
        "    # Base case: If any of the traversals is empty, return False\n",
        "    if not inorder or not preorder or not postorder:\n",
        "        return False\n",
        "\n",
        "    # Base case: If the lengths of the traversals are not equal, return False\n",
        "    if len(inorder) != len(preorder) or len(inorder) != len(postorder):\n",
        "        return False\n",
        "\n",
        "    # Base case: If there is only one element in the traversals, return True\n",
        "    if len(inorder) == 1:\n",
        "        return inorder[0] == preorder[0] == postorder[0]\n",
        "\n",
        "    # The first element in the preorder traversal is the root of the tree\n",
        "    root_value = preorder[0]\n",
        "    root_index = inorder.index(root_value)\n",
        "\n",
        "    # Check if the left and right subtrees have the same elements in the traversals\n",
        "    left_inorder = inorder[:root_index]\n",
        "    right_inorder = inorder[root_index + 1:]\n",
        "    left_preorder = preorder[1:root_index + 1]\n",
        "    right_preorder = preorder[root_index + 1:]\n",
        "    left_postorder = postorder[:root_index]\n",
        "    right_postorder = postorder[root_index:-1]\n",
        "\n",
        "    return (isSameTree(left_inorder, left_preorder, left_postorder) and\n",
        "            isSameTree(right_inorder, right_preorder, right_postorder))\n",
        "\n",
        "# Example usage\n",
        "inorder = [4, 2, 5, 1, 3]\n",
        "preorder = [1, 2, 4, 5, 3]\n",
        "postorder = [4, 5, 2, 3, 1]\n",
        "\n",
        "if isSameTree(inorder, preorder, postorder):\n",
        "    print(\"Yes\")\n",
        "else:\n",
        "    print(\"No\")\n"
      ],
      "metadata": {
        "colab": {
          "base_uri": "https://localhost:8080/"
        },
        "id": "3awOMMma3uca",
        "outputId": "0b28b796-19a5-4544-e53c-34a2d33af808"
      },
      "execution_count": 15,
      "outputs": [
        {
          "output_type": "stream",
          "name": "stdout",
          "text": [
            "Yes\n"
          ]
        }
      ]
    },
    {
      "cell_type": "code",
      "source": [
        "# Example usage\n",
        "inorder = [4, 2, 5, 1, 3]\n",
        "preorder = [1, 5, 4, 2, 3]\n",
        "postorder = [4, 1, 2, 3, 5]\n",
        "\n",
        "if isSameTree(inorder, preorder, postorder):\n",
        "    print(\"Yes\")\n",
        "else:\n",
        "    print(\"No\")"
      ],
      "metadata": {
        "colab": {
          "base_uri": "https://localhost:8080/"
        },
        "id": "erBHdLK64BWP",
        "outputId": "9d6e5709-898c-42ec-a9e0-f2e3aba6e5e9"
      },
      "execution_count": 16,
      "outputs": [
        {
          "output_type": "stream",
          "name": "stdout",
          "text": [
            "No\n"
          ]
        }
      ]
    },
    {
      "cell_type": "code",
      "source": [],
      "metadata": {
        "id": "-2UJbULw4ZEt"
      },
      "execution_count": null,
      "outputs": []
    }
  ]
}