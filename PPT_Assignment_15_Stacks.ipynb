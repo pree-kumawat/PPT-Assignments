{
  "nbformat": 4,
  "nbformat_minor": 0,
  "metadata": {
    "colab": {
      "provenance": []
    },
    "kernelspec": {
      "name": "python3",
      "display_name": "Python 3"
    },
    "language_info": {
      "name": "python"
    }
  },
  "cells": [
    {
      "cell_type": "markdown",
      "source": [
        "\n",
        "💡 **Question 1**\n",
        "\n",
        "Given an array **arr[ ]** of size **N** having elements, the task is to find the next greater element for each element of the array in order of their appearance in the array.Next greater element of an element in the array is the nearest element on the right which is greater than the current element.If there does not exist next greater of current element, then next greater element for current element is -1. For example, next greater of the last element is always -1.\n",
        "\n",
        "**Example 1:**\n",
        "\n",
        "```\n",
        "Input:\n",
        "N = 4, arr[] = [1 3 2 4]\n",
        "Output:\n",
        "3 4 4 -1\n",
        "Explanation:\n",
        "In the array, the next larger element\n",
        "to 1 is 3 , 3 is 4 , 2 is 4 and for 4 ?\n",
        "since it doesn't exist, it is -1.\n",
        "\n",
        "```\n",
        "\n",
        "**Example 2:**\n",
        "\n",
        "```\n",
        "Input:\n",
        "N = 5, arr[] [6 8 0 1 3]\n",
        "Output:\n",
        "8 -1 1 3 -1\n",
        "Explanation:\n",
        "In the array, the next larger element to\n",
        "6 is 8, for 8 there is no larger elements\n",
        "hence it is -1, for 0 it is 1 , for 1 it\n",
        "is 3 and then for 3 there is no larger\n",
        "element on right and hence -1.\n",
        "\n",
        "```"
      ],
      "metadata": {
        "id": "kPy3-pUA64cp"
      }
    },
    {
      "cell_type": "code",
      "execution_count": 1,
      "metadata": {
        "id": "Ca0Tbt1r6w2w"
      },
      "outputs": [],
      "source": [
        "def find_next_greater_elements(arr):\n",
        "    n = len(arr)\n",
        "    result = [-1] * n\n",
        "    stack = []\n",
        "\n",
        "    for i in range(n - 1, -1, -1):\n",
        "        while stack and stack[-1] <= arr[i]:\n",
        "            stack.pop()\n",
        "\n",
        "        if stack:\n",
        "            result[i] = stack[-1]\n",
        "\n",
        "        stack.append(arr[i])\n",
        "\n",
        "    return result\n"
      ]
    },
    {
      "cell_type": "code",
      "source": [
        "arr = [1,3,2,4]\n",
        "find_next_greater_elements(arr)\n"
      ],
      "metadata": {
        "colab": {
          "base_uri": "https://localhost:8080/"
        },
        "id": "kKVRcC4X793T",
        "outputId": "50c69478-ca45-4bd9-aa49-c9c395b40d07"
      },
      "execution_count": 3,
      "outputs": [
        {
          "output_type": "execute_result",
          "data": {
            "text/plain": [
              "[3, 4, 4, -1]"
            ]
          },
          "metadata": {},
          "execution_count": 3
        }
      ]
    },
    {
      "cell_type": "code",
      "source": [
        "arr = [6,8,0,1,3]\n",
        "find_next_greater_elements(arr)"
      ],
      "metadata": {
        "colab": {
          "base_uri": "https://localhost:8080/"
        },
        "id": "4eUNr2YP8cmV",
        "outputId": "81c7f2a7-45d8-478b-8bd2-32439a48de1b"
      },
      "execution_count": 4,
      "outputs": [
        {
          "output_type": "execute_result",
          "data": {
            "text/plain": [
              "[8, -1, 1, 3, -1]"
            ]
          },
          "metadata": {},
          "execution_count": 4
        }
      ]
    },
    {
      "cell_type": "markdown",
      "source": [
        "\n",
        "💡 **Question 2**\n",
        "\n",
        "Given an array **a** of integers of length **n**, find the nearest smaller number for every element such that the smaller element is on left side.If no small element present on the left print -1.\n",
        "\n",
        "**Example 1:**\n",
        "\n",
        "```\n",
        "Input: n = 3\n",
        "a = {1, 6, 2}\n",
        "Output: -1 1 1\n",
        "Explaination: There is no number at the\n",
        "left of 1. Smaller number than 6 and 2 is 1.\n",
        "```\n",
        "\n",
        "**Example 2:**\n",
        "\n",
        "```\n",
        "Input: n = 6\n",
        "a = {1, 5, 0, 3, 4, 5}\n",
        "Output: -1 1 -1 0 3 4\n",
        "Explaination: Upto 3 it is easy to see\n",
        "the smaller numbers. But for 4 the smaller\n",
        "numbers are 1, 0 and 3. But among them 3\n",
        "is closest. Similary for 5 it is 4.\n",
        "\n",
        "```"
      ],
      "metadata": {
        "id": "gK-cS6PypE2i"
      }
    },
    {
      "cell_type": "code",
      "source": [
        "def find_nearest_smaller_elements(arr):\n",
        "    n = len(arr)\n",
        "    result = [-1] * n\n",
        "    stack = []\n",
        "\n",
        "    for i in range(n):\n",
        "        while stack and stack[-1] >= arr[i]:\n",
        "            stack.pop()\n",
        "\n",
        "        if stack:\n",
        "            result[i] = stack[-1]\n",
        "\n",
        "        stack.append(arr[i])\n",
        "\n",
        "    return result\n"
      ],
      "metadata": {
        "id": "HXJ0JMz_pPCy"
      },
      "execution_count": 5,
      "outputs": []
    },
    {
      "cell_type": "code",
      "source": [
        "arr = [1,6,2]\n",
        "find_nearest_smaller_elements(arr)"
      ],
      "metadata": {
        "colab": {
          "base_uri": "https://localhost:8080/"
        },
        "id": "WBZmjBYn9Fol",
        "outputId": "8b40a9ae-4de8-4901-cfaa-85488e1ef54c"
      },
      "execution_count": 6,
      "outputs": [
        {
          "output_type": "execute_result",
          "data": {
            "text/plain": [
              "[-1, 1, 1]"
            ]
          },
          "metadata": {},
          "execution_count": 6
        }
      ]
    },
    {
      "cell_type": "code",
      "source": [
        "arr = [1,5,0,3,4,5]\n",
        "find_nearest_smaller_elements(arr)"
      ],
      "metadata": {
        "colab": {
          "base_uri": "https://localhost:8080/"
        },
        "id": "DRMVaZ4e9Ng_",
        "outputId": "7a072b01-13a4-4162-8c2c-88adacb5b85d"
      },
      "execution_count": 7,
      "outputs": [
        {
          "output_type": "execute_result",
          "data": {
            "text/plain": [
              "[-1, 1, -1, 0, 3, 4]"
            ]
          },
          "metadata": {},
          "execution_count": 7
        }
      ]
    },
    {
      "cell_type": "code",
      "source": [
        "arr = [0,3,8,4,5,1]\n",
        "find_nearest_smaller_elements(arr)"
      ],
      "metadata": {
        "colab": {
          "base_uri": "https://localhost:8080/"
        },
        "id": "HDMM_FKZ9Ukx",
        "outputId": "52b349b8-8209-470d-cb1f-2baa8fbd342b"
      },
      "execution_count": 8,
      "outputs": [
        {
          "output_type": "execute_result",
          "data": {
            "text/plain": [
              "[-1, 0, 3, 3, 4, 0]"
            ]
          },
          "metadata": {},
          "execution_count": 8
        }
      ]
    },
    {
      "cell_type": "markdown",
      "source": [
        "\n",
        "💡 **Question 3**\n",
        "\n",
        "Implement a Stack using two queues **q1** and **q2**.\n",
        "\n",
        "**Example 1:**\n",
        "\n",
        "```\n",
        "Input:\n",
        "push(2)\n",
        "push(3)\n",
        "pop()\n",
        "push(4)\n",
        "pop()\n",
        "Output:3 4\n",
        "Explanation:\n",
        "push(2) the stack will be {2}\n",
        "push(3) the stack will be {2 3}\n",
        "pop()   poped element will be 3 the\n",
        "        stack will be {2}\n",
        "push(4) the stack will be {2 4}\n",
        "pop()   poped element will be 4\n",
        "\n",
        "```\n",
        "\n",
        "**Example 2:**\n",
        "\n",
        "```\n",
        "Input:\n",
        "push(2)\n",
        "pop()\n",
        "pop()\n",
        "push(3)\n",
        "Output:2 -1\n",
        "\n",
        "```"
      ],
      "metadata": {
        "id": "Kx4sSlZk6h9H"
      }
    },
    {
      "cell_type": "code",
      "source": [
        "class Stack:\n",
        "    def __init__(self):\n",
        "        self.q1 = []\n",
        "        self.q2 = []\n",
        "\n",
        "    def push(self, value):\n",
        "        # Add the new element to the empty queue (q2)\n",
        "        self.q2.append(value)\n",
        "\n",
        "        # Move all elements from q1 to q2\n",
        "        while self.q1:\n",
        "            self.q2.append(self.q1.pop(0))\n",
        "\n",
        "        # Swap the names of q1 and q2\n",
        "        self.q1, self.q2 = self.q2, self.q1\n",
        "\n",
        "    def pop(self):\n",
        "        if not self.q1:\n",
        "            return -1\n",
        "\n",
        "        return self.q1.pop(0)\n",
        "\n",
        "    def top(self):\n",
        "        if not self.q1:\n",
        "            return -1\n",
        "\n",
        "        return self.q1[0]\n",
        "\n",
        "    def empty(self):\n",
        "        return len(self.q1) == 0\n"
      ],
      "metadata": {
        "id": "HSl2RZf1-6Cs"
      },
      "execution_count": 19,
      "outputs": []
    },
    {
      "cell_type": "code",
      "source": [
        "stack = Stack()\n",
        "stack.push(2)\n",
        "stack.push(3)\n",
        "print(stack.pop())  # Output: 3\n",
        "stack.push(4)\n",
        "print(stack.pop())  # Output: 4"
      ],
      "metadata": {
        "colab": {
          "base_uri": "https://localhost:8080/"
        },
        "id": "0ZT0WG8P_Iwj",
        "outputId": "735a6668-c601-4212-e828-8cae395a03a8"
      },
      "execution_count": 20,
      "outputs": [
        {
          "output_type": "stream",
          "name": "stdout",
          "text": [
            "3\n",
            "4\n"
          ]
        }
      ]
    },
    {
      "cell_type": "code",
      "source": [
        "stack = Stack()\n",
        "stack.push(2)\n",
        "print(stack.pop())  # output: 2\n",
        "print(stack.pop())  # output: -1\n",
        "stack.push(3)"
      ],
      "metadata": {
        "colab": {
          "base_uri": "https://localhost:8080/"
        },
        "id": "esrjL0sn_Rff",
        "outputId": "f3438a71-aef2-46e1-f4d0-4716cefdbdac"
      },
      "execution_count": 21,
      "outputs": [
        {
          "output_type": "stream",
          "name": "stdout",
          "text": [
            "2\n",
            "-1\n"
          ]
        }
      ]
    },
    {
      "cell_type": "markdown",
      "source": [
        "\n",
        "💡 **Question 4**\n",
        "\n",
        "You are given a stack **St**. You have to reverse the stack using recursion.\n",
        "\n",
        "**Example 1:**\n",
        "\n",
        "```\n",
        "Input:St = {3,2,1,7,6}\n",
        "Output:{6,7,1,2,3}\n",
        "```\n",
        "\n",
        "**Example 2:**\n",
        "\n",
        "```\n",
        "Input:St = {4,3,9,6}\n",
        "Output:{6,9,3,4}\n",
        "\n",
        "```"
      ],
      "metadata": {
        "id": "GMvII7uH7C9i"
      }
    },
    {
      "cell_type": "code",
      "source": [
        "def reverseStack(stack):\n",
        "    if len(stack) <= 1:\n",
        "        return stack\n",
        "    else:\n",
        "        # Pop an element from the stack\n",
        "        top = stack.pop()\n",
        "        # Recursively reverse the remaining stack\n",
        "        reversed_stack = reverseStack(stack)\n",
        "        # Insert the popped element at the bottom of the stack\n",
        "        insertAtBottom(reversed_stack, top)\n",
        "        return reversed_stack\n",
        "\n",
        "def insertAtBottom(stack, item):\n",
        "    if len(stack) == 0:\n",
        "        stack.append(item)\n",
        "    else:\n",
        "        # Pop an element from the stack\n",
        "        top = stack.pop()\n",
        "        # Recursively insert the item at the bottom\n",
        "        insertAtBottom(stack, item)\n",
        "        # Push the popped element back onto the stack\n",
        "        stack.append(top)\n"
      ],
      "metadata": {
        "id": "O1TN2KB87K8y"
      },
      "execution_count": 22,
      "outputs": []
    },
    {
      "cell_type": "code",
      "source": [
        "stack = [3, 2, 1, 7, 6]\n",
        "reverseStack(stack)\n",
        "  # Output: [6, 7, 1, 2, 3]"
      ],
      "metadata": {
        "colab": {
          "base_uri": "https://localhost:8080/"
        },
        "id": "_dddBrerA5MH",
        "outputId": "e67e0660-557d-4afb-c0f1-8fa453818f47"
      },
      "execution_count": 23,
      "outputs": [
        {
          "output_type": "execute_result",
          "data": {
            "text/plain": [
              "[6, 7, 1, 2, 3]"
            ]
          },
          "metadata": {},
          "execution_count": 23
        }
      ]
    },
    {
      "cell_type": "code",
      "source": [
        "stack = [4,3,9,6]\n",
        "reverseStack(stack)\n",
        "   # Output: [6,9,3,4]"
      ],
      "metadata": {
        "colab": {
          "base_uri": "https://localhost:8080/"
        },
        "id": "l5ZWgc7dBBJQ",
        "outputId": "7e315d91-e2bd-442d-d008-9ffa6a72f98d"
      },
      "execution_count": 24,
      "outputs": [
        {
          "output_type": "execute_result",
          "data": {
            "text/plain": [
              "[6, 9, 3, 4]"
            ]
          },
          "metadata": {},
          "execution_count": 24
        }
      ]
    },
    {
      "cell_type": "markdown",
      "source": [
        "\n",
        "💡 **Question 5**\n",
        "\n",
        "You are given a string **S**, the task is to reverse the string using stack.\n",
        "\n",
        "**Example 1:**\n",
        "\n",
        "```\n",
        "Input: S=\"GeeksforGeeks\"\n",
        "Output: skeeGrofskeeG\n",
        "\n",
        "```"
      ],
      "metadata": {
        "id": "LXxYBPQL9_uN"
      }
    },
    {
      "cell_type": "code",
      "source": [
        "def reverseString(S):\n",
        "    stack = []\n",
        "    # Push each character onto the stack\n",
        "    for char in S:\n",
        "        stack.append(char)\n",
        "\n",
        "    reversed_string = \"\"\n",
        "    # Pop each character from the stack and append it to the reversed string\n",
        "    while stack:\n",
        "        reversed_string += stack.pop()\n",
        "\n",
        "    return reversed_string"
      ],
      "metadata": {
        "id": "UiYD71kx-EUW"
      },
      "execution_count": 25,
      "outputs": []
    },
    {
      "cell_type": "code",
      "source": [
        "S = \"GeeksforGeeks\"\n",
        "reverseString(S)\n",
        "  # Output: skeeGrofskeeG\n"
      ],
      "metadata": {
        "colab": {
          "base_uri": "https://localhost:8080/",
          "height": 35
        },
        "id": "Kg-fG1ohBs-r",
        "outputId": "2fb55cac-2b24-4858-c836-e3502894fc01"
      },
      "execution_count": 26,
      "outputs": [
        {
          "output_type": "execute_result",
          "data": {
            "text/plain": [
              "'skeeGrofskeeG'"
            ],
            "application/vnd.google.colaboratory.intrinsic+json": {
              "type": "string"
            }
          },
          "metadata": {},
          "execution_count": 26
        }
      ]
    },
    {
      "cell_type": "markdown",
      "source": [
        "\n",
        "💡 **Question 6**\n",
        "\n",
        "Given string **S** representing a postfix expression, the task is to evaluate the expression and find the final value. Operators will only include the basic arithmetic operators like ***, /, + and -**.\n",
        "\n",
        "**Example 1:**\n",
        "\n",
        "```\n",
        "Input: S = \"231*+9-\"\n",
        "Output: -4\n",
        "Explanation:\n",
        "After solving the given expression,\n",
        "we have -4 as result.\n",
        "\n",
        "```\n",
        "\n",
        "**Example 2:**\n",
        "\n",
        "```\n",
        "Input: S = \"123+*8-\"\n",
        "Output: -3\n",
        "Explanation:\n",
        "After solving the given postfix\n",
        "expression, we have -3 as result.\n",
        "\n",
        "```"
      ],
      "metadata": {
        "id": "6KVYAem2CC_a"
      }
    },
    {
      "cell_type": "code",
      "source": [
        "def evaluatePostfixExpression(expression):\n",
        "    stack = []\n",
        "    operators = set(['+', '-', '*', '/'])\n",
        "\n",
        "    for char in expression:\n",
        "        if char not in operators:\n",
        "            stack.append(int(char))\n",
        "        else:\n",
        "            operand2 = stack.pop()\n",
        "            operand1 = stack.pop()\n",
        "\n",
        "            if char == '+':\n",
        "                result = operand1 + operand2\n",
        "            elif char == '-':\n",
        "                result = operand1 - operand2\n",
        "            elif char == '*':\n",
        "                result = operand1 * operand2\n",
        "            else:\n",
        "                result = operand1 / operand2\n",
        "\n",
        "            stack.append(result)\n",
        "\n",
        "    return stack.pop()\n"
      ],
      "metadata": {
        "id": "ah8XBohfB7Ro"
      },
      "execution_count": 27,
      "outputs": []
    },
    {
      "cell_type": "code",
      "source": [
        "expression = \"231*+9-\"\n",
        "result = evaluatePostfixExpression(expression)\n",
        "print(result)  # Output: -4"
      ],
      "metadata": {
        "colab": {
          "base_uri": "https://localhost:8080/"
        },
        "id": "ntTE3bNtCkja",
        "outputId": "78f0cfe5-8e62-4e20-a03c-c15de9b5759f"
      },
      "execution_count": 28,
      "outputs": [
        {
          "output_type": "stream",
          "name": "stdout",
          "text": [
            "-4\n"
          ]
        }
      ]
    },
    {
      "cell_type": "markdown",
      "source": [
        "\n",
        "💡 **Question 7**\n",
        "\n",
        "Design a stack that supports push, pop, top, and retrieving the minimum element in constant time.\n",
        "\n",
        "Implement the `MinStack` class:\n",
        "\n",
        "- `MinStack()` initializes the stack object.\n",
        "- `void push(int val)` pushes the element `val` onto the stack.\n",
        "- `void pop()` removes the element on the top of the stack.\n",
        "- `int top()` gets the top element of the stack.\n",
        "- `int getMin()` retrieves the minimum element in the stack.\n",
        "\n",
        "You must implement a solution with `O(1)` time complexity for each function.\n",
        "\n",
        "**Example 1:**\n",
        "\n",
        "```\n",
        "Input\n",
        "[\"MinStack\",\"push\",\"push\",\"push\",\"getMin\",\"pop\",\"top\",\"getMin\"]\n",
        "[[],[-2],[0],[-3],[],[],[],[]]\n",
        "\n",
        "Output\n",
        "[null,null,null,null,-3,null,0,-2]\n",
        "\n",
        "Explanation\n",
        "MinStack minStack = new MinStack();\n",
        "minStack.push(-2);\n",
        "minStack.push(0);\n",
        "minStack.push(-3);\n",
        "minStack.getMin(); // return -3\n",
        "minStack.pop();\n",
        "minStack.top();    // return 0\n",
        "minStack.getMin(); // return -2\n",
        "\n",
        "```"
      ],
      "metadata": {
        "id": "5Ip-M5itDJDb"
      }
    },
    {
      "cell_type": "code",
      "source": [
        "class MinStack:\n",
        "    def __init__(self):\n",
        "        self.dataStack = []\n",
        "        self.minStack = []\n",
        "\n",
        "    def push(self, val):\n",
        "        self.dataStack.append(val)\n",
        "        if not self.minStack or val <= self.minStack[-1]:\n",
        "            self.minStack.append(val)\n",
        "\n",
        "    def pop(self):\n",
        "        if self.dataStack[-1] == self.minStack[-1]:\n",
        "            self.minStack.pop()\n",
        "        self.dataStack.pop()\n",
        "\n",
        "    def top(self):\n",
        "        return self.dataStack[-1]\n",
        "\n",
        "    def getMin(self):\n",
        "        return self.minStack[-1]\n"
      ],
      "metadata": {
        "id": "dvD-ARXPCvoW"
      },
      "execution_count": 29,
      "outputs": []
    },
    {
      "cell_type": "code",
      "source": [
        "minStack = MinStack()\n",
        "minStack.push(-2)\n",
        "minStack.push(0)\n",
        "minStack.push(-3)\n",
        "print(minStack.getMin())  # Output: -3\n",
        "minStack.pop()\n",
        "print(minStack.top())     # Output: 0\n",
        "print(minStack.getMin())  # Output: -2\n"
      ],
      "metadata": {
        "colab": {
          "base_uri": "https://localhost:8080/"
        },
        "id": "kYnGjmKwDUyY",
        "outputId": "179c43ab-3927-4a2c-e24d-8290f98bd1bf"
      },
      "execution_count": 30,
      "outputs": [
        {
          "output_type": "stream",
          "name": "stdout",
          "text": [
            "-3\n",
            "0\n",
            "-2\n"
          ]
        }
      ]
    },
    {
      "cell_type": "markdown",
      "source": [
        "\n",
        "💡 **Question 8**\n",
        "\n",
        "Given `n` non-negative integers representing an elevation map where the width of each bar is `1`, compute how much water it can trap after raining.\n",
        "\n",
        "**Example 1:**\n",
        "\n",
        "!https://assets.leetcode.com/uploads/2018/10/22/rainwatertrap.png\n",
        "\n",
        "```\n",
        "Input: height = [0,1,0,2,1,0,1,3,2,1,2,1]\n",
        "Output: 6\n",
        "Explanation: The above elevation map (black section) is represented by array [0,1,0,2,1,0,1,3,2,1,2,1]. In this case,\n",
        " 6 units of rain water (blue section) are being trapped.\n",
        "\n",
        "```\n",
        "\n",
        "**Example 2:**\n",
        "\n",
        "```\n",
        "Input: height = [4,2,0,3,2,5]\n",
        "Output: 9\n",
        "\n",
        "```"
      ],
      "metadata": {
        "id": "P-5tlbF1EBrk"
      }
    },
    {
      "cell_type": "code",
      "source": [
        "def trap(height):\n",
        "    left = 0\n",
        "    right = len(height) - 1\n",
        "    leftMax = rightMax = waterTrapped = 0\n",
        "\n",
        "    while left <= right:\n",
        "        if height[left] <= height[right]:\n",
        "            leftMax = max(leftMax, height[left])\n",
        "            waterTrapped += leftMax - height[left]\n",
        "            left += 1\n",
        "        else:\n",
        "            rightMax = max(rightMax, height[right])\n",
        "            waterTrapped += rightMax - height[right]\n",
        "            right -= 1\n",
        "\n",
        "    return waterTrapped\n"
      ],
      "metadata": {
        "id": "oPIspPtyDhgT"
      },
      "execution_count": 31,
      "outputs": []
    },
    {
      "cell_type": "code",
      "source": [
        "height = [0, 1, 0, 2, 1, 0, 1, 3, 2, 1, 2, 1]\n",
        "waterTrapped = trap(height)\n",
        "print(waterTrapped)  # Output: 6\n"
      ],
      "metadata": {
        "colab": {
          "base_uri": "https://localhost:8080/"
        },
        "id": "Zl9o3OgIETZg",
        "outputId": "a314aace-39e8-4a38-de06-8d85974c6cda"
      },
      "execution_count": 32,
      "outputs": [
        {
          "output_type": "stream",
          "name": "stdout",
          "text": [
            "6\n"
          ]
        }
      ]
    },
    {
      "cell_type": "code",
      "source": [
        "height = [4,2,0,3,2,5]\n",
        "waterTrapped = trap(height)\n",
        "print(waterTrapped)"
      ],
      "metadata": {
        "colab": {
          "base_uri": "https://localhost:8080/"
        },
        "id": "d7oSMOmPEVfk",
        "outputId": "bc2ea16c-aaf1-4d53-beb2-78049e033d7b"
      },
      "execution_count": 33,
      "outputs": [
        {
          "output_type": "stream",
          "name": "stdout",
          "text": [
            "9\n"
          ]
        }
      ]
    },
    {
      "cell_type": "code",
      "source": [],
      "metadata": {
        "id": "tirhYtfJEbyO"
      },
      "execution_count": null,
      "outputs": []
    }
  ]
}