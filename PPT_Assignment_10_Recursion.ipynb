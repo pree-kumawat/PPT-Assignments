{
  "nbformat": 4,
  "nbformat_minor": 0,
  "metadata": {
    "colab": {
      "provenance": []
    },
    "kernelspec": {
      "name": "python3",
      "display_name": "Python 3"
    },
    "language_info": {
      "name": "python"
    }
  },
  "cells": [
    {
      "cell_type": "markdown",
      "source": [
        "\n",
        "💡 **Question 1**\n",
        "\n",
        "Given an integer `n`, return *`true` if it is a power of three. Otherwise, return `false`*.\n",
        "\n",
        "An integer `n` is a power of three, if there exists an integer `x` such that `n == 3x`.\n",
        "\n",
        "**Example 1:**\n",
        "\n",
        "```\n",
        "Input: n = 27\n",
        "Output: true\n",
        "Explanation: 27 = 33\n",
        "```\n",
        "\n",
        "**Example 2:**\n",
        "\n",
        "```\n",
        "Input: n = 0\n",
        "Output: false\n",
        "Explanation: There is no x where 3x = 0.\n",
        "\n",
        "```\n",
        "\n",
        "**Example 3:**\n",
        "\n",
        "```\n",
        "Input: n = -1\n",
        "Output: false\n",
        "Explanation: There is no x where 3x = (-1).\n",
        "```"
      ],
      "metadata": {
        "id": "GEAiPXEKf5iq"
      }
    },
    {
      "cell_type": "code",
      "source": [
        "def is_power_of_three(n):\n",
        "    if n <= 0:\n",
        "        return False\n",
        "\n",
        "    while n % 3 == 0:\n",
        "        n /= 3\n",
        "\n",
        "    return n == 1\n"
      ],
      "metadata": {
        "id": "UJ3vvyZof-cL"
      },
      "execution_count": 1,
      "outputs": []
    },
    {
      "cell_type": "code",
      "source": [
        "print(is_power_of_three(9))  # True\n",
        "print(is_power_of_three(27))  # True\n",
        "print(is_power_of_three(0))  # False\n",
        "print(is_power_of_three(-1))  # False\n"
      ],
      "metadata": {
        "colab": {
          "base_uri": "https://localhost:8080/"
        },
        "id": "lN8_GWz2gIRs",
        "outputId": "c0100a61-9054-4993-da09-0bf56636de0c"
      },
      "execution_count": 2,
      "outputs": [
        {
          "output_type": "stream",
          "name": "stdout",
          "text": [
            "True\n",
            "True\n",
            "False\n",
            "False\n"
          ]
        }
      ]
    },
    {
      "cell_type": "markdown",
      "source": [
        "\n",
        "💡 **Question 2**\n",
        "\n",
        "You have a list `arr` of all integers in the range `[1, n]` sorted in a strictly increasing order. Apply the following algorithm on `arr`:\n",
        "\n",
        "- Starting from left to right, remove the first number and every other number afterward until you reach the end of the list.\n",
        "- Repeat the previous step again, but this time from right to left, remove the rightmost number and every other number from the remaining numbers.\n",
        "- Keep repeating the steps again, alternating left to right and right to left, until a single number remains.\n",
        "\n",
        "Given the integer `n`, return *the last number that remains in* `arr`.\n",
        "\n",
        "**Example 1:**\n",
        "\n",
        "```\n",
        "Input: n = 9\n",
        "Output: 6\n",
        "Explanation:\n",
        "arr = [1, 2,3, 4,5, 6,7, 8,9]\n",
        "arr = [2,4, 6,8]\n",
        "arr = [2, 6]\n",
        "arr = [6]\n",
        "\n",
        "```\n",
        "\n",
        "**Example 2:**\n",
        "\n",
        "```\n",
        "Input: n = 1\n",
        "Output: 1\n",
        "\n",
        "```"
      ],
      "metadata": {
        "id": "2omtHjQ_hFd-"
      }
    },
    {
      "cell_type": "code",
      "source": [
        "def last_remaining(n):\n",
        "    # Base case: when n is 1, the remaining number is the only number in the list\n",
        "    if n == 1:\n",
        "        return 1\n",
        "\n",
        "    # For each iteration, the remaining numbers reduce by half\n",
        "    # After the first pass, we eliminate half of the numbers\n",
        "    # In the next pass, the remaining numbers will be n/2 if n is even, or (n//2 + 1) if n is odd\n",
        "    return 2 * (n // 2 + 1 - last_remaining(n // 2))\n"
      ],
      "metadata": {
        "id": "mRnOqkBwgVel"
      },
      "execution_count": 3,
      "outputs": []
    },
    {
      "cell_type": "code",
      "source": [
        "n = 9\n",
        "print(last_remaining(n))  # Output: 6\n",
        "\n",
        "n = 1\n",
        "print(last_remaining(n))  # Output: 1\n"
      ],
      "metadata": {
        "colab": {
          "base_uri": "https://localhost:8080/"
        },
        "id": "wcv1MD1chnt9",
        "outputId": "61461a73-cbca-4986-f25a-e6014611c942"
      },
      "execution_count": 5,
      "outputs": [
        {
          "output_type": "stream",
          "name": "stdout",
          "text": [
            "6\n",
            "1\n"
          ]
        }
      ]
    },
    {
      "cell_type": "markdown",
      "source": [
        "\n",
        "💡 **Question 3**\n",
        "\n",
        "****Given a set represented as a string, write a recursive code to print all subsets of it. The subsets can be printed in any order.\n",
        "\n",
        "**Example 1:**\n",
        "\n",
        "Input :  set = “abc”\n",
        "\n",
        "Output : { “”, “a”, “b”, “c”, “ab”, “ac”, “bc”, “abc”}\n",
        "\n",
        "**Example 2:**\n",
        "\n",
        "Input : set = “abcd”\n",
        "\n",
        "Output : { “”, “a” ,”ab” ,”abc” ,”abcd”, “abd” ,”ac” ,”acd”, “ad” ,”b”, “bc” ,”bcd” ,”bd” ,”c” ,”cd” ,”d” }"
      ],
      "metadata": {
        "id": "yB7_b8jkh-vt"
      }
    },
    {
      "cell_type": "code",
      "source": [
        "def print_subsets(s, current_subset, index):\n",
        "  \n",
        "    # Base case: when index reaches the end of the string\n",
        "    if index == len(s):\n",
        "        print(current_subset)\n",
        "        return\n",
        "\n",
        "    # Include the character at the current index in the subset\n",
        "    print_subsets(s, current_subset + s[index], index + 1)\n",
        "\n",
        "    # Exclude the character at the current index from the subset\n",
        "    print_subsets(s, current_subset, index + 1)\n",
        "\n",
        "\n",
        "def generate_subsets(s):\n",
        "    print_subsets(s, \"\", 0)"
      ],
      "metadata": {
        "id": "3RMp9pb_huV7"
      },
      "execution_count": 13,
      "outputs": []
    },
    {
      "cell_type": "code",
      "source": [
        "# Test example 1\n",
        "s = \"abc\"\n",
        "generate_subsets(s)\n"
      ],
      "metadata": {
        "colab": {
          "base_uri": "https://localhost:8080/"
        },
        "id": "yZzhQESUiIH1",
        "outputId": "c8a303ea-462c-47fd-93e0-eb3cae0aaf3b"
      },
      "execution_count": 14,
      "outputs": [
        {
          "output_type": "stream",
          "name": "stdout",
          "text": [
            "abc\n",
            "ab\n",
            "ac\n",
            "a\n",
            "bc\n",
            "b\n",
            "c\n",
            "\n"
          ]
        }
      ]
    },
    {
      "cell_type": "code",
      "source": [
        "# Test example 2\n",
        "s = \"abcd\"\n",
        "generate_subsets(s)\n"
      ],
      "metadata": {
        "colab": {
          "base_uri": "https://localhost:8080/"
        },
        "id": "zTPEbBVPiSBR",
        "outputId": "5b5266c9-070a-4380-ff8d-3f43eca45131"
      },
      "execution_count": 15,
      "outputs": [
        {
          "output_type": "stream",
          "name": "stdout",
          "text": [
            "abcd\n",
            "abc\n",
            "abd\n",
            "ab\n",
            "acd\n",
            "ac\n",
            "ad\n",
            "a\n",
            "bcd\n",
            "bc\n",
            "bd\n",
            "b\n",
            "cd\n",
            "c\n",
            "d\n",
            "\n"
          ]
        }
      ]
    },
    {
      "cell_type": "markdown",
      "source": [
        "\n",
        "💡 **Question 4**\n",
        "\n",
        "Given a string calculate length of the string using recursion.\n",
        "\n",
        "**Examples:**\n",
        "\n",
        "```\n",
        "Input : str = \"abcd\"\n",
        "Output :4\n",
        "\n",
        "Input : str = \"GEEKSFORGEEKS\"\n",
        "Output :13\n",
        "\n",
        "```"
      ],
      "metadata": {
        "id": "04qx-wt4i400"
      }
    },
    {
      "cell_type": "code",
      "source": [
        "def calculate_length(s):\n",
        "    # Base case: empty string\n",
        "    if s == \"\":\n",
        "        return 0\n",
        "    \n",
        "    # Remove the first character from the string and calculate the length of the remaining substring\n",
        "    remaining_length = calculate_length(s[1:])\n",
        "    \n",
        "    # Add 1 to the length of the remaining substring to account for the removed character\n",
        "    return 1 + remaining_length\n"
      ],
      "metadata": {
        "id": "NKEkcV5yiZHB"
      },
      "execution_count": 19,
      "outputs": []
    },
    {
      "cell_type": "code",
      "source": [
        "s = \"abcd\"\n",
        "print(calculate_length(s))  # Output: 13\n"
      ],
      "metadata": {
        "colab": {
          "base_uri": "https://localhost:8080/"
        },
        "id": "CNPQ9AwMjFW5",
        "outputId": "13bfbf2e-48c7-470d-943d-c39e0468918e"
      },
      "execution_count": 21,
      "outputs": [
        {
          "output_type": "stream",
          "name": "stdout",
          "text": [
            "4\n"
          ]
        }
      ]
    },
    {
      "cell_type": "code",
      "source": [
        "s = \"GEEKSFORGEEKS\"\n",
        "print(calculate_length(s))"
      ],
      "metadata": {
        "colab": {
          "base_uri": "https://localhost:8080/"
        },
        "id": "f-9-KO2bjSkv",
        "outputId": "0958e35a-b365-461f-bf5d-7fa6fe389771"
      },
      "execution_count": 22,
      "outputs": [
        {
          "output_type": "stream",
          "name": "stdout",
          "text": [
            "13\n"
          ]
        }
      ]
    },
    {
      "cell_type": "markdown",
      "source": [
        "\n",
        "💡 **Question 5**\n",
        "\n",
        "We are given a string S, we need to find count of all contiguous substrings starting and ending with same character.\n",
        "\n",
        "**Examples :**\n",
        "\n",
        "```\n",
        "Input  : S = \"abcab\"\n",
        "Output : 7\n",
        "There are 15 substrings of \"abcab\"\n",
        "a, ab, abc, abca, abcab, b, bc, bca\n",
        "bcab, c, ca, cab, a, ab, b\n",
        "Out of the above substrings, there\n",
        "are 7 substrings : a, abca, b, bcab,\n",
        "c, a and b.\n",
        "\n",
        "Input  : S = \"aba\"\n",
        "Output : 4\n",
        "The substrings are a, b, a and aba\n",
        "\n",
        "```"
      ],
      "metadata": {
        "id": "HkfSIvxUjo2o"
      }
    },
    {
      "cell_type": "code",
      "source": [
        "def count_contiguous_substrings(S):\n",
        "    count = 0\n",
        "\n",
        "    for i in range(len(S)):\n",
        "        count += 1  # Substring of length 1 that starts and ends with the same character\n",
        "\n",
        "        j = i + 1\n",
        "        while j < len(S):\n",
        "            if S[j] == S[i]:\n",
        "                count += 1\n",
        "            else:\n",
        "                break\n",
        "            j += 1\n",
        "\n",
        "        k = i + 1\n",
        "        while k < len(S):\n",
        "            if S[k] == S[i]:\n",
        "                count += (k - i - 1)  # Add the count of substrings between i and k\n",
        "            k += 1\n",
        "\n",
        "    return count\n"
      ],
      "metadata": {
        "id": "4zvHxQDckFVS"
      },
      "execution_count": 26,
      "outputs": []
    },
    {
      "cell_type": "code",
      "source": [
        "S = \"aba\"\n",
        "print(count_contiguous_substrings(S))  # Output: 9\n"
      ],
      "metadata": {
        "colab": {
          "base_uri": "https://localhost:8080/"
        },
        "id": "S1alx-5FkZGL",
        "outputId": "278e6355-cf2d-4c86-8626-15e86708c854"
      },
      "execution_count": 29,
      "outputs": [
        {
          "output_type": "stream",
          "name": "stdout",
          "text": [
            "4\n"
          ]
        }
      ]
    },
    {
      "cell_type": "markdown",
      "source": [
        "\n",
        "💡 **Question 6**\n",
        "\n",
        "The [tower of Hanoi](https://en.wikipedia.org/wiki/Tower_of_Hanoi) is a famous puzzle where we have three rods and **N** disks. The objective of the puzzle is to move the entire stack to another rod. You are given the number of discs **N**. Initially, these discs are in the rod 1. You need to print all the steps of discs movement so that all the discs reach the 3rd rod. Also, you need to find the total moves.**Note:** The discs are arranged such that the **top disc is numbered 1** and the **bottom-most disc is numbered N**. Also, all the discs have **different sizes** and a bigger disc **cannot** be put on the top of a smaller disc. Refer the provided link to get a better clarity about the puzzle.\n",
        "\n",
        "**Example 1:**\n",
        "\n",
        "```\n",
        "\n",
        "Input:\n",
        "N = 2\n",
        "Output:\n",
        "move disk 1 from rod 1 to rod 2\n",
        "move disk 2 from rod 1 to rod 3\n",
        "move disk 1 from rod 2 to rod 3\n",
        "3\n",
        "Explanation:For N=2 , steps will be\n",
        "as follows in the example and total\n",
        "3 steps will be taken.\n",
        "\n",
        "```\n",
        "\n",
        "Example 2:\n",
        "\n",
        "```\n",
        "Input:\n",
        "N = 3\n",
        "Output:\n",
        "move disk 1 from rod 1 to rod 3\n",
        "move disk 2 from rod 1 to rod 2\n",
        "move disk 1 from rod 3 to rod 2\n",
        "move disk 3 from rod 1 to rod 3\n",
        "move disk 1 from rod 2 to rod 1\n",
        "move disk 2 from rod 2 to rod 3\n",
        "move disk 1 from rod 1 to rod 3\n",
        "7\n",
        "Explanation:For N=3 , steps will be\n",
        "as follows in the example and total\n",
        "7 steps will be taken.\n",
        "\n",
        "```"
      ],
      "metadata": {
        "id": "omhaZa2qkwzu"
      }
    },
    {
      "cell_type": "code",
      "source": [
        "def tower_of_hanoi(n, source, destination, auxiliary):\n",
        "    if n == 1:\n",
        "        print(\"Move disc 1 from rod\", source, \"to rod\", destination)\n",
        "        return 1\n",
        "\n",
        "    moves = 0\n",
        "\n",
        "    moves += tower_of_hanoi(n - 1, source, auxiliary, destination)\n",
        "    print(\"Move disc\", n, \"from rod\", source, \"to rod\", destination)\n",
        "    moves += 1\n",
        "    moves += tower_of_hanoi(n - 1, auxiliary, destination, source)\n",
        "\n",
        "    return moves\n",
        "\n",
        "\n",
        "# Test the tower_of_hanoi function\n",
        "n = 3\n",
        "source_rod = 1\n",
        "destination_rod = 3\n",
        "auxiliary_rod = 2\n",
        "total_moves = tower_of_hanoi(n, source_rod, destination_rod, auxiliary_rod)\n",
        "print(\"Total moves:\", total_moves)\n"
      ],
      "metadata": {
        "colab": {
          "base_uri": "https://localhost:8080/"
        },
        "id": "rEb8gQZSkbOk",
        "outputId": "3544a816-a1ae-4889-fcda-5a8a87245488"
      },
      "execution_count": 30,
      "outputs": [
        {
          "output_type": "stream",
          "name": "stdout",
          "text": [
            "Move disc 1 from rod 1 to rod 3\n",
            "Move disc 2 from rod 1 to rod 2\n",
            "Move disc 1 from rod 3 to rod 2\n",
            "Move disc 3 from rod 1 to rod 3\n",
            "Move disc 1 from rod 2 to rod 1\n",
            "Move disc 2 from rod 2 to rod 3\n",
            "Move disc 1 from rod 1 to rod 3\n",
            "Total moves: 7\n"
          ]
        }
      ]
    },
    {
      "cell_type": "markdown",
      "source": [
        "\n",
        "💡 **Question 7**\n",
        "\n",
        "Given a string **str**, the task is to print all the permutations of **str**. A **permutation** is an arrangement of all or part of a set of objects, with regard to the order of the arrangement. For instance, the words ‘bat’ and ‘tab’ represents two distinct permutation (or arrangements) of a similar three letter word.\n",
        "\n",
        "**Examples:**\n",
        "\n",
        "> Input: str = “cd”\n",
        "> \n",
        "> \n",
        "> **Output:** cd dc\n",
        "> \n",
        "> **Input:** str = “abb”\n",
        "> \n",
        "> **Output:** abb abb bab bba bab bba\n"
      ],
      "metadata": {
        "id": "p9KXfZniloZg"
      }
    },
    {
      "cell_type": "code",
      "source": [
        "def permute(s, left, right):\n",
        "    if left == right:\n",
        "        print(\"\".join(s))\n",
        "    else:\n",
        "        for i in range(left, right + 1):\n",
        "            s[left], s[i] = s[i], s[left]  # Swap the characters\n",
        "            permute(s, left + 1, right)  # Recursively permute the remaining characters\n",
        "            s[left], s[i] = s[i], s[left]  # Revert the swap to backtrack\n",
        "\n",
        "\n",
        "def print_permutations(str):\n",
        "    n = len(str)\n",
        "    s = list(str)\n",
        "    permute(s, 0, n - 1)\n",
        "\n",
        "\n",
        "# Test case:\n",
        "str = \"cd\"\n",
        "print_permutations(str)\n"
      ],
      "metadata": {
        "colab": {
          "base_uri": "https://localhost:8080/"
        },
        "id": "7bx5zrXllV3s",
        "outputId": "a3136423-38e5-40c1-d6b9-e9003857dabd"
      },
      "execution_count": 31,
      "outputs": [
        {
          "output_type": "stream",
          "name": "stdout",
          "text": [
            "cd\n",
            "dc\n"
          ]
        }
      ]
    },
    {
      "cell_type": "code",
      "source": [
        "str = \"abb\"\n",
        "print_permutations(str)"
      ],
      "metadata": {
        "colab": {
          "base_uri": "https://localhost:8080/"
        },
        "id": "FIm72Rj3l4ba",
        "outputId": "e74b6045-bcef-40cb-8693-b87114b149fb"
      },
      "execution_count": 32,
      "outputs": [
        {
          "output_type": "stream",
          "name": "stdout",
          "text": [
            "abb\n",
            "abb\n",
            "bab\n",
            "bba\n",
            "bba\n",
            "bab\n"
          ]
        }
      ]
    },
    {
      "cell_type": "markdown",
      "source": [
        "\n",
        "💡 **Question 8**\n",
        "\n",
        "Given a string, count total number of consonants in it. A consonant is an English alphabet character that is not vowel (a, e, i, o and u). Examples of constants are b, c, d, f, and g.\n",
        "\n",
        "**Examples :**\n",
        "\n",
        "```\n",
        "Input : abc de\n",
        "Output : 3\n",
        "There are three consonants b, c and d.\n",
        "\n",
        "Input : geeksforgeeks portal\n",
        "Output : 12\n",
        "\n",
        "```\n",
        "\n"
      ],
      "metadata": {
        "id": "318rEYdamg9G"
      }
    },
    {
      "cell_type": "code",
      "source": [
        "def count_consonants(s):\n",
        "    consonants = \"bcdfghjklmnpqrstvwxyz\"  # List of consonants\n",
        "\n",
        "    count = 0\n",
        "    for char in s:\n",
        "        if char.lower() in consonants:\n",
        "            count += 1\n",
        "\n",
        "    return count\n",
        "\n",
        "\n",
        "# Test case:\n",
        "string = \"abc de\"\n",
        "print(count_consonants(string)) \n"
      ],
      "metadata": {
        "colab": {
          "base_uri": "https://localhost:8080/"
        },
        "id": "hA9HAOmjl8KS",
        "outputId": "36c313eb-8ed3-45fe-aa69-c1a5d09b87ce"
      },
      "execution_count": 34,
      "outputs": [
        {
          "output_type": "stream",
          "name": "stdout",
          "text": [
            "3\n"
          ]
        }
      ]
    },
    {
      "cell_type": "code",
      "source": [
        "string = \"geeksforgeeks portal\"\n",
        "print(count_consonants(string)) "
      ],
      "metadata": {
        "colab": {
          "base_uri": "https://localhost:8080/"
        },
        "id": "S9kIjVpym27O",
        "outputId": "7cc8c6a7-4d4a-427a-edf1-aa198c027808"
      },
      "execution_count": 35,
      "outputs": [
        {
          "output_type": "stream",
          "name": "stdout",
          "text": [
            "12\n"
          ]
        }
      ]
    },
    {
      "cell_type": "code",
      "source": [],
      "metadata": {
        "id": "76HJyjXlnLou"
      },
      "execution_count": null,
      "outputs": []
    }
  ]
}