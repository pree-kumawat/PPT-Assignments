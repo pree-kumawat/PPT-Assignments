{
  "nbformat": 4,
  "nbformat_minor": 0,
  "metadata": {
    "colab": {
      "provenance": []
    },
    "kernelspec": {
      "name": "python3",
      "display_name": "Python 3"
    },
    "language_info": {
      "name": "python"
    }
  },
  "cells": [
    {
      "cell_type": "markdown",
      "source": [
        "\n",
        "💡 1. **Roman to Integer**\n",
        "\n",
        "Roman numerals are represented by seven different symbols: `I`, `V`, `X`, `L`, `C`, `D` and `M`.\n",
        "\n",
        "```\n",
        "SymbolValue\n",
        "I             1\n",
        "V             5\n",
        "X             10\n",
        "L             50\n",
        "C             100\n",
        "D             500\n",
        "M             1000\n",
        "```\n",
        "\n",
        "For example, `2` is written as `II` in Roman numeral, just two ones added together. `12` is written as `XII`, which is simply `X + II`. The number `27` is written as `XXVII`, which is `XX + V + II`.\n",
        "\n",
        "Roman numerals are usually written largest to smallest from left to right. However, the numeral for four is not `IIII`. Instead, the number four is written as `IV`. Because the one is before the five we subtract it making four. The same principle applies to the number nine, which is written as `IX`. There are six instances where subtraction is used:\n",
        "\n",
        "- `I` can be placed before `V` (5) and `X` (10) to make 4 and 9.\n",
        "- `X` can be placed before `L` (50) and `C` (100) to make 40 and 90.\n",
        "- `C` can be placed before `D` (500) and `M` (1000) to make 400 and 900.\n",
        "\n",
        "Given a roman numeral, convert it to an integer.\n",
        "\n",
        "**Example 1:**\n",
        "\n",
        "```\n",
        "Input: s = \"III\"\n",
        "Output: 3\n",
        "Explanation: III = 3.\n",
        "```\n",
        "\n",
        "**Example 2:**\n",
        "\n",
        "```\n",
        "Input: s = \"LVIII\"\n",
        "Output: 58\n",
        "Explanation: L = 50, V= 5, III = 3.\n",
        "```\n",
        "\n",
        "**Constraints:**\n",
        "\n",
        "- `1 <= s.length <= 15`\n",
        "- `s` contains only the characters `('I', 'V', 'X', 'L', 'C', 'D', 'M')`.\n",
        "- It is **guaranteed** that `s` is a valid roman numeral in the range `[1, 3999]`.\n"
      ],
      "metadata": {
        "id": "Nbf-KyWvIitl"
      }
    },
    {
      "cell_type": "code",
      "execution_count": 1,
      "metadata": {
        "id": "KJH2jhH1IfAS"
      },
      "outputs": [],
      "source": [
        "def romanToInt(s):\n",
        "    roman_values = {\n",
        "        'I': 1,\n",
        "        'V': 5,\n",
        "        'X': 10,\n",
        "        'L': 50,\n",
        "        'C': 100,\n",
        "        'D': 500,\n",
        "        'M': 1000\n",
        "    }\n",
        "\n",
        "    result = 0\n",
        "    n = len(s)\n",
        "\n",
        "    for i in range(n):\n",
        "        if i == n - 1 or roman_values[s[i]] >= roman_values[s[i + 1]]:\n",
        "            result += roman_values[s[i]]\n",
        "        else:\n",
        "            result -= roman_values[s[i]]\n",
        "\n",
        "    return result\n"
      ]
    },
    {
      "cell_type": "code",
      "source": [
        "print(romanToInt(\"III\"))  # Output: 3\n",
        "print(romanToInt(\"LVIII\"))  # Output: 58\n"
      ],
      "metadata": {
        "colab": {
          "base_uri": "https://localhost:8080/"
        },
        "id": "vdzWp-NmI37w",
        "outputId": "dd7105ec-a659-453e-defd-9e66d91fe35c"
      },
      "execution_count": 2,
      "outputs": [
        {
          "output_type": "stream",
          "name": "stdout",
          "text": [
            "3\n",
            "58\n"
          ]
        }
      ]
    },
    {
      "cell_type": "code",
      "source": [],
      "metadata": {
        "id": "pep_Tx-rJhfL"
      },
      "execution_count": null,
      "outputs": []
    },
    {
      "cell_type": "markdown",
      "source": [
        "\n",
        "💡 2. **Longest Substring Without Repeating Characters**\n",
        "\n",
        "Given a string `s`, find the length of the **longest substring** without repeating characters.\n",
        "\n",
        "**Example 1:**\n",
        "\n",
        "```\n",
        "Input: s = \"abcabcbb\"\n",
        "Output: 3\n",
        "Explanation: The answer is \"abc\", with the length of 3.\n",
        "```\n",
        "\n",
        "**Example 2:**\n",
        "\n",
        "```\n",
        "Input: s = \"bbbbb\"\n",
        "Output: 1\n",
        "Explanation: The answer is \"b\", with the length of 1.\n",
        "```\n",
        "\n",
        "**Example 3:**\n",
        "\n",
        "```\n",
        "Input: s = \"pwwkew\"\n",
        "Output: 3\n",
        "Explanation: The answer is \"wke\", with the length of 3.\n",
        "Notice that the answer must be a substring, \"pwke\" is a subsequence and not a substring.\n",
        "```\n",
        "\n",
        "**Constraints:**\n",
        "\n",
        "- `0 <= s.length <= 50000`\n",
        "- `s` consists of English letters, digits, symbols and spaces.\n"
      ],
      "metadata": {
        "id": "RMf2PLi0I4Xe"
      }
    },
    {
      "cell_type": "code",
      "source": [
        "def lengthOfLongestSubstring(s):\n",
        "    n = len(s)\n",
        "    seen = set()\n",
        "    max_length = 0\n",
        "    left = 0\n",
        "    right = 0\n",
        "\n",
        "    while right < n:\n",
        "        if s[right] not in seen:\n",
        "            seen.add(s[right])\n",
        "            max_length = max(max_length, right - left + 1)\n",
        "            right += 1\n",
        "        else:\n",
        "            seen.remove(s[left])\n",
        "            left += 1\n",
        "\n",
        "    return max_length\n"
      ],
      "metadata": {
        "id": "HVn-Et8jI7n0"
      },
      "execution_count": 3,
      "outputs": []
    },
    {
      "cell_type": "code",
      "source": [
        "print(lengthOfLongestSubstring(\"abcabcbb\"))  # Output: 3\n",
        "print(lengthOfLongestSubstring(\"bbbbb\"))  # Output: 1\n",
        "print(lengthOfLongestSubstring(\"pwwkew\"))  # Output: 3\n"
      ],
      "metadata": {
        "colab": {
          "base_uri": "https://localhost:8080/"
        },
        "id": "ILPbII_-Jp4j",
        "outputId": "d3232ea5-668c-4c3f-81e3-d345cbf46a71"
      },
      "execution_count": 4,
      "outputs": [
        {
          "output_type": "stream",
          "name": "stdout",
          "text": [
            "3\n",
            "1\n",
            "3\n"
          ]
        }
      ]
    },
    {
      "cell_type": "code",
      "source": [],
      "metadata": {
        "id": "OHtvvQOvJ4lZ"
      },
      "execution_count": null,
      "outputs": []
    },
    {
      "cell_type": "markdown",
      "source": [
        "\n",
        "💡 3. **Majority Element**\n",
        "\n",
        "Given an array `nums` of size `n`, return *the majority element*.\n",
        "\n",
        "The majority element is the element that appears more than `⌊n / 2⌋` times. You may assume that the majority element always exists in the array.\n",
        "\n",
        "**Example 1:**\n",
        "\n",
        "```\n",
        "Input: nums = [3,2,3]\n",
        "Output: 3\n",
        "```\n",
        "\n",
        "**Example 2:**\n",
        "\n",
        "```\n",
        "Input: nums = [2,2,1,1,1,2,2]\n",
        "Output: 2\n",
        "```\n",
        "\n",
        "**Constraints:**\n",
        "\n",
        "- `n == nums.length`\n",
        "- `1 <= n <= 5 * 10^4`\n",
        "- `-10^9 <= nums[i] <= 10^9`"
      ],
      "metadata": {
        "id": "-yuQ4H0jJqTd"
      }
    },
    {
      "cell_type": "code",
      "source": [
        "def majorityElement(nums):\n",
        "    majority = nums[0]\n",
        "    count = 1\n",
        "\n",
        "    for i in range(1, len(nums)):\n",
        "        if count == 0:\n",
        "            majority = nums[i]\n",
        "            count = 1\n",
        "        elif nums[i] == majority:\n",
        "            count += 1\n",
        "        else:\n",
        "            count -= 1\n",
        "\n",
        "    return majority\n"
      ],
      "metadata": {
        "id": "53cGHdPcJwPj"
      },
      "execution_count": 5,
      "outputs": []
    },
    {
      "cell_type": "code",
      "source": [
        "print(majorityElement([3, 2, 3]))  # Output: 3\n",
        "print(majorityElement([2, 2, 1, 1, 1, 2, 2]))  # Output: 2"
      ],
      "metadata": {
        "colab": {
          "base_uri": "https://localhost:8080/"
        },
        "id": "nsZha3kuKAJD",
        "outputId": "a0237061-7c11-45d9-d506-99ec3d23174d"
      },
      "execution_count": 6,
      "outputs": [
        {
          "output_type": "stream",
          "name": "stdout",
          "text": [
            "3\n",
            "2\n"
          ]
        }
      ]
    },
    {
      "cell_type": "code",
      "source": [],
      "metadata": {
        "id": "KtpufsWvKWXL"
      },
      "execution_count": null,
      "outputs": []
    },
    {
      "cell_type": "markdown",
      "source": [
        "\n",
        "💡 4. **Group Anagram**\n",
        "\n",
        "Given an array of strings `strs`, group **the anagrams** together. You can return the answer in **any order**.\n",
        "\n",
        "An **Anagram** is a word or phrase formed by rearranging the letters of a different word or phrase, typically using all the original letters exactly once.\n",
        "\n",
        "**Example 1:**\n",
        "\n",
        "```\n",
        "Input: strs = [\"eat\",\"tea\",\"tan\",\"ate\",\"nat\",\"bat\"]\n",
        "Output: [[\"bat\"],[\"nat\",\"tan\"],[\"ate\",\"eat\",\"tea\"]]\n",
        "```\n",
        "\n",
        "**Example 2:**\n",
        "\n",
        "```\n",
        "Input: strs = [\"\"]\n",
        "Output: [[\"\"]]\n",
        "```\n",
        "\n",
        "**Example 3:**\n",
        "\n",
        "```\n",
        "Input: strs = [\"a\"]\n",
        "Output: [[\"a\"]]\n",
        "```\n",
        "\n",
        "**Constraints:**\n",
        "\n",
        "- `1 <= strs.length <= 10000`\n",
        "- `0 <= strs[i].length <= 100`\n",
        "- `strs[i]` consists of lowercase English letters.\n"
      ],
      "metadata": {
        "id": "9hDPHs-TKA9p"
      }
    },
    {
      "cell_type": "code",
      "source": [
        "from collections import defaultdict\n",
        "\n",
        "def groupAnagrams(strs):\n",
        "    anagram_groups = defaultdict(list)\n",
        "\n",
        "    for s in strs:\n",
        "        sorted_str = ''.join(sorted(s))\n",
        "        anagram_groups[sorted_str].append(s)\n",
        "\n",
        "    return list(anagram_groups.values())\n"
      ],
      "metadata": {
        "id": "19WyvciBKDpk"
      },
      "execution_count": 8,
      "outputs": []
    },
    {
      "cell_type": "code",
      "source": [
        "print(groupAnagrams([\"eat\", \"tea\", \"tan\", \"ate\", \"nat\", \"bat\"]))  # Output: [[\"eat\", \"tea\", \"ate\"], [\"tan\", \"nat\"], [\"bat\"]]\n",
        "print(groupAnagrams([\"\"]))           # Output: [[\"\"]]\n",
        "print(groupAnagrams([\"a\"]))         # Output: [[\"a\"]]"
      ],
      "metadata": {
        "colab": {
          "base_uri": "https://localhost:8080/"
        },
        "id": "hK9pvFNNKr_g",
        "outputId": "94acab44-435a-432f-f4fa-ccfee08468f4"
      },
      "execution_count": 11,
      "outputs": [
        {
          "output_type": "stream",
          "name": "stdout",
          "text": [
            "[['eat', 'tea', 'ate'], ['tan', 'nat'], ['bat']]\n",
            "[['']]\n",
            "[['a']]\n"
          ]
        }
      ]
    },
    {
      "cell_type": "code",
      "source": [],
      "metadata": {
        "id": "LDK10pKILQbY"
      },
      "execution_count": null,
      "outputs": []
    },
    {
      "cell_type": "markdown",
      "source": [
        "\n",
        "💡 5. **Ugly Numbers**\n",
        "\n",
        "An **ugly number** is a positive integer whose prime factors are limited to `2`, `3`, and `5`.\n",
        "\n",
        "Given an integer `n`, return *the* `nth` ***ugly number***.\n",
        "\n",
        "**Example 1:**\n",
        "\n",
        "```\n",
        "Input: n = 10\n",
        "Output: 12\n",
        "Explanation: [1, 2, 3, 4, 5, 6, 8, 9, 10, 12] is the sequence of the first 10 ugly numbers.\n",
        "```\n",
        "\n",
        "**Example 2:**\n",
        "\n",
        "```\n",
        "Input: n = 1\n",
        "Output: 1\n",
        "Explanation: 1 has no prime factors, therefore all of its prime factors are limited to 2, 3, and 5.\n",
        "```\n",
        "\n",
        "**Constraints:**\n",
        "\n",
        "- `1 <= n <= 1690`\n"
      ],
      "metadata": {
        "id": "Coz4L5U3KkJv"
      }
    },
    {
      "cell_type": "code",
      "source": [
        "def nthUglyNumber(n):\n",
        "    ugly = [0] * n\n",
        "    ugly[0] = 1\n",
        "    p2 = p3 = p5 = 0\n",
        "\n",
        "    for i in range(1, n):\n",
        "        ugly[i] = min(ugly[p2] * 2, ugly[p3] * 3, ugly[p5] * 5)\n",
        "        if ugly[i] == ugly[p2] * 2:\n",
        "            p2 += 1\n",
        "        if ugly[i] == ugly[p3] * 3:\n",
        "            p3 += 1\n",
        "        if ugly[i] == ugly[p5] * 5:\n",
        "            p5 += 1\n",
        "\n",
        "    return ugly[n - 1]"
      ],
      "metadata": {
        "id": "Ay_qhydLKmp_"
      },
      "execution_count": 12,
      "outputs": []
    },
    {
      "cell_type": "code",
      "source": [
        "print(nthUglyNumber(10))  # Output: 12\n",
        "print(nthUglyNumber(1))  # Output: 1"
      ],
      "metadata": {
        "colab": {
          "base_uri": "https://localhost:8080/"
        },
        "id": "DvNHvmhuLZRS",
        "outputId": "ae4cb7ea-437a-412b-d3bf-e1b296514bad"
      },
      "execution_count": 13,
      "outputs": [
        {
          "output_type": "stream",
          "name": "stdout",
          "text": [
            "12\n",
            "1\n"
          ]
        }
      ]
    },
    {
      "cell_type": "code",
      "source": [],
      "metadata": {
        "id": "Y1JY410zLxS8"
      },
      "execution_count": null,
      "outputs": []
    },
    {
      "cell_type": "markdown",
      "source": [
        "\n",
        "💡 6. **Top K Frequent Words**\n",
        "\n",
        "Given an array of strings `words` and an integer `k`, return *the* `k` *most frequent strings*.\n",
        "\n",
        "Return the answer **sorted** by **the frequency** from highest to lowest. Sort the words with the same frequency by their **lexicographical order**.\n",
        "\n",
        "**Example 1:**\n",
        "\n",
        "```\n",
        "Input: words = [\"i\",\"love\",\"leetcode\",\"i\",\"love\",\"coding\"], k = 2\n",
        "Output: [\"i\",\"love\"]\n",
        "Explanation: \"i\" and \"love\" are the two most frequent words.\n",
        "Note that \"i\" comes before \"love\" due to a lower alphabetical order.\n",
        "```\n",
        "\n",
        "**Example 2:**\n",
        "\n",
        "```\n",
        "Input: words = [\"the\",\"day\",\"is\",\"sunny\",\"the\",\"the\",\"the\",\"sunny\",\"is\",\"is\"], k = 4\n",
        "Output: [\"the\",\"is\",\"sunny\",\"day\"]\n",
        "Explanation: \"the\", \"is\", \"sunny\" and \"day\" are the four most frequent words, with the number of occurrence being 4, 3, 2 and 1 respectively.\n",
        "```\n",
        "\n",
        "**Constraints:**\n",
        "\n",
        "- `1 <= words.length <= 500`\n",
        "- `1 <= words[i].length <= 10`\n",
        "- `words[i]` consists of lowercase English letters.\n",
        "- `k` is in the range `[1, The number of **unique** words[i]]`\n"
      ],
      "metadata": {
        "id": "fDnE5ln4LZv-"
      }
    },
    {
      "cell_type": "code",
      "source": [
        "def topKFrequent(words, k):\n",
        "    word_count = {}\n",
        "\n",
        "    for word in words:\n",
        "        word_count[word] = word_count.get(word, 0) + 1\n",
        "\n",
        "    sorted_words = sorted(word_count.keys(), key=lambda x: (-word_count[x], x))\n",
        "\n",
        "    return sorted_words[:k]\n"
      ],
      "metadata": {
        "id": "t4D-PA67QQNR"
      },
      "execution_count": 16,
      "outputs": []
    },
    {
      "cell_type": "code",
      "source": [
        "print(topKFrequent([\"i\", \"love\", \"leetcode\", \"i\", \"love\", \"coding\"], 2))\n",
        "# Output: [\"i\", \"love\"]\n",
        "\n",
        "print(topKFrequent([\"the\", \"day\", \"is\", \"sunny\", \"the\", \"the\", \"the\", \"sunny\", \"is\", \"is\"], 4))\n",
        "# Output: [\"the\", \"is\", \"sunny\", \"day\"]"
      ],
      "metadata": {
        "colab": {
          "base_uri": "https://localhost:8080/"
        },
        "id": "f7jDJxLNQUKu",
        "outputId": "0c8feff4-9e99-4715-c960-03903f46db3a"
      },
      "execution_count": 18,
      "outputs": [
        {
          "output_type": "stream",
          "name": "stdout",
          "text": [
            "['i', 'love']\n",
            "['the', 'is', 'sunny', 'day']\n"
          ]
        }
      ]
    },
    {
      "cell_type": "code",
      "source": [],
      "metadata": {
        "id": "9ghnaXJwRneO"
      },
      "execution_count": null,
      "outputs": []
    },
    {
      "cell_type": "markdown",
      "source": [
        "\n",
        "💡 7. **Sliding Window Maximum**\n",
        "\n",
        "You are given an array of integers `nums`, there is a sliding window of size `k` which is moving from the very left of the array to the very right. You can only see the `k` numbers in the window. Each time the sliding window moves right by one position.\n",
        "\n",
        "Return *the max sliding window*.\n",
        "\n",
        "**Example 1:**\n",
        "\n",
        "```\n",
        "Input: nums = [1,3,-1,-3,5,3,6,7], k = 3\n",
        "Output: [3,3,5,5,6,7]\n",
        "Explanation:\n",
        "Window position                Max\n",
        "---------------               -----\n",
        "[1  3  -1] -3  5  3  6 7         3\n",
        " 1 [3  -1  -3] 5  3  6 7         3\n",
        " 1  3 [-1  -3  5] 3  6 7         5\n",
        " 1  3  -1 [-3  5  3] 6 7         5\n",
        " 1  3  -1  -3 [5  3  6]7         6\n",
        " 1  3  -1  -3  5 [3  6  7]       7\n",
        "```\n",
        "\n",
        "**Example 2:**\n",
        "\n",
        "```\n",
        "Input: nums = [1], k = 1\n",
        "Output: [1]\n",
        "```\n",
        "\n",
        "**Constraints:**\n",
        "\n",
        "- `1 <= nums.length <= 100000`\n",
        "- -`10000 <= nums[i] <= 10000`\n",
        "- `1 <= k <= nums.length`"
      ],
      "metadata": {
        "id": "nNaZ2vRAL9Nt"
      }
    },
    {
      "cell_type": "code",
      "source": [
        "from collections import deque\n",
        "\n",
        "def maxSlidingWindow(nums, k):\n",
        "    n = len(nums)\n",
        "    window = deque()\n",
        "    result = []\n",
        "\n",
        "    for i in range(n):\n",
        "        while window and nums[window[-1]] <= nums[i]:\n",
        "            window.pop()\n",
        "\n",
        "        window.append(i)\n",
        "\n",
        "        if window[0] <= i - k:\n",
        "            window.popleft()\n",
        "\n",
        "        if i >= k - 1:\n",
        "            result.append(nums[window[0]])\n",
        "\n",
        "    return result\n"
      ],
      "metadata": {
        "id": "HEWZv0vVMAan"
      },
      "execution_count": 19,
      "outputs": []
    },
    {
      "cell_type": "code",
      "source": [
        "print(maxSlidingWindow([1, 3, -1, -3, 5, 3, 6, 7], 3))\n",
        "# Output: [3, 3, 5, 5, 6, 7]\n",
        "\n",
        "print(maxSlidingWindow([1],1))\n",
        "# Output: [1]"
      ],
      "metadata": {
        "colab": {
          "base_uri": "https://localhost:8080/"
        },
        "id": "bsAJcY3KMJeB",
        "outputId": "20a4acb2-3ecd-4e3c-a74b-3fb511d02a68"
      },
      "execution_count": 23,
      "outputs": [
        {
          "output_type": "stream",
          "name": "stdout",
          "text": [
            "[3, 3, 5, 5, 6, 7]\n",
            "[1]\n"
          ]
        }
      ]
    },
    {
      "cell_type": "code",
      "source": [],
      "metadata": {
        "id": "AjrQ4NFwRolw"
      },
      "execution_count": null,
      "outputs": []
    },
    {
      "cell_type": "markdown",
      "source": [
        "\n",
        "💡 8. **Find K Closest Elements**\n",
        "\n",
        "Given a **sorted** integer array `arr`, two integers `k` and `x`, return the `k` closest integers to `x` in the array. The result should also be sorted in ascending order.\n",
        "\n",
        "An integer `a` is closer to `x` than an integer `b` if:\n",
        "\n",
        "- `|a - x| < |b - x|`, or\n",
        "- `|a - x| == |b - x|` and `a < b`\n",
        "\n",
        "**Example 1:**\n",
        "\n",
        "```\n",
        "Input: arr = [1,2,3,4,5], k = 4, x = 3\n",
        "Output: [1,2,3,4]\n",
        "```\n",
        "\n",
        "**Example 2:**\n",
        "\n",
        "```\n",
        "Input: arr = [1,2,3,4,5], k = 4, x = -1\n",
        "Output: [1,2,3,4]\n",
        "```\n",
        "\n",
        "**Constraints:**\n",
        "\n",
        "- `1 <= k <= arr.length`\n",
        "- `1 <= arr.length <= 10000`\n",
        "- `arr` is sorted in **ascending** order.\n",
        "- -`10000 <= arr[i], x <= 10000`\n"
      ],
      "metadata": {
        "id": "SDgrofFBMJzp"
      }
    },
    {
      "cell_type": "code",
      "source": [
        "def findClosestElements(arr, k, x):\n",
        "    n = len(arr)\n",
        "    left = 0\n",
        "    right = n - 1\n",
        "\n",
        "    while left < right:\n",
        "        mid = left + (right - left) // 2\n",
        "        if arr[mid] < x:\n",
        "            left = mid + 1\n",
        "        else:\n",
        "            right = mid\n",
        "\n",
        "    low = left - 1\n",
        "    high = left\n",
        "\n",
        "    while k > 0:\n",
        "        if low >= 0 and (high >= n or abs(arr[low] - x) <= abs(arr[high] - x)):\n",
        "            low -= 1\n",
        "        else:\n",
        "            high += 1\n",
        "        k -= 1\n",
        "\n",
        "    return arr[low + 1:high]\n"
      ],
      "metadata": {
        "id": "dKgyML4nMMi4"
      },
      "execution_count": 24,
      "outputs": []
    },
    {
      "cell_type": "code",
      "source": [
        "print(findClosestElements([1, 2, 3, 4, 5], 4, 3))\n",
        "# Output: [1, 2, 3, 4]\n",
        "\n",
        "print(findClosestElements([1, 2, 3, 4, 5], 4, -1))\n",
        "# Output: [1, 2, 3, 4]\n"
      ],
      "metadata": {
        "colab": {
          "base_uri": "https://localhost:8080/"
        },
        "id": "b1yF93gZR8R1",
        "outputId": "6b69894a-59be-45b9-f31f-46d3818150ea"
      },
      "execution_count": 25,
      "outputs": [
        {
          "output_type": "stream",
          "name": "stdout",
          "text": [
            "[1, 2, 3, 4]\n",
            "[1, 2, 3, 4]\n"
          ]
        }
      ]
    },
    {
      "cell_type": "code",
      "source": [],
      "metadata": {
        "id": "LSrdjrOrR_No"
      },
      "execution_count": null,
      "outputs": []
    }
  ]
}